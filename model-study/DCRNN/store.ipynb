{
 "cells": [
  {
   "cell_type": "code",
   "execution_count": 124,
   "metadata": {},
   "outputs": [
    {
     "data": {
      "text/html": [
       "<div>\n",
       "<style scoped>\n",
       "    .dataframe tbody tr th:only-of-type {\n",
       "        vertical-align: middle;\n",
       "    }\n",
       "\n",
       "    .dataframe tbody tr th {\n",
       "        vertical-align: top;\n",
       "    }\n",
       "\n",
       "    .dataframe thead th {\n",
       "        text-align: right;\n",
       "    }\n",
       "</style>\n",
       "<table border=\"1\" class=\"dataframe\">\n",
       "  <thead>\n",
       "    <tr style=\"text-align: right;\">\n",
       "      <th></th>\n",
       "      <th>773869</th>\n",
       "      <th>767541</th>\n",
       "      <th>767542</th>\n",
       "      <th>717447</th>\n",
       "      <th>717446</th>\n",
       "      <th>717445</th>\n",
       "      <th>773062</th>\n",
       "      <th>767620</th>\n",
       "      <th>737529</th>\n",
       "      <th>717816</th>\n",
       "      <th>...</th>\n",
       "      <th>772167</th>\n",
       "      <th>769372</th>\n",
       "      <th>774204</th>\n",
       "      <th>769806</th>\n",
       "      <th>717590</th>\n",
       "      <th>717592</th>\n",
       "      <th>717595</th>\n",
       "      <th>772168</th>\n",
       "      <th>718141</th>\n",
       "      <th>769373</th>\n",
       "    </tr>\n",
       "  </thead>\n",
       "  <tbody>\n",
       "    <tr>\n",
       "      <th>2012-03-01 00:00:00</th>\n",
       "      <td>64.375000</td>\n",
       "      <td>67.625000</td>\n",
       "      <td>67.125000</td>\n",
       "      <td>61.500000</td>\n",
       "      <td>66.875000</td>\n",
       "      <td>68.750000</td>\n",
       "      <td>65.125</td>\n",
       "      <td>67.125</td>\n",
       "      <td>59.625000</td>\n",
       "      <td>62.750000</td>\n",
       "      <td>...</td>\n",
       "      <td>45.625000</td>\n",
       "      <td>65.500</td>\n",
       "      <td>64.500000</td>\n",
       "      <td>66.428571</td>\n",
       "      <td>66.875</td>\n",
       "      <td>59.375000</td>\n",
       "      <td>69.000000</td>\n",
       "      <td>59.250000</td>\n",
       "      <td>69.000000</td>\n",
       "      <td>61.875</td>\n",
       "    </tr>\n",
       "    <tr>\n",
       "      <th>2012-03-01 00:05:00</th>\n",
       "      <td>62.666667</td>\n",
       "      <td>68.555556</td>\n",
       "      <td>65.444444</td>\n",
       "      <td>62.444444</td>\n",
       "      <td>64.444444</td>\n",
       "      <td>68.111111</td>\n",
       "      <td>65.000</td>\n",
       "      <td>65.000</td>\n",
       "      <td>57.444444</td>\n",
       "      <td>63.333333</td>\n",
       "      <td>...</td>\n",
       "      <td>50.666667</td>\n",
       "      <td>69.875</td>\n",
       "      <td>66.666667</td>\n",
       "      <td>58.555556</td>\n",
       "      <td>62.000</td>\n",
       "      <td>61.111111</td>\n",
       "      <td>64.444444</td>\n",
       "      <td>55.888889</td>\n",
       "      <td>68.444444</td>\n",
       "      <td>62.875</td>\n",
       "    </tr>\n",
       "    <tr>\n",
       "      <th>2012-03-01 00:10:00</th>\n",
       "      <td>64.000000</td>\n",
       "      <td>63.750000</td>\n",
       "      <td>60.000000</td>\n",
       "      <td>59.000000</td>\n",
       "      <td>66.500000</td>\n",
       "      <td>66.250000</td>\n",
       "      <td>64.500</td>\n",
       "      <td>64.250</td>\n",
       "      <td>63.875000</td>\n",
       "      <td>65.375000</td>\n",
       "      <td>...</td>\n",
       "      <td>44.125000</td>\n",
       "      <td>69.000</td>\n",
       "      <td>56.500000</td>\n",
       "      <td>59.250000</td>\n",
       "      <td>68.125</td>\n",
       "      <td>62.500000</td>\n",
       "      <td>65.625000</td>\n",
       "      <td>61.375000</td>\n",
       "      <td>69.857143</td>\n",
       "      <td>62.000</td>\n",
       "    </tr>\n",
       "    <tr>\n",
       "      <th>2012-03-01 00:15:00</th>\n",
       "      <td>0.000000</td>\n",
       "      <td>0.000000</td>\n",
       "      <td>0.000000</td>\n",
       "      <td>0.000000</td>\n",
       "      <td>0.000000</td>\n",
       "      <td>0.000000</td>\n",
       "      <td>0.000</td>\n",
       "      <td>0.000</td>\n",
       "      <td>0.000000</td>\n",
       "      <td>0.000000</td>\n",
       "      <td>...</td>\n",
       "      <td>0.000000</td>\n",
       "      <td>0.000</td>\n",
       "      <td>0.000000</td>\n",
       "      <td>0.000000</td>\n",
       "      <td>0.000</td>\n",
       "      <td>0.000000</td>\n",
       "      <td>0.000000</td>\n",
       "      <td>0.000000</td>\n",
       "      <td>0.000000</td>\n",
       "      <td>0.000</td>\n",
       "    </tr>\n",
       "    <tr>\n",
       "      <th>2012-03-01 00:20:00</th>\n",
       "      <td>0.000000</td>\n",
       "      <td>0.000000</td>\n",
       "      <td>0.000000</td>\n",
       "      <td>0.000000</td>\n",
       "      <td>0.000000</td>\n",
       "      <td>0.000000</td>\n",
       "      <td>0.000</td>\n",
       "      <td>0.000</td>\n",
       "      <td>0.000000</td>\n",
       "      <td>0.000000</td>\n",
       "      <td>...</td>\n",
       "      <td>0.000000</td>\n",
       "      <td>0.000</td>\n",
       "      <td>0.000000</td>\n",
       "      <td>0.000000</td>\n",
       "      <td>0.000</td>\n",
       "      <td>0.000000</td>\n",
       "      <td>0.000000</td>\n",
       "      <td>0.000000</td>\n",
       "      <td>0.000000</td>\n",
       "      <td>0.000</td>\n",
       "    </tr>\n",
       "  </tbody>\n",
       "</table>\n",
       "<p>5 rows × 207 columns</p>\n",
       "</div>"
      ],
      "text/plain": [
       "                        773869     767541     767542     717447     717446  \\\n",
       "2012-03-01 00:00:00  64.375000  67.625000  67.125000  61.500000  66.875000   \n",
       "2012-03-01 00:05:00  62.666667  68.555556  65.444444  62.444444  64.444444   \n",
       "2012-03-01 00:10:00  64.000000  63.750000  60.000000  59.000000  66.500000   \n",
       "2012-03-01 00:15:00   0.000000   0.000000   0.000000   0.000000   0.000000   \n",
       "2012-03-01 00:20:00   0.000000   0.000000   0.000000   0.000000   0.000000   \n",
       "\n",
       "                        717445  773062  767620     737529     717816   ...    \\\n",
       "2012-03-01 00:00:00  68.750000  65.125  67.125  59.625000  62.750000   ...     \n",
       "2012-03-01 00:05:00  68.111111  65.000  65.000  57.444444  63.333333   ...     \n",
       "2012-03-01 00:10:00  66.250000  64.500  64.250  63.875000  65.375000   ...     \n",
       "2012-03-01 00:15:00   0.000000   0.000   0.000   0.000000   0.000000   ...     \n",
       "2012-03-01 00:20:00   0.000000   0.000   0.000   0.000000   0.000000   ...     \n",
       "\n",
       "                        772167  769372     774204     769806  717590  \\\n",
       "2012-03-01 00:00:00  45.625000  65.500  64.500000  66.428571  66.875   \n",
       "2012-03-01 00:05:00  50.666667  69.875  66.666667  58.555556  62.000   \n",
       "2012-03-01 00:10:00  44.125000  69.000  56.500000  59.250000  68.125   \n",
       "2012-03-01 00:15:00   0.000000   0.000   0.000000   0.000000   0.000   \n",
       "2012-03-01 00:20:00   0.000000   0.000   0.000000   0.000000   0.000   \n",
       "\n",
       "                        717592     717595     772168     718141  769373  \n",
       "2012-03-01 00:00:00  59.375000  69.000000  59.250000  69.000000  61.875  \n",
       "2012-03-01 00:05:00  61.111111  64.444444  55.888889  68.444444  62.875  \n",
       "2012-03-01 00:10:00  62.500000  65.625000  61.375000  69.857143  62.000  \n",
       "2012-03-01 00:15:00   0.000000   0.000000   0.000000   0.000000   0.000  \n",
       "2012-03-01 00:20:00   0.000000   0.000000   0.000000   0.000000   0.000  \n",
       "\n",
       "[5 rows x 207 columns]"
      ]
     },
     "execution_count": 124,
     "metadata": {},
     "output_type": "execute_result"
    }
   ],
   "source": [
    "import numpy as np\n",
    "import matplotlib.pyplot as plt\n",
    "import pandas as pd\n",
    "path = '/Users/icdi/Desktop/gpu-test/DCRNN/data/metr-la.h5'\n",
    "df = pd.read_hdf(path)\n",
    "df.head()"
   ]
  },
  {
   "cell_type": "code",
   "execution_count": 125,
   "metadata": {},
   "outputs": [
    {
     "data": {
      "text/html": [
       "<div>\n",
       "<style scoped>\n",
       "    .dataframe tbody tr th:only-of-type {\n",
       "        vertical-align: middle;\n",
       "    }\n",
       "\n",
       "    .dataframe tbody tr th {\n",
       "        vertical-align: top;\n",
       "    }\n",
       "\n",
       "    .dataframe thead th {\n",
       "        text-align: right;\n",
       "    }\n",
       "</style>\n",
       "<table border=\"1\" class=\"dataframe\">\n",
       "  <thead>\n",
       "    <tr style=\"text-align: right;\">\n",
       "      <th></th>\n",
       "      <th>773869</th>\n",
       "      <th>767541</th>\n",
       "      <th>767542</th>\n",
       "      <th>717447</th>\n",
       "      <th>717446</th>\n",
       "      <th>717445</th>\n",
       "      <th>773062</th>\n",
       "      <th>767620</th>\n",
       "      <th>737529</th>\n",
       "      <th>717816</th>\n",
       "      <th>...</th>\n",
       "      <th>772167</th>\n",
       "      <th>769372</th>\n",
       "      <th>774204</th>\n",
       "      <th>769806</th>\n",
       "      <th>717590</th>\n",
       "      <th>717592</th>\n",
       "      <th>717595</th>\n",
       "      <th>772168</th>\n",
       "      <th>718141</th>\n",
       "      <th>769373</th>\n",
       "    </tr>\n",
       "  </thead>\n",
       "  <tbody>\n",
       "    <tr>\n",
       "      <th>2012-06-27 23:35:00</th>\n",
       "      <td>65.000000</td>\n",
       "      <td>65.888889</td>\n",
       "      <td>68.555556</td>\n",
       "      <td>61.666667</td>\n",
       "      <td>0.0</td>\n",
       "      <td>54.555556</td>\n",
       "      <td>62.444444</td>\n",
       "      <td>63.333333</td>\n",
       "      <td>59.222222</td>\n",
       "      <td>65.333333</td>\n",
       "      <td>...</td>\n",
       "      <td>52.888889</td>\n",
       "      <td>69.000000</td>\n",
       "      <td>65.111111</td>\n",
       "      <td>55.666667</td>\n",
       "      <td>66.333333</td>\n",
       "      <td>62.444444</td>\n",
       "      <td>66.777778</td>\n",
       "      <td>64.888889</td>\n",
       "      <td>69.666667</td>\n",
       "      <td>62.333333</td>\n",
       "    </tr>\n",
       "    <tr>\n",
       "      <th>2012-06-27 23:40:00</th>\n",
       "      <td>61.375000</td>\n",
       "      <td>65.625000</td>\n",
       "      <td>66.500000</td>\n",
       "      <td>62.750000</td>\n",
       "      <td>0.0</td>\n",
       "      <td>50.500000</td>\n",
       "      <td>62.000000</td>\n",
       "      <td>67.000000</td>\n",
       "      <td>65.250000</td>\n",
       "      <td>67.125000</td>\n",
       "      <td>...</td>\n",
       "      <td>54.000000</td>\n",
       "      <td>69.250000</td>\n",
       "      <td>60.125000</td>\n",
       "      <td>60.500000</td>\n",
       "      <td>67.250000</td>\n",
       "      <td>59.375000</td>\n",
       "      <td>66.000000</td>\n",
       "      <td>61.250000</td>\n",
       "      <td>69.000000</td>\n",
       "      <td>62.000000</td>\n",
       "    </tr>\n",
       "    <tr>\n",
       "      <th>2012-06-27 23:45:00</th>\n",
       "      <td>67.000000</td>\n",
       "      <td>59.666667</td>\n",
       "      <td>69.555556</td>\n",
       "      <td>61.000000</td>\n",
       "      <td>0.0</td>\n",
       "      <td>44.777778</td>\n",
       "      <td>64.222222</td>\n",
       "      <td>63.777778</td>\n",
       "      <td>59.777778</td>\n",
       "      <td>57.666667</td>\n",
       "      <td>...</td>\n",
       "      <td>51.333333</td>\n",
       "      <td>67.888889</td>\n",
       "      <td>64.333333</td>\n",
       "      <td>57.000000</td>\n",
       "      <td>66.000000</td>\n",
       "      <td>62.666667</td>\n",
       "      <td>68.666667</td>\n",
       "      <td>63.333333</td>\n",
       "      <td>67.444444</td>\n",
       "      <td>61.222222</td>\n",
       "    </tr>\n",
       "    <tr>\n",
       "      <th>2012-06-27 23:50:00</th>\n",
       "      <td>66.750000</td>\n",
       "      <td>62.250000</td>\n",
       "      <td>66.000000</td>\n",
       "      <td>59.625000</td>\n",
       "      <td>0.0</td>\n",
       "      <td>53.000000</td>\n",
       "      <td>64.285714</td>\n",
       "      <td>64.125000</td>\n",
       "      <td>60.875000</td>\n",
       "      <td>66.250000</td>\n",
       "      <td>...</td>\n",
       "      <td>51.125000</td>\n",
       "      <td>69.375000</td>\n",
       "      <td>61.625000</td>\n",
       "      <td>60.500000</td>\n",
       "      <td>65.625000</td>\n",
       "      <td>66.375000</td>\n",
       "      <td>69.500000</td>\n",
       "      <td>63.000000</td>\n",
       "      <td>67.875000</td>\n",
       "      <td>63.500000</td>\n",
       "    </tr>\n",
       "    <tr>\n",
       "      <th>2012-06-27 23:55:00</th>\n",
       "      <td>65.111111</td>\n",
       "      <td>66.888889</td>\n",
       "      <td>66.777778</td>\n",
       "      <td>61.222222</td>\n",
       "      <td>0.0</td>\n",
       "      <td>49.555556</td>\n",
       "      <td>65.777778</td>\n",
       "      <td>65.111111</td>\n",
       "      <td>63.000000</td>\n",
       "      <td>61.666667</td>\n",
       "      <td>...</td>\n",
       "      <td>56.000000</td>\n",
       "      <td>67.444444</td>\n",
       "      <td>64.888889</td>\n",
       "      <td>60.888889</td>\n",
       "      <td>64.222222</td>\n",
       "      <td>66.444444</td>\n",
       "      <td>68.444444</td>\n",
       "      <td>63.555556</td>\n",
       "      <td>68.666667</td>\n",
       "      <td>61.777778</td>\n",
       "    </tr>\n",
       "  </tbody>\n",
       "</table>\n",
       "<p>5 rows × 207 columns</p>\n",
       "</div>"
      ],
      "text/plain": [
       "                        773869     767541     767542     717447  717446  \\\n",
       "2012-06-27 23:35:00  65.000000  65.888889  68.555556  61.666667     0.0   \n",
       "2012-06-27 23:40:00  61.375000  65.625000  66.500000  62.750000     0.0   \n",
       "2012-06-27 23:45:00  67.000000  59.666667  69.555556  61.000000     0.0   \n",
       "2012-06-27 23:50:00  66.750000  62.250000  66.000000  59.625000     0.0   \n",
       "2012-06-27 23:55:00  65.111111  66.888889  66.777778  61.222222     0.0   \n",
       "\n",
       "                        717445     773062     767620     737529     717816  \\\n",
       "2012-06-27 23:35:00  54.555556  62.444444  63.333333  59.222222  65.333333   \n",
       "2012-06-27 23:40:00  50.500000  62.000000  67.000000  65.250000  67.125000   \n",
       "2012-06-27 23:45:00  44.777778  64.222222  63.777778  59.777778  57.666667   \n",
       "2012-06-27 23:50:00  53.000000  64.285714  64.125000  60.875000  66.250000   \n",
       "2012-06-27 23:55:00  49.555556  65.777778  65.111111  63.000000  61.666667   \n",
       "\n",
       "                       ...         772167     769372     774204     769806  \\\n",
       "2012-06-27 23:35:00    ...      52.888889  69.000000  65.111111  55.666667   \n",
       "2012-06-27 23:40:00    ...      54.000000  69.250000  60.125000  60.500000   \n",
       "2012-06-27 23:45:00    ...      51.333333  67.888889  64.333333  57.000000   \n",
       "2012-06-27 23:50:00    ...      51.125000  69.375000  61.625000  60.500000   \n",
       "2012-06-27 23:55:00    ...      56.000000  67.444444  64.888889  60.888889   \n",
       "\n",
       "                        717590     717592     717595     772168     718141  \\\n",
       "2012-06-27 23:35:00  66.333333  62.444444  66.777778  64.888889  69.666667   \n",
       "2012-06-27 23:40:00  67.250000  59.375000  66.000000  61.250000  69.000000   \n",
       "2012-06-27 23:45:00  66.000000  62.666667  68.666667  63.333333  67.444444   \n",
       "2012-06-27 23:50:00  65.625000  66.375000  69.500000  63.000000  67.875000   \n",
       "2012-06-27 23:55:00  64.222222  66.444444  68.444444  63.555556  68.666667   \n",
       "\n",
       "                        769373  \n",
       "2012-06-27 23:35:00  62.333333  \n",
       "2012-06-27 23:40:00  62.000000  \n",
       "2012-06-27 23:45:00  61.222222  \n",
       "2012-06-27 23:50:00  63.500000  \n",
       "2012-06-27 23:55:00  61.777778  \n",
       "\n",
       "[5 rows x 207 columns]"
      ]
     },
     "execution_count": 125,
     "metadata": {},
     "output_type": "execute_result"
    }
   ],
   "source": [
    "df.tail()"
   ]
  },
  {
   "cell_type": "code",
   "execution_count": 126,
   "metadata": {},
   "outputs": [],
   "source": [
    "df = df.head(1000)"
   ]
  },
  {
   "cell_type": "code",
   "execution_count": 127,
   "metadata": {},
   "outputs": [
    {
     "data": {
      "text/plain": [
       "array([-11, -10,  -9,  -8,  -7,  -6,  -5,  -4,  -3,  -2,  -1,   0])"
      ]
     },
     "execution_count": 127,
     "metadata": {},
     "output_type": "execute_result"
    }
   ],
   "source": [
    "np.concatenate((np.arange(-11, 1, 1),))"
   ]
  },
  {
   "cell_type": "code",
   "execution_count": 128,
   "metadata": {},
   "outputs": [],
   "source": [
    "x_offsets = np.sort(\n",
    "        # np.concatenate(([-week_size + 1, -day_size + 1], np.arange(-11, 1, 1)))\n",
    "        np.concatenate((np.arange(-11, 1, 1),))\n",
    "    )"
   ]
  },
  {
   "cell_type": "code",
   "execution_count": 129,
   "metadata": {},
   "outputs": [],
   "source": [
    "# x_offsets\n",
    "y_offsets = np.array(range(1,13))"
   ]
  },
  {
   "cell_type": "code",
   "execution_count": 146,
   "metadata": {},
   "outputs": [],
   "source": [
    "def generate_graph_seq2seq_io_data(\n",
    "        df, x_offsets, y_offsets, add_time_in_day=True, add_day_in_week=False, scaler=None\n",
    "):\n",
    "    \"\"\"\n",
    "    Generate samples from\n",
    "    :param df:\n",
    "    :param x_offsets:\n",
    "    :param y_offsets:\n",
    "    :param add_time_in_day:\n",
    "    :param add_day_in_week:\n",
    "    :param scaler:\n",
    "    :return:\n",
    "    # x: (epoch_size, input_length, num_nodes, input_dim)\n",
    "    # y: (epoch_size, output_length, num_nodes, output_dim)\n",
    "    \"\"\"\n",
    "\n",
    "    num_samples, num_nodes = df.shape\n",
    "    data = np.expand_dims(df.values, axis=-1)\n",
    "    data_list = [data]\n",
    "#     \n",
    "    if add_time_in_day:\n",
    "        time_ind = (df.index.values - df.index.values.astype(\"datetime64[D]\")) / np.timedelta64(1, \"D\")\n",
    "        time_in_day = np.tile(time_ind, [1, num_nodes, 1]).transpose((2, 1, 0))\n",
    "        data_list.append(time_in_day)\n",
    "        \n",
    "    if add_day_in_week:\n",
    "        day_in_week = np.zeros(shape=(num_samples, num_nodes, 7))\n",
    "        day_in_week[np.arange(num_samples), :, df.index.dayofweek] = 1\n",
    "        data_list.append(day_in_week)\n",
    "#     print('shape',np.array(data_list).shape)\n",
    "    data = np.concatenate(data_list, axis=-1)\n",
    "    # epoch_len = num_samples + min(x_offsets) - max(y_offsets)\n",
    "    x, y = [], []\n",
    "    # t is the index of the last observation.\n",
    "    min_t = abs(min(x_offsets))\n",
    "    max_t = abs(num_samples - abs(max(y_offsets)))  # Exclusive\n",
    "#     print(min_t,max_t)\n",
    "    print(np.array(data))\n",
    "    for t in range(min_t, max_t):\n",
    "       \n",
    "        x_t = data[t + x_offsets, ...]\n",
    "        y_t = data[t + y_offsets, ...]\n",
    "        x.append(x_t)\n",
    "        y.append(y_t)\n",
    "    x = np.stack(x, axis=0)\n",
    "    y = np.stack(y, axis=0)\n",
    "    return x, y"
   ]
  },
  {
   "cell_type": "code",
   "execution_count": 147,
   "metadata": {},
   "outputs": [
    {
     "name": "stdout",
     "output_type": "stream",
     "text": [
      "(1000, 207, 1)\n"
     ]
    }
   ],
   "source": [
    "time_ind = (df.index.values   - df.index.values.astype(\"datetime64[D]\") )/ np.timedelta64(1, \"D\")\n",
    "# print(np.tile(time_ind, [1, 207, 1]).transpose((2,1,0)))\n",
    "print(np.tile(time_ind, [1, 207, 1]).transpose((2,1,0)).shape)"
   ]
  },
  {
   "cell_type": "code",
   "execution_count": 154,
   "metadata": {},
   "outputs": [
    {
     "data": {
      "text/plain": [
       "[12, 1]"
      ]
     },
     "execution_count": 154,
     "metadata": {},
     "output_type": "execute_result"
    }
   ],
   "source": [
    "list(x_offsets.shape)+[1]"
   ]
  },
  {
   "cell_type": "code",
   "execution_count": 148,
   "metadata": {},
   "outputs": [
    {
     "data": {
      "text/plain": [
       "(1000, 207)"
      ]
     },
     "execution_count": 148,
     "metadata": {},
     "output_type": "execute_result"
    }
   ],
   "source": [
    "df.shape"
   ]
  },
  {
   "cell_type": "code",
   "execution_count": 149,
   "metadata": {},
   "outputs": [
    {
     "name": "stdout",
     "output_type": "stream",
     "text": [
      "(1000, 207, 1)\n",
      "[[[6.43750000e+01 0.00000000e+00]\n",
      "  [6.76250000e+01 0.00000000e+00]\n",
      "  [6.71250000e+01 0.00000000e+00]\n",
      "  ...\n",
      "  [5.92500000e+01 0.00000000e+00]\n",
      "  [6.90000000e+01 0.00000000e+00]\n",
      "  [6.18750000e+01 0.00000000e+00]]\n",
      "\n",
      " [[6.26666667e+01 3.47222222e-03]\n",
      "  [6.85555556e+01 3.47222222e-03]\n",
      "  [6.54444444e+01 3.47222222e-03]\n",
      "  ...\n",
      "  [5.58888889e+01 3.47222222e-03]\n",
      "  [6.84444444e+01 3.47222222e-03]\n",
      "  [6.28750000e+01 3.47222222e-03]]\n",
      "\n",
      " [[6.40000000e+01 6.94444444e-03]\n",
      "  [6.37500000e+01 6.94444444e-03]\n",
      "  [6.00000000e+01 6.94444444e-03]\n",
      "  ...\n",
      "  [6.13750000e+01 6.94444444e-03]\n",
      "  [6.98571429e+01 6.94444444e-03]\n",
      "  [6.20000000e+01 6.94444444e-03]]\n",
      "\n",
      " ...\n",
      "\n",
      " [[0.00000000e+00 4.61805556e-01]\n",
      "  [6.84444444e+01 4.61805556e-01]\n",
      "  [6.97777778e+01 4.61805556e-01]\n",
      "  ...\n",
      "  [6.35555556e+01 4.61805556e-01]\n",
      "  [6.92222222e+01 4.61805556e-01]\n",
      "  [5.26666667e+01 4.61805556e-01]]\n",
      "\n",
      " [[0.00000000e+00 4.65277778e-01]\n",
      "  [6.71428571e+01 4.65277778e-01]\n",
      "  [6.98571429e+01 4.65277778e-01]\n",
      "  ...\n",
      "  [6.41428571e+01 4.65277778e-01]\n",
      "  [6.82857143e+01 4.65277778e-01]\n",
      "  [1.11428571e+01 4.65277778e-01]]\n",
      "\n",
      " [[1.82857143e+01 4.68750000e-01]\n",
      "  [6.76666667e+01 4.68750000e-01]\n",
      "  [6.94444444e+01 4.68750000e-01]\n",
      "  ...\n",
      "  [6.21111111e+01 4.68750000e-01]\n",
      "  [6.93333333e+01 4.68750000e-01]\n",
      "  [7.77777778e+00 4.68750000e-01]]]\n"
     ]
    }
   ],
   "source": [
    "x,y = generate_graph_seq2seq_io_data(df,x_offsets,y_offsets)"
   ]
  },
  {
   "cell_type": "code",
   "execution_count": 164,
   "metadata": {},
   "outputs": [],
   "source": [
    "import pickle\n",
    "import scipy.sparse as sp"
   ]
  },
  {
   "cell_type": "code",
   "execution_count": 165,
   "metadata": {},
   "outputs": [],
   "source": [
    "def load_graph_data(pkl_filename):\n",
    "    sensor_ids, sensor_id_to_ind, adj_mx = load_pickle(pkl_filename)\n",
    "    return sensor_ids, sensor_id_to_ind, adj_mx\n",
    "\n",
    "\n",
    "def load_pickle(pickle_file):\n",
    "    try:\n",
    "        with open(pickle_file, 'rb') as f:\n",
    "            pickle_data = pickle.load(f)\n",
    "    except UnicodeDecodeError as e:\n",
    "        \n",
    "        with open(pickle_file, 'rb') as f:\n",
    "            pickle_data = pickle.load(f, encoding='latin1')\n",
    "    except Exception as e:\n",
    "        print('Unable to load data ', pickle_file, ':', e)\n",
    "        raise\n",
    "    return pickle_data\n"
   ]
  },
  {
   "cell_type": "code",
   "execution_count": 203,
   "metadata": {},
   "outputs": [],
   "source": [
    "def calculate_random_walk_matrix(adj_mx):\n",
    "    print(np.sum(adj_mx[0,:]))\n",
    "    adj_mx = sp.coo_matrix(adj_mx)\n",
    "    d = np.array(adj_mx.sum(1))\n",
    "    print(d[0])\n",
    "    d_inv = np.power(d, -1).flatten()\n",
    "    d_inv[np.isinf(d_inv)] = 0.\n",
    "    d_mat_inv = sp.diags(d_inv)\n",
    "    random_walk_mx = d_mat_inv.dot(adj_mx).tocoo()\n",
    "    return random_walk_mx"
   ]
  },
  {
   "cell_type": "code",
   "execution_count": 204,
   "metadata": {},
   "outputs": [
    {
     "data": {
      "text/plain": [
       "(207, 207)"
      ]
     },
     "execution_count": 204,
     "metadata": {},
     "output_type": "execute_result"
    }
   ],
   "source": [
    "sensor_ids, sensor_id_to_ind, adj_mx = load_graph_data('/Users/icdi/Desktop/gpu-test/DCRNN/data/sensor_graph/adj_mx.pkl')\n",
    "adj_mx.shape\n"
   ]
  },
  {
   "cell_type": "code",
   "execution_count": 205,
   "metadata": {},
   "outputs": [
    {
     "name": "stdout",
     "output_type": "stream",
     "text": [
      "4.8790474\n",
      "[4.8790474]\n"
     ]
    },
    {
     "data": {
      "text/plain": [
       "<207x207 sparse matrix of type '<class 'numpy.float32'>'\n",
       "\twith 1722 stored elements in COOrdinate format>"
      ]
     },
     "execution_count": 205,
     "metadata": {},
     "output_type": "execute_result"
    }
   ],
   "source": [
    "calculate_random_walk_matrix(adj_mx)"
   ]
  },
  {
   "cell_type": "code",
   "execution_count": 208,
   "metadata": {},
   "outputs": [],
   "source": [
    "import tensorflow as tf\n",
    "labels = tf.unstack(tf.reshape(np.random.random((10,12,10,1)), (10, 12, 10 * 1)), axis=1)"
   ]
  },
  {
   "cell_type": "code",
   "execution_count": 209,
   "metadata": {},
   "outputs": [
    {
     "data": {
      "text/plain": [
       "[<tf.Tensor 'unstack:0' shape=(10, 10) dtype=float64>,\n",
       " <tf.Tensor 'unstack:1' shape=(10, 10) dtype=float64>,\n",
       " <tf.Tensor 'unstack:2' shape=(10, 10) dtype=float64>,\n",
       " <tf.Tensor 'unstack:3' shape=(10, 10) dtype=float64>,\n",
       " <tf.Tensor 'unstack:4' shape=(10, 10) dtype=float64>,\n",
       " <tf.Tensor 'unstack:5' shape=(10, 10) dtype=float64>,\n",
       " <tf.Tensor 'unstack:6' shape=(10, 10) dtype=float64>,\n",
       " <tf.Tensor 'unstack:7' shape=(10, 10) dtype=float64>,\n",
       " <tf.Tensor 'unstack:8' shape=(10, 10) dtype=float64>,\n",
       " <tf.Tensor 'unstack:9' shape=(10, 10) dtype=float64>,\n",
       " <tf.Tensor 'unstack:10' shape=(10, 10) dtype=float64>,\n",
       " <tf.Tensor 'unstack:11' shape=(10, 10) dtype=float64>]"
      ]
     },
     "execution_count": 209,
     "metadata": {},
     "output_type": "execute_result"
    }
   ],
   "source": [
    "labels"
   ]
  },
  {
   "cell_type": "code",
   "execution_count": 211,
   "metadata": {},
   "outputs": [],
   "source": [
    "GO_SYMBOL = tf.zeros(shape=(10, 12 * 1))"
   ]
  },
  {
   "cell_type": "code",
   "execution_count": 212,
   "metadata": {},
   "outputs": [],
   "source": [
    "labels.insert(0, GO_SYMBOL)"
   ]
  },
  {
   "cell_type": "code",
   "execution_count": 213,
   "metadata": {},
   "outputs": [
    {
     "data": {
      "text/plain": [
       "[<tf.Tensor 'zeros:0' shape=(10, 12) dtype=float32>,\n",
       " <tf.Tensor 'unstack:0' shape=(10, 10) dtype=float64>,\n",
       " <tf.Tensor 'unstack:1' shape=(10, 10) dtype=float64>,\n",
       " <tf.Tensor 'unstack:2' shape=(10, 10) dtype=float64>,\n",
       " <tf.Tensor 'unstack:3' shape=(10, 10) dtype=float64>,\n",
       " <tf.Tensor 'unstack:4' shape=(10, 10) dtype=float64>,\n",
       " <tf.Tensor 'unstack:5' shape=(10, 10) dtype=float64>,\n",
       " <tf.Tensor 'unstack:6' shape=(10, 10) dtype=float64>,\n",
       " <tf.Tensor 'unstack:7' shape=(10, 10) dtype=float64>,\n",
       " <tf.Tensor 'unstack:8' shape=(10, 10) dtype=float64>,\n",
       " <tf.Tensor 'unstack:9' shape=(10, 10) dtype=float64>,\n",
       " <tf.Tensor 'unstack:10' shape=(10, 10) dtype=float64>,\n",
       " <tf.Tensor 'unstack:11' shape=(10, 10) dtype=float64>]"
      ]
     },
     "execution_count": 213,
     "metadata": {},
     "output_type": "execute_result"
    }
   ],
   "source": [
    "labels"
   ]
  },
  {
   "cell_type": "code",
   "execution_count": null,
   "metadata": {},
   "outputs": [],
   "source": []
  }
 ],
 "metadata": {
  "kernelspec": {
   "display_name": "Python 3",
   "language": "python",
   "name": "python3"
  },
  "language_info": {
   "codemirror_mode": {
    "name": "ipython",
    "version": 3
   },
   "file_extension": ".py",
   "mimetype": "text/x-python",
   "name": "python",
   "nbconvert_exporter": "python",
   "pygments_lexer": "ipython3",
   "version": "3.5.2rc1"
  }
 },
 "nbformat": 4,
 "nbformat_minor": 1
}
