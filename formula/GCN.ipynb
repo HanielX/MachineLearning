{
 "cells": [
  {
   "cell_type": "markdown",
   "metadata": {
    "collapsed": true
   },
   "source": [
    "ICLR 2017 SEMI-SUPERVISED CLASSIFICATION WITH GRAPH CONVOLUTIONAL NETWORKS "
   ]
  },
  {
   "cell_type": "markdown",
   "metadata": {},
   "source": [
    "- 原本处理图的半监督分类的时候，损失函数的定义包含两部分，一部分是有标签的节点的损失函数，另外一部分是基于相邻节点的lable 应该尽可能的思想设计的损失函数。\n",
    "- 本文提出并不进行区分。直接使用有监督的损失函数来进行操作，可以学得节点之间的表示。"
   ]
  },
  {
   "cell_type": "markdown",
   "metadata": {},
   "source": [
    "### 谱图卷积\n",
    "- $g_{\\theta} * x = Ug_{\\theta}U^{T}x, x \\in R^{N}, g_{\\theta} = diag(\\theta)$,一共有$N$个节点，每个节点用一个标量表示。\n",
    "- $ L = I_{N} - D^{-\\frac{1}{2}}AD^{-\\frac{1}{2}} = U \\Lambda U^{T}$\n",
    "- $g_{\\theta}$可以看做是$\\Lambda$的函数，并用[切比雪夫多项式](https://zh.wikipedia.org/wiki/%E5%88%87%E6%AF%94%E9%9B%AA%E5%A4%AB%E5%A4%9A%E9%A1%B9%E5%BC%8F)来进行近似。\n",
    "- $g_{\\theta^{'}}(\\theta) \\approx \\sum_{k=0}^{K}\\theta^{'}_{k} T_{k}(\\tilde{\\Lambda})$ ,其中$\\tilde{\\Lambda} = \\frac{2}{\\lambda_{max}} - I_{N} , \\theta^{'} \\in R^{K}$\n",
    "- 可以将上诉卷积式子写作:$g_{\\theta}^{'}*x \\approx  \\sum_{k=0}^{K} \\theta_{k}^{'}T_{k}(\\tilde{L})x$,其中$\\tilde{L} = \\frac{2}{\\lambda_{max}} L-I_{N}$\n"
   ]
  }
 ],
 "metadata": {
  "kernelspec": {
   "display_name": "Python 3",
   "language": "python",
   "name": "python3"
  },
  "language_info": {
   "codemirror_mode": {
    "name": "ipython",
    "version": 3
   },
   "file_extension": ".py",
   "mimetype": "text/x-python",
   "name": "python",
   "nbconvert_exporter": "python",
   "pygments_lexer": "ipython3",
   "version": "3.5.2rc1"
  }
 },
 "nbformat": 4,
 "nbformat_minor": 1
}
