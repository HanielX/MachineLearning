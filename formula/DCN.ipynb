{
 "cells": [
  {
   "cell_type": "markdown",
   "metadata": {
    "collapsed": true
   },
   "source": [
    "## 2017 Deformable Convolutional Networks\n",
    "- 提出可变卷积，和可变RoI pooling。\n",
    "- 增强空间中的位置采样，和空洞卷积很类似，空洞卷积可以看做是可变卷积的一种特殊情况。"
   ]
  },
  {
   "cell_type": "markdown",
   "metadata": {},
   "source": [
    "### 双线性插值\n",
    "- 进行两次的线性插值，固定一个变量，将其变成一维线性插值。\n",
    "![两次线性插值](https://upload.wikimedia.org/wikipedia/commons/e/e7/Bilinear_interpolation.png)\n",
    "- 采用的主要原因是因为偏移量是个小数，无法得到对应的图像上的值，所以需要进行插值运算。"
   ]
  },
  {
   "cell_type": "markdown",
   "metadata": {},
   "source": [
    "![基本的思想](img/DCN_basic.png)"
   ]
  },
  {
   "cell_type": "markdown",
   "metadata": {},
   "source": [
    "- 学习得到对于每个特征的offsets，包含两个维度(x,y)。"
   ]
  },
  {
   "cell_type": "markdown",
   "metadata": {},
   "source": [
    "![GCN_conv](img/DCN_conv.png)"
   ]
  }
 ],
 "metadata": {
  "kernelspec": {
   "display_name": "Python 3",
   "language": "python",
   "name": "python3"
  },
  "language_info": {
   "codemirror_mode": {
    "name": "ipython",
    "version": 3
   },
   "file_extension": ".py",
   "mimetype": "text/x-python",
   "name": "python",
   "nbconvert_exporter": "python",
   "pygments_lexer": "ipython3",
   "version": "3.5.2rc1"
  }
 },
 "nbformat": 4,
 "nbformat_minor": 1
}
