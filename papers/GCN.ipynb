{
 "cells": [
  {
   "cell_type": "markdown",
   "metadata": {
    "collapsed": true
   },
   "source": [
    "ICLR 2017 SEMI-SUPERVISED CLASSIFICATION WITH GRAPH CONVOLUTIONAL NETWORKS "
   ]
  },
  {
   "cell_type": "markdown",
   "metadata": {},
   "source": [
    "- 原本处理图的半监督分类的时候，损失函数的定义包含两部分，一部分是有标签的节点的损失函数，另外一部分是基于相邻节点的lable 应该尽可能相近的思想设计的损失函数。\n",
    "- 本文提出并不进行区分。直接使用有监督的损失函数来进行操作，可以学得节点之间的表示。"
   ]
  },
  {
   "cell_type": "markdown",
   "metadata": {},
   "source": [
    "### 谱图卷积\n",
    "- $ L = I_{N} - D^{-\\frac{1}{2}}AD^{-\\frac{1}{2}} = U \\Lambda U^{T}$\n",
    "- 假设一个图一共有$n$个节点，每个节点用一个标量表示。\n",
    "- 图的傅里叶转换为$\\hat{x} = U^{T}x$,其的逆变换为$x = U\\hat{x}$\n",
    "- 两个点$x,y$之间进行傅里叶变换定义为$x g_{\\theta} y = U(U^{T}x \\odot U^{T}y)$ 可以理解为先转换到谱域再转换回来。\n",
    "- 那么一个信号通过$g_{\\theta}$卷积之后$y = g_{\\theta}(L)x = g_{\\theta}(U\\Lambda U^{T})x = U g_{\\theta}(\\Lambda)U^{T}x ,\n",
    "  g_{\\theta}(\\Lambda) = diag(\\theta),\\theta \\in R^{n} $表示为傅里叶系数。\n",
    "    - 但是这种转换有两种缺点，一个是不具有局部化，第二就是学习复杂度是$O(n)$\n",
    "- 针对以上两种原因，$g_{\\theta}$可以看做是$\\Lambda$的函数，并用[切比雪夫多项式](https://zh.wikipedia.org/wiki/%E5%88%87%E6%AF%94%E9%9B%AA%E5%A4%AB%E5%A4%9A%E9%A1%B9%E5%BC%8F)来进行近似。\n",
    "- $g_{\\theta^{'}}(\\theta) \\approx \\sum_{k=0}^{K}\\theta^{'}_{k} T_{k}(\\tilde{\\Lambda})$ ,其中$\\tilde{\\Lambda} = \\frac{2}{\\lambda_{max}} \\Lambda - I_{N} , \\theta^{'} \\in R^{K}$\n",
    "- 可以将上诉卷积式子写作:$g_{\\theta}^{'}*x \\approx  \\sum_{k=0}^{K} \\theta_{k}^{'}T_{k}(\\tilde{L})x$,其中$\\tilde{L} = \\frac{2}{\\lambda_{max}} L-I_{N}$\n"
   ]
  },
  {
   "cell_type": "code",
   "execution_count": null,
   "metadata": {},
   "outputs": [],
   "source": []
  }
 ],
 "metadata": {
  "kernelspec": {
   "display_name": "Python 3",
   "language": "python",
   "name": "python3"
  },
  "language_info": {
   "codemirror_mode": {
    "name": "ipython",
    "version": 3
   },
   "file_extension": ".py",
   "mimetype": "text/x-python",
   "name": "python",
   "nbconvert_exporter": "python",
   "pygments_lexer": "ipython3",
   "version": "3.5.2rc1"
  }
 },
 "nbformat": 4,
 "nbformat_minor": 1
}
