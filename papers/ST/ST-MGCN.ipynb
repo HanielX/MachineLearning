{
 "cells": [
  {
   "cell_type": "markdown",
   "metadata": {
    "collapsed": true
   },
   "source": [
    "### AAAI 2019 Spatiotemporal Multi-Graph Convolution Network for Ride-hailing Demand Forecasting"
   ]
  },
  {
   "cell_type": "markdown",
   "metadata": {},
   "source": [
    "- 多图包含Neihborhood ,Functional similarity,Transportation connectivity相似性。\n",
    "- Neihborhood 就是一个节点包含周围的8的节点,从而可以构建一个矩阵。Fuctional similarity 是根据每个区域的POI组成的向量进行的相似度计算。Transportation connectivity 是根据两个区域是否有道路相连在减去Neihborbood 连通性。"
   ]
  },
  {
   "cell_type": "markdown",
   "metadata": {},
   "source": [
    "### 空间依赖建模\n",
    "- 因为涉及到多张图，所以需要多张图分别进行卷积。\n",
    "- $X_{l+1}=\\sigma(\\cup_{A \\in G} f(A;\\theta_{i}) X_{l}W_{l})$ ,其中$\\cup$表示聚合操作。如sum,max,average等\n",
    "- $f(A;\\theta)$为切比雪夫近似多项式。有$K$项的话，就是图中一个点包含$K$跳。"
   ]
  },
  {
   "cell_type": "markdown",
   "metadata": {},
   "source": [
    "### 时间建模\n",
    "- ![st-mgcn-temporal](img/st-mgcn-temporal.png)"
   ]
  },
  {
   "cell_type": "markdown",
   "metadata": {},
   "source": [
    "- 根据历史信息通过注意力来对其加权以学习到当前点的上下文的一些信息。"
   ]
  }
 ],
 "metadata": {
  "kernelspec": {
   "display_name": "Python 3",
   "language": "python",
   "name": "python3"
  },
  "language_info": {
   "codemirror_mode": {
    "name": "ipython",
    "version": 3
   },
   "file_extension": ".py",
   "mimetype": "text/x-python",
   "name": "python",
   "nbconvert_exporter": "python",
   "pygments_lexer": "ipython3",
   "version": "3.5.2rc1"
  }
 },
 "nbformat": 4,
 "nbformat_minor": 1
}
