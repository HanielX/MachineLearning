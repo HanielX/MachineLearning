{
 "cells": [
  {
   "cell_type": "markdown",
   "metadata": {
    "collapsed": true
   },
   "source": [
    "### AAA 2018 Spatial Temporal Graph Co\"nvolutional Networks for Skeleton-Based Action Recognition"
   ]
  },
  {
   "cell_type": "markdown",
   "metadata": {},
   "source": [
    "### 图构建\n",
    "- 人体部分各个节点遵从人体的结构相连，各个帧之间相同的节点之间进行相连。"
   ]
  },
  {
   "cell_type": "markdown",
   "metadata": {},
   "source": [
    "![st-gcn-body](img/st-gcn-body.png)"
   ]
  },
  {
   "cell_type": "markdown",
   "metadata": {},
   "source": [
    "- 类比CNN卷积操作，在空间域需要定义(邻居，卷积核)\n",
    "- 对于没有顺序的节点进行标记的话，需要定义label的方式，文章中定义了三种不同的方式。\n",
    "    - Uni-labeling(下图b) 所有节点都使用相同的标记，这也意味着所有的点进行卷积的时候使用的是同一个weight\n",
    "    - Distance Partioning(下图c) 根据距离来进行划分，这样子就会使用多种weights\n",
    "    - Spatial configuration partitioning(下图d) 是根据其到重心的距离进行划分的。"
   ]
  },
  {
   "cell_type": "markdown",
   "metadata": {},
   "source": [
    "![st-gcn-partition](img/st-gcn-partition.png)"
   ]
  },
  {
   "cell_type": "markdown",
   "metadata": {},
   "source": [
    "- 这种卷积的思想还是蛮重要的，从二维卷积扩展到图上面。"
   ]
  }
 ],
 "metadata": {
  "kernelspec": {
   "display_name": "Python 3",
   "language": "python",
   "name": "python3"
  },
  "language_info": {
   "codemirror_mode": {
    "name": "ipython",
    "version": 3
   },
   "file_extension": ".py",
   "mimetype": "text/x-python",
   "name": "python",
   "nbconvert_exporter": "python",
   "pygments_lexer": "ipython3",
   "version": "3.5.2rc1"
  }
 },
 "nbformat": 4,
 "nbformat_minor": 1
}
