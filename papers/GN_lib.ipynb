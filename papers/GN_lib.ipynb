{
 "cells": [
  {
   "cell_type": "markdown",
   "metadata": {
    "collapsed": true
   },
   "source": [
    "- 所有的graph都是按照GraphTruple 实例作为输入，并返回以GraphTruple作为输出。"
   ]
  },
  {
   "cell_type": "markdown",
   "metadata": {},
   "source": [
    "- 图跟图之间全局属性，节点属性和边属性的维度要一样的\n",
    "- 将字典类型的数据通过\\[\\]进行拼接，然后使用utils_np.data_dicts_to_graph_truple将信息转化为truple.该函数有以下几点作用：\n",
    "    - 处理节点和边的函数可以并行。\n",
    "    - 能够计算每个图的节点数和边数，并将其放在n_node和n_edge中，这样他的长度就等于图的数量，而且这样有利于进行分割，让全局的属性广播到属于每一个节点和边。\n",
    "    - 将节点和边进行拼接，这样索引就会出现偏移。"
   ]
  },
  {
   "cell_type": "markdown",
   "metadata": {},
   "source": [
    "- 进行简单的图的可视化graphs_tuple是经过data_dicts_to_graph_truple处理过的对象"
   ]
  },
  {
   "cell_type": "code",
   "execution_count": 16,
   "metadata": {},
   "outputs": [],
   "source": [
    "import numpy as np\n",
    "import pandas as pd\n",
    "from graph_nets import *\n",
    "import networkx as nx\n",
    "import matplotlib.pyplot as plt"
   ]
  },
  {
   "cell_type": "markdown",
   "metadata": {},
   "source": [
    "- 字典\n",
    "data_dict_0 = {\n",
    "    \"globals\": globals_0,\n",
    "    \"nodes\": nodes_0,\n",
    "    \"edges\": edges_0,\n",
    "    \"senders\": senders_0,\n",
    "    \"receivers\": receivers_0\n",
    "}\n"
   ]
  },
  {
   "cell_type": "markdown",
   "metadata": {},
   "source": [
    "- utils_np.data_dicts_to_graphs_tuple(list of data_dict) 将数据转化为graphs_tuple"
   ]
  },
  {
   "cell_type": "markdown",
   "metadata": {},
   "source": [
    "- use networkx to build graph_tuple"
   ]
  },
  {
   "cell_type": "code",
   "execution_count": 17,
   "metadata": {},
   "outputs": [
    {
     "data": {
      "text/plain": [
       "Text(0.5,1,'Graph')"
      ]
     },
     "execution_count": 17,
     "metadata": {},
     "output_type": "execute_result"
    },
    {
     "data": {
      "image/png": "[encoded data removed]",
      "text/plain": [
       "<Figure size 216x216 with 1 Axes>"
      ]
     },
     "metadata": {},
     "output_type": "display_data"
    }
   ],
   "source": [
    "ox = nx.OrderedMultiDiGraph()\n",
    "ox.graph['features'] = np.array([1,1,1])\n",
    "ox.add_node(0,features = np.random.random(4))\n",
    "ox.add_node(1,features = np.random.random(4))\n",
    "ox.add_edge(0,1,features = np.random.random(4))\n",
    "graph_tuple = utils_np.networkxs_to_graphs_tuple([ox])\n",
    "ax = plt.figure(figsize=(3, 3)).gca()\n",
    "nx.draw(ox, ax=ax)\n",
    "ax.set_title(\"Graph\")"
   ]
  },
  {
   "cell_type": "code",
   "execution_count": 20,
   "metadata": {},
   "outputs": [],
   "source": [
    "# 可视化图\n",
    "import networkx as nx\n",
    "graphs_nx = utils_np.graphs_tuple_to_networkxs(graphs_tuple)\n",
    "_, axs = plt.subplots(ncols=2, figsize=(6, 3))\n",
    "for iax, (graph_nx, ax) in enumerate(zip(graphs_nx, axs)):\n",
    "  nx.draw(graph_nx, ax=ax)\n",
    "  ax.set_title(\"Graph {}\".format(iax))\n",
    "# 打印图的一些信息\n",
    "def print_graphs_tuple(graphs_tuple):\n",
    "  print(\"Shapes of `GraphsTuple`'s fields:\")\n",
    "  print(graphs_tuple.map(lambda x: x if x is None else x.shape, fields=graphs.ALL_FIELDS))\n",
    "  print(\"\\nData contained in `GraphsTuple`'s fields:\")\n",
    "  print(\"globals:\\n{}\".format(graphs_tuple.globals))\n",
    "  print(\"nodes:\\n{}\".format(graphs_tuple.nodes))\n",
    "  print(\"edges:\\n{}\".format(graphs_tuple.edges))\n",
    "  print(\"senders:\\n{}\".format(graphs_tuple.senders))\n",
    "  print(\"receivers:\\n{}\".format(graphs_tuple.receivers))\n",
    "  print(\"n_node:\\n{}\".format(graphs_tuple.n_node))\n",
    "  print(\"n_edge:\\n{}\".format(graphs_tuple.n_edge))\n",
    "\n",
    "print_graphs_tuple(graphs_tuple)\n",
    "### networkx 中建立一张图\n",
    "\n",
    "graph_nx = nx.OrderedMultiDiGraph()\n",
    "# Globals.\n",
    "graph_nx.graph[\"features\"] = np.array([0.6, 0.7, 0.8])\n",
    "\n",
    "# Nodes.\n",
    "graph_nx.add_node(0, features=np.array([0.3, 1.3]))\n",
    "graph_nx.add_node(1, features=np.array([0.4, 1.4]))\n",
    "graph_nx.add_node(2, features=np.array([0.5, 1.5]))\n",
    "graph_nx.add_node(3, features=np.array([0.6, 1.6]))\n",
    "# Edges.\n",
    "graph_nx.add_edge(0, 1, features=np.array([3.6, 3.7]))\n",
    "graph_nx.add_edge(2, 0, features=np.array([5.6, 5.7]))\n",
    "graph_nx.add_edge(3, 0, features=np.array([6.6, 6.7]))\n",
    "\n",
    "ax = plt.figure(figsize=(3, 3)).gca()\n",
    "nx.draw(graph_nx, ax=ax)\n",
    "ax.set_title(\"Graph\")\n",
    "\n",
    "graphs_tuple = utils_np.networkxs_to_graphs_tuple([graph_nx])\n",
    "\n",
    "print_graphs_tuple(graphs_tuple)"
   ]
  },
  {
   "cell_type": "code",
   "execution_count": 37,
   "metadata": {},
   "outputs": [],
   "source": [
    "graphs_tuple = utils_np.networkxs_to_graphs_tuple([ox])\n",
    "GLOBAL_SIZE = 10;NODE_SIZE = 4;EDGE_SIZE = 4;num_nodes = 6;num_edges = 3\n",
    "data_dict = {\n",
    "      \"globals\": np.random.rand(GLOBAL_SIZE).astype(np.float32),\n",
    "      \"nodes\": np.random.rand(num_nodes, NODE_SIZE).astype(np.float32),\n",
    "      \"edges\": np.random.rand(num_edges, EDGE_SIZE).astype(np.float32),\n",
    "      \"senders\": np.random.randint(num_nodes, size=num_edges, dtype=np.int32),\n",
    "      \"receivers\": np.random.randint(num_nodes, size=num_edges, dtype=np.int32),\n",
    "  }\n",
    "# graph_tuple = utils_np.data_dicts_to_graphs_tuple([data_dict])\n",
    "graphs_tuple_tf = utils_tf.placeholders_from_data_dicts([data_dict]) # it must be list"
   ]
  },
  {
   "cell_type": "code",
   "execution_count": 40,
   "metadata": {},
   "outputs": [],
   "source": [
    "import sonnet as snt\n",
    "import tensorflow as tf"
   ]
  },
  {
   "cell_type": "code",
   "execution_count": 44,
   "metadata": {},
   "outputs": [
    {
     "name": "stdout",
     "output_type": "stream",
     "text": [
      "GraphsTuple(nodes=<tf.Tensor 'graph_network_3/node_block/linear/add:0' shape=(6, 4) dtype=float32>, edges=<tf.Tensor 'graph_network_3/edge_block/linear/add:0' shape=(3, 4) dtype=float32>, receivers=<tf.Tensor 'data_dicts_to_graphs_tuple/add:0' shape=(3,) dtype=int32>, senders=<tf.Tensor 'data_dicts_to_graphs_tuple/add_1:0' shape=(3,) dtype=int32>, globals=<tf.Tensor 'graph_network_3/global_block/linear/add:0' shape=(1, 10) dtype=float32>, n_node=<tf.Tensor 'data_dicts_to_graphs_tuple/stack_2:0' shape=(1,) dtype=int32>, n_edge=<tf.Tensor 'data_dicts_to_graphs_tuple/stack:0' shape=(1,) dtype=int32>)\n"
     ]
    }
   ],
   "source": [
    "tf.reset_default_graph()\n",
    "input_graphs = utils_tf.data_dicts_to_graphs_tuple([data_dict])\n",
    "graph_network = modules.GraphNetwork(\n",
    "    edge_model_fn=lambda: snt.Linear(output_size=EDGE_SIZE),\n",
    "    node_model_fn=lambda: snt.Linear(output_size=NODE_SIZE),\n",
    "    global_model_fn=lambda: snt.Linear(output_size=GLOBAL_SIZE))\n",
    "\n",
    "num_recurrent_passes = 3\n",
    "previous_graphs = input_graphs\n",
    "for unused_pass in range(num_recurrent_passes):\n",
    "    previous_graphs = graph_network(previous_graphs)\n",
    "output_graphs = previous_graphs"
   ]
  },
  {
   "cell_type": "code",
   "execution_count": 96,
   "metadata": {},
   "outputs": [],
   "source": [
    "import numpy as np\n",
    "import pandas as pd\n",
    "import networkx as nx\n",
    "from scipy import spatial\n",
    "DISTANCE_WEIGHT_NAME = 'distance'"
   ]
  },
  {
   "cell_type": "code",
   "execution_count": 102,
   "metadata": {},
   "outputs": [],
   "source": [
    "def generate_graph(rand,\n",
    "                   num_nodes_min_max,\n",
    "                   dimensions=2,\n",
    "                   theta=1000.0,\n",
    "                   rate=1.0):\n",
    "    # Sample num_nodes.\n",
    "    num_nodes = rand.randint(*num_nodes_min_max)\n",
    "\n",
    "    # Create geographic threshold graph.\n",
    "    pos_array = rand.uniform(size=(num_nodes, dimensions))\n",
    "    pos = dict(enumerate(pos_array))\n",
    "    ## sample the weight from exp\n",
    "    weight = dict(enumerate(rand.exponential(rate, size=num_nodes)))\n",
    "\n",
    "    ## generate geo_graph https://testfixsphinx.readthedocs.io/en/latest/reference/generated/networkx.generators.geometric.geographical_threshold_graph.html\n",
    "    ##  undirected and without self-loops\n",
    "    geo_graph = nx.geographical_threshold_graph(\n",
    "      num_nodes, theta, pos=pos, weight=weight)\n",
    "\n",
    "    # Create minimum spanning tree across geo_graph's nodes.\n",
    "    distances = spatial.distance.squareform(spatial.distance.pdist(pos_array))\n",
    "    i_, j_ = np.meshgrid(range(num_nodes), range(num_nodes), indexing=\"ij\")\n",
    "    # ravel 将矩阵展开\n",
    "    weighted_edges = list(zip(i_.ravel(), j_.ravel(), distances.ravel()))\n",
    "    mst_graph = nx.Graph()\n",
    "    mst_graph.add_weighted_edges_from(weighted_edges, weight=DISTANCE_WEIGHT_NAME)\n",
    "    mst_graph = nx.minimum_spanning_tree(mst_graph, weight=DISTANCE_WEIGHT_NAME)\n",
    "    # Put geo_graph's node attributes into the mst_graph.\n",
    "    for i in mst_graph.nodes():\n",
    "        mst_graph.node[i].update(geo_graph.node[i])\n",
    "\n",
    "    # Compose the graphs.\n",
    "    combined_graph = nx.compose_all((mst_graph, geo_graph.copy()))\n",
    "    # Put all distance weights into edge attributes.\n",
    "    for i, j in combined_graph.edges():\n",
    "        combined_graph.get_edge_data(i, j).setdefault(DISTANCE_WEIGHT_NAME,\n",
    "                                                  distances[i, j])\n",
    "    return combined_graph, mst_graph, geo_graph"
   ]
  },
  {
   "cell_type": "code",
   "execution_count": 103,
   "metadata": {},
   "outputs": [],
   "source": [
    "seed = 1  #@param{type: 'integer'}\n",
    "rand = np.random.RandomState(seed=seed)\n",
    "import collections\n",
    "num_examples = 15  #@param{type: 'integer'}\n",
    "# Large values (1000+) make trees. Try 20-60 for good non-trees.\n",
    "theta = 20  #@param{type: 'integer'}\n",
    "num_nodes_min_max = (4,5)\n",
    "\n",
    "combined_graph, mst_graph, geo_graph = generate_graph(\n",
    "    rand = rand, num_nodes_min_max = num_nodes_min_max, theta = theta)"
   ]
  },
  {
   "cell_type": "code",
   "execution_count": 104,
   "metadata": {},
   "outputs": [
    {
     "name": "stdout",
     "output_type": "stream",
     "text": [
      "{0: {'pos': array([0.417022  , 0.72032449]), 'weight': 0.5054525417107485}, 1: {'pos': array([1.14374817e-04, 3.02332573e-01]), 'weight': 0.7739597748607573}, 2: {'pos': array([0.14675589, 0.09233859]), 'weight': 0.5433393706182451}, 3: {'pos': array([0.18626021, 0.34556073]), 'weight': 1.1558797097094222}} \n",
      " {0: {3: {'distance': 0.44011235595489956}}, 1: {2: {'distance': 0.25612732176293496}, 3: {'distance': 0.19109930874428313}}, 2: {1: {'distance': 0.25612732176293496}}, 3: {0: {'distance': 0.44011235595489956}, 1: {'distance': 0.19109930874428313}}} \n",
      " {0: {'pos': array([0.417022  , 0.72032449]), 'weight': 0.5054525417107485}, 1: {'pos': array([1.14374817e-04, 3.02332573e-01]), 'weight': 0.7739597748607573}, 2: {'pos': array([0.14675589, 0.09233859]), 'weight': 0.5433393706182451}, 3: {'pos': array([0.18626021, 0.34556073]), 'weight': 1.1558797097094222}} \n",
      " {0: {}, 1: {2: {}, 3: {}}, 2: {1: {}, 3: {}}, 3: {1: {}, 2: {}}} \n",
      " {0: {'pos': array([0.417022  , 0.72032449]), 'weight': 0.5054525417107485}, 1: {'pos': array([1.14374817e-04, 3.02332573e-01]), 'weight': 0.7739597748607573}, 2: {'pos': array([0.14675589, 0.09233859]), 'weight': 0.5433393706182451}, 3: {'pos': array([0.18626021, 0.34556073]), 'weight': 1.1558797097094222}} \n",
      " {0: {3: {'distance': 0.44011235595489956}}, 1: {2: {'distance': 0.25612732176293496}, 3: {'distance': 0.19109930874428313}}, 2: {1: {'distance': 0.25612732176293496}, 3: {'distance': 0.25628507489994234}}, 3: {0: {'distance': 0.44011235595489956}, 1: {'distance': 0.19109930874428313}, 2: {'distance': 0.25628507489994234}}}\n"
     ]
    }
   ],
   "source": [
    "print(mst_graph.node,'\\n',\n",
    "      mst_graph.edge,'\\n',\n",
    "      geo_graph.node,'\\n',\n",
    "geo_graph.edge,'\\n',\n",
    "combined_graph.node,'\\n',\n",
    "combined_graph.edge)"
   ]
  },
  {
   "cell_type": "code",
   "execution_count": 105,
   "metadata": {},
   "outputs": [
    {
     "name": "stderr",
     "output_type": "stream",
     "text": [
      "/Users/icdi/Desktop/py_ws/venv/lib/python3.5/site-packages/networkx/drawing/nx_pylab.py:121: MatplotlibDeprecationWarning: pyplot.hold is deprecated.\n",
      "    Future behavior will be consistent with the long-time default:\n",
      "    plot commands add elements without first clearing the\n",
      "    Axes and/or Figure.\n",
      "  b = plt.ishold()\n",
      "/Users/icdi/Desktop/py_ws/venv/lib/python3.5/site-packages/networkx/drawing/nx_pylab.py:500: MatplotlibDeprecationWarning: The is_string_like function was deprecated in version 2.1.\n",
      "  if not cb.is_string_like(edge_color) \\\n",
      "/Users/icdi/Desktop/py_ws/venv/lib/python3.5/site-packages/networkx/drawing/nx_pylab.py:521: MatplotlibDeprecationWarning: The is_string_like function was deprecated in version 2.1.\n",
      "  if cb.is_string_like(edge_color) or len(edge_color)==1:\n",
      "/Users/icdi/Desktop/py_ws/venv/lib/python3.5/site-packages/networkx/drawing/nx_pylab.py:700: MatplotlibDeprecationWarning: The is_string_like function was deprecated in version 2.1.\n",
      "  if not cb.is_string_like(label):\n",
      "/Users/icdi/Desktop/py_ws/venv/lib/python3.5/site-packages/networkx/drawing/nx_pylab.py:132: MatplotlibDeprecationWarning: pyplot.hold is deprecated.\n",
      "    Future behavior will be consistent with the long-time default:\n",
      "    plot commands add elements without first clearing the\n",
      "    Axes and/or Figure.\n",
      "  plt.hold(b)\n",
      "/Users/icdi/Desktop/py_ws/venv/lib/python3.5/site-packages/matplotlib/__init__.py:911: MatplotlibDeprecationWarning: axes.hold is deprecated. Please remove it from your matplotlibrc and/or style files.\n",
      "  mplDeprecation)\n",
      "/Users/icdi/Desktop/py_ws/venv/lib/python3.5/site-packages/matplotlib/rcsetup.py:156: MatplotlibDeprecationWarning: axes.hold is deprecated, will be removed in 3.0\n",
      "  mplDeprecation)\n"
     ]
    },
    {
     "data": {
      "image/png": "[encoded data removed]",
      "text/plain": [
       "<Figure size 432x288 with 1 Axes>"
      ]
     },
     "metadata": {},
     "output_type": "display_data"
    },
    {
     "data": {
      "image/png": "[encoded data removed]",
      "text/plain": [
       "<Figure size 432x288 with 1 Axes>"
      ]
     },
     "metadata": {},
     "output_type": "display_data"
    },
    {
     "data": {
      "image/png": "[encoded data removed]",
      "text/plain": [
       "<Figure size 432x288 with 1 Axes>"
      ]
     },
     "metadata": {},
     "output_type": "display_data"
    }
   ],
   "source": [
    "import matplotlib.pyplot as plt\n",
    "nx.draw(geo_graph)\n",
    "plt.show()\n",
    "nx.draw(mst_graph)\n",
    "plt.show()\n",
    "nx.draw(combined_graph,data = True)\n",
    "plt.show()"
   ]
  },
  {
   "cell_type": "code",
   "execution_count": 106,
   "metadata": {},
   "outputs": [],
   "source": [
    "length = nx.all_pairs_shortest_path_length(combined_graph).items()\n",
    "import itertools"
   ]
  },
  {
   "cell_type": "code",
   "execution_count": 107,
   "metadata": {},
   "outputs": [],
   "source": [
    "def pairwise(iterable):\n",
    "  \"\"\"s -> (s0,s1), (s1,s2), (s2, s3), ...\"\"\"\n",
    "  a, b = itertools.tee(iterable)\n",
    "  next(b, None)\n",
    "  return zip(a, b)\n",
    "\n",
    "def set_diff(seq0, seq1):\n",
    "  \"\"\"Return the set difference between 2 sequences as a list.\"\"\"\n",
    "  return list(set(seq0) - set(seq1))"
   ]
  },
  {
   "cell_type": "code",
   "execution_count": 108,
   "metadata": {},
   "outputs": [
    {
     "name": "stdout",
     "output_type": "stream",
     "text": [
      "[(0, 1), (1, 2), (3, 2), (1, 3), (3, 0), (3, 1), (2, 1), (0, 2), (2, 0), (2, 3), (1, 0), (0, 3)]\n",
      "Counter({1: 8, 2: 4})\n",
      "start:  3 end:  2\n",
      "path:  [3, 2]\n"
     ]
    },
    {
     "name": "stderr",
     "output_type": "stream",
     "text": [
      "/Users/icdi/Desktop/py_ws/venv/lib/python3.5/site-packages/networkx/drawing/nx_pylab.py:121: MatplotlibDeprecationWarning: pyplot.hold is deprecated.\n",
      "    Future behavior will be consistent with the long-time default:\n",
      "    plot commands add elements without first clearing the\n",
      "    Axes and/or Figure.\n",
      "  b = plt.ishold()\n",
      "/Users/icdi/Desktop/py_ws/venv/lib/python3.5/site-packages/networkx/drawing/nx_pylab.py:500: MatplotlibDeprecationWarning: The is_string_like function was deprecated in version 2.1.\n",
      "  if not cb.is_string_like(edge_color) \\\n",
      "/Users/icdi/Desktop/py_ws/venv/lib/python3.5/site-packages/networkx/drawing/nx_pylab.py:521: MatplotlibDeprecationWarning: The is_string_like function was deprecated in version 2.1.\n",
      "  if cb.is_string_like(edge_color) or len(edge_color)==1:\n",
      "/Users/icdi/Desktop/py_ws/venv/lib/python3.5/site-packages/networkx/drawing/nx_pylab.py:700: MatplotlibDeprecationWarning: The is_string_like function was deprecated in version 2.1.\n",
      "  if not cb.is_string_like(label):\n",
      "/Users/icdi/Desktop/py_ws/venv/lib/python3.5/site-packages/networkx/drawing/nx_pylab.py:132: MatplotlibDeprecationWarning: pyplot.hold is deprecated.\n",
      "    Future behavior will be consistent with the long-time default:\n",
      "    plot commands add elements without first clearing the\n",
      "    Axes and/or Figure.\n",
      "  plt.hold(b)\n",
      "/Users/icdi/Desktop/py_ws/venv/lib/python3.5/site-packages/matplotlib/__init__.py:911: MatplotlibDeprecationWarning: axes.hold is deprecated. Please remove it from your matplotlibrc and/or style files.\n",
      "  mplDeprecation)\n",
      "/Users/icdi/Desktop/py_ws/venv/lib/python3.5/site-packages/matplotlib/rcsetup.py:156: MatplotlibDeprecationWarning: axes.hold is deprecated, will be removed in 3.0\n",
      "  mplDeprecation)\n"
     ]
    },
    {
     "data": {
      "image/png": "[encoded data removed]",
      "text/plain": [
       "<Figure size 432x288 with 1 Axes>"
      ]
     },
     "metadata": {},
     "output_type": "display_data"
    }
   ],
   "source": [
    "pair_to_length_dict = {}\n",
    "try:\n",
    "# This is for compatibility with older networkx.\n",
    "    lengths = nx.all_pairs_shortest_path_length(combined_graph).items()\n",
    "except AttributeError:\n",
    "# This is for compatibility with newer networkx.\n",
    "    lengths = list(nx.all_pairs_shortest_path_length(combined_graph))\n",
    "for x, yy in lengths:\n",
    "    for y, l in yy.items():\n",
    "      if l >= 1:\n",
    "        pair_to_length_dict[x, y] = l\n",
    "if max(pair_to_length_dict.values()) < 1:\n",
    "    raise ValueError(\"All shortest paths are below the minimum length\")\n",
    "# The node pairs which exceed the minimum length.\n",
    "node_pairs = list(pair_to_length_dict)\n",
    "print(node_pairs)\n",
    "# Computes probabilities per pair, to enforce uniform sampling of each\n",
    "# shortest path lengths.\n",
    "# The counts of pairs per length.\n",
    "counts = collections.Counter(pair_to_length_dict.values())\n",
    "print(counts)\n",
    "prob_per_length = 1.0 / len(counts)\n",
    "probabilities = [\n",
    "  prob_per_length / counts[pair_to_length_dict[x]] for x in node_pairs\n",
    "]\n",
    "i = rand.choice(len(node_pairs), p=probabilities)\n",
    "start, end = node_pairs[i]\n",
    "print('start: ',start,'end: ',end)\n",
    "path = nx.shortest_path(\n",
    "  combined_graph, source=start, target=end, weight=DISTANCE_WEIGHT_NAME)\n",
    "print('path: ', path)\n",
    "# Creates a directed graph, to store the directed path from start to end.\n",
    "digraph = combined_graph.to_directed()\n",
    "nx.draw(digraph)\n",
    "# Add the \"start\", \"end\", and \"solution\" attributes to the nodes and edges.\n",
    "digraph.add_node(start, start=True)\n",
    "digraph.add_node(end, end=True)\n",
    "digraph.add_nodes_from(set_diff(digraph.nodes(), [start]), start=False)\n",
    "digraph.add_nodes_from(set_diff(digraph.nodes(), [end]), end=False)\n",
    "digraph.add_nodes_from(set_diff(digraph.nodes(), path), solution=False)\n",
    "digraph.add_nodes_from(path, solution=True)\n",
    "path_edges = list(pairwise(path))\n",
    "digraph.add_edges_from(set_diff(digraph.edges(), path_edges), solution=False)\n",
    "digraph.add_edges_from(path_edges, solution=True)"
   ]
  },
  {
   "cell_type": "code",
   "execution_count": 109,
   "metadata": {},
   "outputs": [
    {
     "name": "stderr",
     "output_type": "stream",
     "text": [
      "/Users/icdi/Desktop/py_ws/venv/lib/python3.5/site-packages/networkx/drawing/nx_pylab.py:121: MatplotlibDeprecationWarning: pyplot.hold is deprecated.\n",
      "    Future behavior will be consistent with the long-time default:\n",
      "    plot commands add elements without first clearing the\n",
      "    Axes and/or Figure.\n",
      "  b = plt.ishold()\n",
      "/Users/icdi/Desktop/py_ws/venv/lib/python3.5/site-packages/networkx/drawing/nx_pylab.py:500: MatplotlibDeprecationWarning: The is_string_like function was deprecated in version 2.1.\n",
      "  if not cb.is_string_like(edge_color) \\\n",
      "/Users/icdi/Desktop/py_ws/venv/lib/python3.5/site-packages/networkx/drawing/nx_pylab.py:521: MatplotlibDeprecationWarning: The is_string_like function was deprecated in version 2.1.\n",
      "  if cb.is_string_like(edge_color) or len(edge_color)==1:\n",
      "/Users/icdi/Desktop/py_ws/venv/lib/python3.5/site-packages/networkx/drawing/nx_pylab.py:700: MatplotlibDeprecationWarning: The is_string_like function was deprecated in version 2.1.\n",
      "  if not cb.is_string_like(label):\n",
      "/Users/icdi/Desktop/py_ws/venv/lib/python3.5/site-packages/networkx/drawing/nx_pylab.py:132: MatplotlibDeprecationWarning: pyplot.hold is deprecated.\n",
      "    Future behavior will be consistent with the long-time default:\n",
      "    plot commands add elements without first clearing the\n",
      "    Axes and/or Figure.\n",
      "  plt.hold(b)\n",
      "/Users/icdi/Desktop/py_ws/venv/lib/python3.5/site-packages/matplotlib/__init__.py:911: MatplotlibDeprecationWarning: axes.hold is deprecated. Please remove it from your matplotlibrc and/or style files.\n",
      "  mplDeprecation)\n",
      "/Users/icdi/Desktop/py_ws/venv/lib/python3.5/site-packages/matplotlib/rcsetup.py:156: MatplotlibDeprecationWarning: axes.hold is deprecated, will be removed in 3.0\n",
      "  mplDeprecation)\n"
     ]
    },
    {
     "data": {
      "image/png": "[encoded data removed]",
      "text/plain": [
       "<Figure size 432x288 with 1 Axes>"
      ]
     },
     "metadata": {},
     "output_type": "display_data"
    }
   ],
   "source": [
    "nx.draw(digraph)\n",
    "plt.show()"
   ]
  },
  {
   "cell_type": "code",
   "execution_count": 110,
   "metadata": {},
   "outputs": [],
   "source": [
    "def to_one_hot(indices, max_value, axis=-1):\n",
    "  one_hot = np.eye(max_value)[indices]\n",
    "  if axis not in (-1, one_hot.ndim):\n",
    "    one_hot = np.moveaxis(one_hot, -1, axis)\n",
    "  return one_hot\n",
    "\n",
    "\n",
    "def get_node_dict(graph, attr):\n",
    "  \"\"\"Return a `dict` of node:attribute pairs from a graph.\"\"\"\n",
    "  return {k: v[attr] for k, v in graph.node.items()}\n",
    "def graph_to_input_target(graph):\n",
    "  \"\"\"Returns 2 graphs with input and target feature vectors for training.\n",
    "\n",
    "  Args:\n",
    "    graph: An `nx.DiGraph` instance.\n",
    "\n",
    "  Returns:\n",
    "    The input `nx.DiGraph` instance.\n",
    "    The target `nx.DiGraph` instance.\n",
    "\n",
    "  Raises:\n",
    "    ValueError: unknown node type\n",
    "  \"\"\"\n",
    "\n",
    "  def create_feature(attr, fields):\n",
    "    return np.hstack([np.array(attr[field], dtype=float) for field in fields])\n",
    "\n",
    "  input_node_fields = (\"pos\", \"weight\", \"start\", \"end\")\n",
    "  input_edge_fields = (\"distance\",)\n",
    "  target_node_fields = (\"solution\",)\n",
    "  target_edge_fields = (\"solution\",)\n",
    "\n",
    "  input_graph = graph.copy()\n",
    "  target_graph = graph.copy()\n",
    "\n",
    "  solution_length = 0\n",
    "  for node_index, node_feature in graph.nodes(data=True):\n",
    "    input_graph.add_node(\n",
    "        node_index, features=create_feature(node_feature, input_node_fields))\n",
    "    target_node = to_one_hot(\n",
    "        create_feature(node_feature, target_node_fields).astype(int), 2)[0]\n",
    "    target_graph.add_node(node_index, features=target_node)\n",
    "    solution_length += int(node_feature[\"solution\"])\n",
    "  solution_length /= graph.number_of_nodes()\n",
    "\n",
    "  for receiver, sender, features in graph.edges(data=True):\n",
    "    input_graph.add_edge(\n",
    "        sender, receiver, features=create_feature(features, input_edge_fields))\n",
    "    target_edge = to_one_hot(\n",
    "        create_feature(features, target_edge_fields).astype(int), 2)[0]\n",
    "    target_graph.add_edge(sender, receiver, features=target_edge)\n",
    "\n",
    "  input_graph.graph[\"features\"] = np.array([0.0])\n",
    "  target_graph.graph[\"features\"] = np.array([solution_length], dtype=float)\n",
    "\n",
    "  return input_graph, target_graph"
   ]
  },
  {
   "cell_type": "code",
   "execution_count": 116,
   "metadata": {},
   "outputs": [
    {
     "data": {
      "text/plain": [
       "{0: {3: {'distance': 0.44011235595489956,\n",
       "   'features': array([1., 0.]),\n",
       "   'solution': False}},\n",
       " 1: {2: {'distance': 0.25612732176293496,\n",
       "   'features': array([1., 0.]),\n",
       "   'solution': False},\n",
       "  3: {'distance': 0.19109930874428313,\n",
       "   'features': array([1., 0.]),\n",
       "   'solution': False}},\n",
       " 2: {1: {'distance': 0.25612732176293496,\n",
       "   'features': array([1., 0.]),\n",
       "   'solution': False},\n",
       "  3: {'distance': 0.25628507489994234,\n",
       "   'features': array([0., 1.]),\n",
       "   'solution': False}},\n",
       " 3: {0: {'distance': 0.44011235595489956,\n",
       "   'features': array([1., 0.]),\n",
       "   'solution': False},\n",
       "  1: {'distance': 0.19109930874428313,\n",
       "   'features': array([1., 0.]),\n",
       "   'solution': False},\n",
       "  2: {'distance': 0.25628507489994234,\n",
       "   'features': array([1., 0.]),\n",
       "   'solution': True}}}"
      ]
     },
     "execution_count": 116,
     "metadata": {},
     "output_type": "execute_result"
    }
   ],
   "source": [
    "input_graph,target_graph = graph_to_input_target(digraph)\n",
    "# input_graph.edge\n",
    "target_graph.edges"
   ]
  },
  {
   "cell_type": "code",
   "execution_count": 52,
   "metadata": {},
   "outputs": [
    {
     "name": "stdout",
     "output_type": "stream",
     "text": [
      "(2, 3)\n",
      "Tensor(\"linear_6/add:0\", shape=(2, 20), dtype=float32)\n"
     ]
    }
   ],
   "source": [
    "tf_data = tf.constant([[1.0,2.0,3.0],[4.0,5.0,6.0]],dtype = tf.float32)\n",
    "print(tf_data.get_shape())\n",
    "output = snt.Linear(output_size = 20)\n",
    "snt.Sequential([output])\n",
    "out = output(tf_data)\n",
    "print(out)"
   ]
  },
  {
   "cell_type": "code",
   "execution_count": null,
   "metadata": {},
   "outputs": [],
   "source": []
  }
 ],
 "metadata": {
  "kernelspec": {
   "display_name": "Python 3",
   "language": "python",
   "name": "python3"
  },
  "language_info": {
   "codemirror_mode": {
    "name": "ipython",
    "version": 3
   },
   "file_extension": ".py",
   "mimetype": "text/x-python",
   "name": "python",
   "nbconvert_exporter": "python",
   "pygments_lexer": "ipython3",
   "version": "3.5.2rc1"
  }
 },
 "nbformat": 4,
 "nbformat_minor": 1
}
