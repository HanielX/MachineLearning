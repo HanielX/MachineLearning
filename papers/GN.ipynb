{
 "cells": [
  {
   "cell_type": "markdown",
   "metadata": {},
   "source": [
    "## NIPS 2018 Relational inductive biases, deep learning, and graph networks"
   ]
  },
  {
   "cell_type": "markdown",
   "metadata": {
    "collapsed": true
   },
   "source": [
    "- 联合特征工程和端到端的学习，提升组合泛化的能力。\n",
    "- 支持关系推理和组合泛化。\n",
    "- 观点是世界上的事物都是组合在一起的，相互影响。\n",
    "- 深度学习的局限性有语言和场景理解，从结构化数据中推理，从小样本中进行学习。\n",
    "- 现在深度学习对于关系经常携带关系假设，但是他们不是很明显的。我们提出实体和关系推断(图网络)\n",
    "- 归纳偏好在一些场景中可以看作是正则项。加上一些偏好可以减小解的空间，或者使得解往一个方向进行移动。"
   ]
  },
  {
   "cell_type": "markdown",
   "metadata": {},
   "source": [
    "- FC,CNN,RNN的归纳偏好\n",
    "![nn-biasis](img/nn-biasis.png)"
   ]
  },
  {
   "cell_type": "markdown",
   "metadata": {},
   "source": [
    "- 全连接是偏好非常弱的，主要是每一个输入都跟输出相连。将unit看做是节点，将边看做是规则。\n",
    "- 卷积具有布局和平移不变形的偏好。节点跟全连接一样，规则看做是卷积操作。\n",
    "- 隐状态和当前的输入作为节点，规则就是使用当前输入和前一个隐状态生成当前的隐状态。"
   ]
  },
  {
   "cell_type": "markdown",
   "metadata": {},
   "source": [
    "### GN block\n",
    "- 一种图到图模块，输入一张图，在图上进行操作后，再返回一张图。\n",
    "- ![图](img/graph.png)"
   ]
  },
  {
   "cell_type": "markdown",
   "metadata": {},
   "source": [
    "- 有方向的边。\n",
    "- 属性，可以被encode为一个向量，集合或者其他一张图。\n",
    "- 边和节点都带有属性。\n",
    "- $u$为一个全局的属性向量，$v_{i}$为节点$i$的属性，$e_{k}$为边属性，$v_{sk}$发送节点的index，$v_{rk}$为接受节点的index。\n",
    "- 多图，在该图中可以节点间可以有多条边，也可以有自环。"
   ]
  },
  {
   "cell_type": "markdown",
   "metadata": {},
   "source": [
    "### GN block 的设计原则\n",
    "- 强调可定制型和合成新的架构，能够表达想要的关系偏好。\n",
    "- 主要的设计原则：灵活的表示，块内可配置的结构，可组合的多块结构。"
   ]
  },
  {
   "cell_type": "markdown",
   "metadata": {},
   "source": [
    "### 图的定义\n",
    "- $G=(u,V,E)$,u表示为全局属性向量。$V=\\{v_{i}\\}_{i=1:N^{v}}$,是节点的集合，$E=\\{(e_{k},r_{k},s_{k})\\}_{k=1:N^{e}}$ 是边的集合。$v_{i},e_{k}$分别是节点的属性和边的属性。"
   ]
  },
  {
   "cell_type": "markdown",
   "metadata": {},
   "source": [
    "### GN block 内部结构\n",
    "- ![内部结构](img/internal-gn-block.png)"
   ]
  },
  {
   "cell_type": "markdown",
   "metadata": {},
   "source": [
    "- 主要包含三个更新函数和三个聚合函数。"
   ]
  },
  {
   "cell_type": "markdown",
   "metadata": {},
   "source": [
    "![step-of-gn](img/step-of-gn.png)\n",
    "- 可以认为是先从边进行更新，然后用连接节点的边进行更新节点，最后再用更新的边信息和节点信息来更新全局信息。"
   ]
  },
  {
   "cell_type": "markdown",
   "metadata": {},
   "source": [
    "### GN block 的偏好体现\n",
    "- 是由图来决定的，实体之间的偏好是由边来进行控制。\n",
    "- 排列组合不变形，即节点的顺序没有关系，可以看做是一个集合。\n",
    "- 每个边和每个节点的函数重复使用的。能够很好地支持组合泛化能力。(对任意节点和任意边的图都是适用的)"
   ]
  },
  {
   "cell_type": "markdown",
   "metadata": {},
   "source": [
    "### 不同网络结构的GN 实现"
   ]
  },
  {
   "cell_type": "markdown",
   "metadata": {},
   "source": [
    "![full-block](img/full-block.png)\n",
    "- 不同的网络结构都可以用GN来实现。"
   ]
  }
 ],
 "metadata": {
  "kernelspec": {
   "display_name": "Python 3",
   "language": "python",
   "name": "python3"
  },
  "language_info": {
   "codemirror_mode": {
    "name": "ipython",
    "version": 3
   },
   "file_extension": ".py",
   "mimetype": "text/x-python",
   "name": "python",
   "nbconvert_exporter": "python",
   "pygments_lexer": "ipython3",
   "version": "3.5.2rc1"
  }
 },
 "nbformat": 4,
 "nbformat_minor": 1
}
