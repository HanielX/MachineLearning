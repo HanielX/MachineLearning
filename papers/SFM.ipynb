{
 "cells": [
  {
   "cell_type": "markdown",
   "metadata": {
    "collapsed": true
   },
   "source": [
    "### 论文 KDD 17-Stock Price Prediction via Discovering Multi-Frequency Trading Patterns\n",
    "- 主要使用傅里叶变换将时域的信号变成频域的信号。"
   ]
  },
  {
   "cell_type": "markdown",
   "metadata": {},
   "source": [
    "![](img/sfm.png)"
   ]
  },
  {
   "cell_type": "markdown",
   "metadata": {},
   "source": [
    "- $h_t \\in R^{D} ,D$为unit的个数\n",
    "- $S_t \\in R^{D \\times K}, K$为分频的多少\n",
    "- $u_{a} \\in R^{K}$ 是需要学习的参数，对应的意义就是反变换基"
   ]
  },
  {
   "cell_type": "markdown",
   "metadata": {},
   "source": [
    "## 基本公式如下："
   ]
  },
  {
   "cell_type": "markdown",
   "metadata": {},
   "source": [
    "$$\\begin{eqnarray*} \n",
    "f_{t}^{ste} &=& sigmoid(W_{ste}x_{t}+U_{ste}h_{t-1}+b_{ste}) \\in R^{D} \\tag{1}\\\\\n",
    "f_{t}^{fre} &=& sigmoid(W_{fre}x_{t}+U_{fre}h_{t-1}+b_{fre}) \\in R^{K} \\tag{2}\\\\\n",
    "F_{t} &=& f_{t}^{ste} \\otimes f_{t}^{fre} \\in R^{D \\times K} \\tag{3}\\\\\n",
    "i_{t} &=& sigmoid(W_{i}x_{t}+U_{i}h_{t-1}+b_{i}) \\tag{4} \\\\ \n",
    "\\tilde{c_{t}} &=& tanh(W_{c}x_{t}+U_{c}h_{t-1}+b_{c}) \\tag{5} \\\\\n",
    "S_{t} &=& F_{t} \\circ S_{t-1} + (i_{t} \\circ \\tilde{c_{t}}) \\begin{bmatrix}  e^{j\\omega_{1}t}\\\\ e^{j\\omega_{2}t}\\\\ e^{j\\omega_{3}t}\\\\...\\\\ e^{j\\omega_{K}t}\\\\  \\end{bmatrix} ^{T} \\tag{6} \\\\\n",
    "ReS_{t} &=& F_{t} \\circ ReS_{t-1} + (i_{t} \\circ \\tilde{c_{t}})[cos\\omega_{1}t,...,cos\\omega_{k}] \\in R^{D\\times K} \\tag{7}\\\\\n",
    "ReS_{t} &=& F_{t} \\circ ImS_{t-1} + (i_{t} \\circ \\tilde{c_{t}})[sin\\omega_{1}t,...,sin\\omega_{k}] \\in R^{D\\times K} \\tag{8}\\\\\n",
    "A_{t} &=& |S_{t}| = \\sqrt(ReS_{t}^2 + ImS_{t}^2) \\in R^{D \\times R} \\tag{9}\\\\\n",
    "c_{t} &=& tanh(A_{t}u_{a}+b_{a}) \\in R^{D} \\tag{10} \\\\\n",
    "o_{t} &=& sigmoid(W_{o}x_{t} + U_{o}h_{t-1}+b_{o}) \\tag{11}\\\\\n",
    "h_{t} &=& o_{t} \\circ c_{t} \\tag{12}\n",
    "\\end{eqnarray*}$$"
   ]
  },
  {
   "cell_type": "code",
   "execution_count": null,
   "metadata": {},
   "outputs": [],
   "source": []
  }
 ],
 "metadata": {
  "kernelspec": {
   "display_name": "Python 3",
   "language": "python",
   "name": "python3"
  },
  "language_info": {
   "codemirror_mode": {
    "name": "ipython",
    "version": 3
   },
   "file_extension": ".py",
   "mimetype": "text/x-python",
   "name": "python",
   "nbconvert_exporter": "python",
   "pygments_lexer": "ipython3",
   "version": "3.5.2rc1"
  }
 },
 "nbformat": 4,
 "nbformat_minor": 1
}
