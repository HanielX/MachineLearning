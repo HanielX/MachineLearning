{
 "cells": [
  {
   "cell_type": "markdown",
   "metadata": {
    "collapsed": true
   },
   "source": [
    "### ICML 2019 Position-aware Graph Neural Network\n",
    "- 图中节点的embedding方法可分为GNN,矩阵分解和随机行走的方法。\n",
    "- random-walk方法are limited to transdductive settings and cannot incorporate node attributes."
   ]
  },
  {
   "cell_type": "markdown",
   "metadata": {},
   "source": [
    "- 目标是学习到的embedding既能够捕局部网络结构，又能够保留全局的网络位置，学习到的embedding能够恢复出两点之间的最短距离。"
   ]
  },
  {
   "cell_type": "markdown",
   "metadata": {},
   "source": [
    "- 和传统的GNN不同的是，其是使用特定集合的点来进行一个信息的聚合，每次网络向前传播都进行一次采样。"
   ]
  },
  {
   "cell_type": "markdown",
   "metadata": {},
   "source": [
    "![P-GNN](img/P-GNN.png)\n",
    "- embedding的每一个维度都是当前节点和选择的子集相对应，这样也体现了位置感知。\n",
    "- 选集合的时候选择$log^2(n)$个集合可以保证低失真，集合大小符合指数分布。小集合可以包含更多的信息，但是采样的概率是比较小的，大集合则相反。"
   ]
  },
  {
   "cell_type": "code",
   "execution_count": null,
   "metadata": {},
   "outputs": [],
   "source": []
  }
 ],
 "metadata": {
  "kernelspec": {
   "display_name": "Python 3",
   "language": "python",
   "name": "python3"
  },
  "language_info": {
   "codemirror_mode": {
    "name": "ipython",
    "version": 3
   },
   "file_extension": ".py",
   "mimetype": "text/x-python",
   "name": "python",
   "nbconvert_exporter": "python",
   "pygments_lexer": "ipython3",
   "version": "3.5.2rc1"
  }
 },
 "nbformat": 4,
 "nbformat_minor": 1
}
