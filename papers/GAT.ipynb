{
 "cells": [
  {
   "cell_type": "markdown",
   "metadata": {
    "collapsed": true
   },
   "source": [
    "### Grapg attention Network ICLR 2018"
   ]
  },
  {
   "cell_type": "markdown",
   "metadata": {},
   "source": [
    "GAT Architecture\n",
    "- $h =\\{ \\overrightarrow{h_{1}},\\overrightarrow{h_{2}},...,\\overrightarrow{h_{N}}\\}$,$\\overrightarrow{h_{i}} \\in R^{F}$ ->$h^{'}=\\{ \\overrightarrow{h_{1}^{'}},\\overrightarrow{h_{2}^{'}},...,\\overrightarrow{h_{N}^{'}}\\}$,$\\overrightarrow{h_{i}^{'}} \\in R^{F^{'}}$"
   ]
  },
  {
   "cell_type": "markdown",
   "metadata": {},
   "source": [
    "$e_{ij}=a(W\\overrightarrow{h_{i}},W\\overrightarrow{h_{j}})$,$W \\in R^{F'\\times F}$,it's a map that $R^{F'} \\times R^{F'} -> R$"
   ]
  },
  {
   "cell_type": "markdown",
   "metadata": {},
   "source": [
    "$\\alpha_{ij}=softmax_{j}(e_{ij}) = \\frac{exp(e_{ij})}{\\sum_{k \\in N_{i}}exp(e_{ik})}$"
   ]
  },
  {
   "cell_type": "markdown",
   "metadata": {},
   "source": [
    "$\\alpha_{ij}=\\frac{exp(relu(\\overrightarrow{a}^{T})W[\\overrightarrow{h_{i}}||\\overrightarrow{h_{j}}])}{\\sum_{k \\in N_{i}} exp(relu(\\overrightarrow{a}^{T})W[\\overrightarrow{h_{i}}||\\overrightarrow{h_{k}}])}$,$a\\in R^{2F'}$"
   ]
  },
  {
   "cell_type": "markdown",
   "metadata": {},
   "source": [
    "### K mutil head attention"
   ]
  },
  {
   "cell_type": "markdown",
   "metadata": {},
   "source": [
    "$\\overrightarrow{h_{i}'} = ||_{k=1}^{K} \\sigma(\\sum_{j \\in N_{i}}\\alpha_{ij}^{k}W^{k}\\overrightarrow{h_{j}})$\n",
    "at the last layer ,we usually use $\\overrightarrow{h_{i}'}=\\sigma(\\frac{1}{K} \\sum_{k=1}^{K}\\sum_{j \\in N_{i}}\\alpha_{ij}^{k}W^{k}\\overrightarrow{h_{j}})$"
   ]
  }
 ],
 "metadata": {
  "kernelspec": {
   "display_name": "Python 3",
   "language": "python",
   "name": "python3"
  },
  "language_info": {
   "codemirror_mode": {
    "name": "ipython",
    "version": 3
   },
   "file_extension": ".py",
   "mimetype": "text/x-python",
   "name": "python",
   "nbconvert_exporter": "python",
   "pygments_lexer": "ipython3",
   "version": "3.5.2rc1"
  }
 },
 "nbformat": 4,
 "nbformat_minor": 1
}
