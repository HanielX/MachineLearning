{
 "cells": [
  {
   "cell_type": "code",
   "execution_count": 1,
   "metadata": {},
   "outputs": [],
   "source": [
    "import tensorflow as tf"
   ]
  },
  {
   "cell_type": "markdown",
   "metadata": {},
   "source": [
    "### Defination\n",
    "- $D_{a}^{t}$ the set of IAQI values for a certain pollutant in a city during time period t.\n",
    "- $D_{p}$ the set of all POIs in a city\n",
    "- $D_{r}$ consists of a set of linked road segments in a city, include the <b>start points</b> and <b>end points</b> and <b>road type</b>\n",
    "- $D_{m}$ (district-level)denote the real-time meteorological information include <b>weather, temperature, pressure, humidity, wind speed and wind direction</b>\n",
    "- $X^{m}$ meteorological features\n",
    "- $X^{mt}$ the set of meteorological features during time period t\n",
    "- $X^{p}$ POI data 12 dimension，which dimension include the sum of $cate^{c}$ \n",
    "- $X^{r}$ 3 dimension ,include highway, trunk, others ,the total length in a region\n",
    "- for each station, extract features $X_{s}^{m},X_{s}^{p},X_{s}^{r}$ within s' affecting region\n",
    "- $X_{s}^{d}$ that records the distance and direction of s to the target location l\n",
    "- $X_{s}^{a}$ that contain a sequence of observed IAQI values in s over time."
   ]
  },
  {
   "cell_type": "markdown",
   "metadata": {},
   "source": [
    "### 系统架构\n",
    "![](img/frame.png)"
   ]
  },
  {
   "cell_type": "markdown",
   "metadata": {},
   "source": [
    "### target\n",
    "- predict IAQI value for a target location in a given time period.\n"
   ]
  },
  {
   "cell_type": "markdown",
   "metadata": {},
   "source": [
    "#### 关键点\n",
    "- build an individual model for each pollutant\n",
    "- ADAIN incorporates the attention mechanism to discriminate the importance of features from different monitoring stations automatically.\n",
    "- certain distance d equal 2 kilometers\n",
    "- one hot encoding for attribute { weather and wind_direction}\n",
    "- other numerical ones normalize to range [0,1]"
   ]
  },
  {
   "cell_type": "markdown",
   "metadata": {},
   "source": [
    "#### 不懂点\n",
    "- To obtain training data, we deliberately remove a monitoring station, and associate the features extracted from data in its affecting region (i.e., within certain distance) and data collected by the remaining monitoring stations with the ground-truth IAQI value as one training example."
   ]
  },
  {
   "cell_type": "markdown",
   "metadata": {},
   "source": [
    "![adain](img/adain.png)"
   ]
  },
  {
   "cell_type": "markdown",
   "metadata": {},
   "source": [
    "- 没有得到$POI$数据和路数据"
   ]
  },
  {
   "cell_type": "markdown",
   "metadata": {},
   "source": [
    "### Feature Extraction"
   ]
  },
  {
   "cell_type": "code",
   "execution_count": 4,
   "metadata": {},
   "outputs": [],
   "source": [
    "data_path = '/Users/icdi/Downloads/Data'"
   ]
  },
  {
   "cell_type": "code",
   "execution_count": 2,
   "metadata": {},
   "outputs": [],
   "source": [
    "import os\n",
    "import pandas as pd\n",
    "import numpy as np"
   ]
  },
  {
   "cell_type": "code",
   "execution_count": 5,
   "metadata": {},
   "outputs": [
    {
     "data": {
      "text/plain": [
       "['airquality.csv',\n",
       " 'district.csv',\n",
       " 'station.csv',\n",
       " 'weatherforecast.csv',\n",
       " 'city.csv',\n",
       " 'meteorology.csv',\n",
       " 'readme.pdf']"
      ]
     },
     "execution_count": 5,
     "metadata": {},
     "output_type": "execute_result"
    }
   ],
   "source": [
    "file = os.listdir(data_path)\n",
    "file\n",
    "bj = 1"
   ]
  },
  {
   "cell_type": "code",
   "execution_count": 11,
   "metadata": {},
   "outputs": [
    {
     "data": {
      "text/plain": [
       "Index(['district_id', 'name_chinese', 'name_english', 'city_id'], dtype='object')"
      ]
     },
     "execution_count": 11,
     "metadata": {},
     "output_type": "execute_result"
    }
   ],
   "source": [
    "frame_dist = pd.read_csv(data_path + '/district.csv')\n",
    "frame_dist.columns"
   ]
  },
  {
   "cell_type": "code",
   "execution_count": 65,
   "metadata": {},
   "outputs": [
    {
     "data": {
      "text/plain": [
       "array([101, 102, 103, 104, 105, 106, 107, 108, 109, 110, 111, 112, 113,\n",
       "       114, 115, 116])"
      ]
     },
     "execution_count": 65,
     "metadata": {},
     "output_type": "execute_result"
    }
   ],
   "source": [
    "bj_dist = np.unique(frame_dist[frame_dist['city_id'] == 1]['district_id'])\n",
    "bj_dist ## 北京包含16个区域"
   ]
  },
  {
   "cell_type": "code",
   "execution_count": 19,
   "metadata": {},
   "outputs": [],
   "source": [
    "frame_station = pd.read_csv(data_path + '/station.csv')"
   ]
  },
  {
   "cell_type": "code",
   "execution_count": 20,
   "metadata": {},
   "outputs": [
    {
     "data": {
      "text/html": [
       "<div>\n",
       "<style scoped>\n",
       "    .dataframe tbody tr th:only-of-type {\n",
       "        vertical-align: middle;\n",
       "    }\n",
       "\n",
       "    .dataframe tbody tr th {\n",
       "        vertical-align: top;\n",
       "    }\n",
       "\n",
       "    .dataframe thead th {\n",
       "        text-align: right;\n",
       "    }\n",
       "</style>\n",
       "<table border=\"1\" class=\"dataframe\">\n",
       "  <thead>\n",
       "    <tr style=\"text-align: right;\">\n",
       "      <th></th>\n",
       "      <th>station_id</th>\n",
       "      <th>name_chinese</th>\n",
       "      <th>name_english</th>\n",
       "      <th>latitude</th>\n",
       "      <th>longitude</th>\n",
       "      <th>district_id</th>\n",
       "    </tr>\n",
       "  </thead>\n",
       "  <tbody>\n",
       "    <tr>\n",
       "      <th>0</th>\n",
       "      <td>1001</td>\n",
       "      <td>海淀北部新区</td>\n",
       "      <td>HaiDianBeiBuXinQu</td>\n",
       "      <td>40.090679</td>\n",
       "      <td>116.173553</td>\n",
       "      <td>101</td>\n",
       "    </tr>\n",
       "    <tr>\n",
       "      <th>1</th>\n",
       "      <td>1002</td>\n",
       "      <td>海淀北京植物园</td>\n",
       "      <td>HaiDianBeiJingZhiWuYuan</td>\n",
       "      <td>40.003950</td>\n",
       "      <td>116.205310</td>\n",
       "      <td>101</td>\n",
       "    </tr>\n",
       "    <tr>\n",
       "      <th>2</th>\n",
       "      <td>1003</td>\n",
       "      <td>石景山古城</td>\n",
       "      <td>ShiJingShanGuCheng</td>\n",
       "      <td>39.914409</td>\n",
       "      <td>116.184239</td>\n",
       "      <td>102</td>\n",
       "    </tr>\n",
       "    <tr>\n",
       "      <th>3</th>\n",
       "      <td>1004</td>\n",
       "      <td>丰台云岗</td>\n",
       "      <td>FengTaiYunGang</td>\n",
       "      <td>39.815128</td>\n",
       "      <td>116.171150</td>\n",
       "      <td>103</td>\n",
       "    </tr>\n",
       "    <tr>\n",
       "      <th>4</th>\n",
       "      <td>1005</td>\n",
       "      <td>房山良乡</td>\n",
       "      <td>FangShanLiangXiang</td>\n",
       "      <td>39.742767</td>\n",
       "      <td>116.136045</td>\n",
       "      <td>104</td>\n",
       "    </tr>\n",
       "  </tbody>\n",
       "</table>\n",
       "</div>"
      ],
      "text/plain": [
       "   station_id name_chinese             name_english   latitude   longitude  \\\n",
       "0        1001       海淀北部新区        HaiDianBeiBuXinQu  40.090679  116.173553   \n",
       "1        1002      海淀北京植物园  HaiDianBeiJingZhiWuYuan  40.003950  116.205310   \n",
       "2        1003        石景山古城       ShiJingShanGuCheng  39.914409  116.184239   \n",
       "3        1004         丰台云岗           FengTaiYunGang  39.815128  116.171150   \n",
       "4        1005         房山良乡       FangShanLiangXiang  39.742767  116.136045   \n",
       "\n",
       "   district_id  \n",
       "0          101  \n",
       "1          101  \n",
       "2          102  \n",
       "3          103  \n",
       "4          104  "
      ]
     },
     "execution_count": 20,
     "metadata": {},
     "output_type": "execute_result"
    }
   ],
   "source": [
    "frame_station.head()"
   ]
  },
  {
   "cell_type": "code",
   "execution_count": 37,
   "metadata": {},
   "outputs": [
    {
     "data": {
      "text/html": [
       "<div>\n",
       "<style scoped>\n",
       "    .dataframe tbody tr th:only-of-type {\n",
       "        vertical-align: middle;\n",
       "    }\n",
       "\n",
       "    .dataframe tbody tr th {\n",
       "        vertical-align: top;\n",
       "    }\n",
       "\n",
       "    .dataframe thead th {\n",
       "        text-align: right;\n",
       "    }\n",
       "</style>\n",
       "<table border=\"1\" class=\"dataframe\">\n",
       "  <thead>\n",
       "    <tr style=\"text-align: right;\">\n",
       "      <th></th>\n",
       "      <th>station_id</th>\n",
       "      <th>name_chinese</th>\n",
       "      <th>name_english</th>\n",
       "      <th>latitude</th>\n",
       "      <th>longitude</th>\n",
       "      <th>district_id</th>\n",
       "    </tr>\n",
       "  </thead>\n",
       "  <tbody>\n",
       "  </tbody>\n",
       "</table>\n",
       "</div>"
      ],
      "text/plain": [
       "Empty DataFrame\n",
       "Columns: [station_id, name_chinese, name_english, latitude, longitude, district_id]\n",
       "Index: []"
      ]
     },
     "execution_count": 37,
     "metadata": {},
     "output_type": "execute_result"
    }
   ],
   "source": [
    "frame_station[frame_station.isnull().values==True]"
   ]
  },
  {
   "cell_type": "code",
   "execution_count": 87,
   "metadata": {},
   "outputs": [],
   "source": [
    "bj_station =frame_station[list(map(lambda x: x in bj_dict , frame_station['district_id'].values))]"
   ]
  },
  {
   "cell_type": "code",
   "execution_count": 119,
   "metadata": {},
   "outputs": [],
   "source": [
    "bj_station.to_csv('bj_station.csv',index = False ,encoding = 'gb2312')"
   ]
  },
  {
   "cell_type": "code",
   "execution_count": 93,
   "metadata": {},
   "outputs": [
    {
     "data": {
      "text/html": [
       "<div>\n",
       "<style scoped>\n",
       "    .dataframe tbody tr th:only-of-type {\n",
       "        vertical-align: middle;\n",
       "    }\n",
       "\n",
       "    .dataframe tbody tr th {\n",
       "        vertical-align: top;\n",
       "    }\n",
       "\n",
       "    .dataframe thead th {\n",
       "        text-align: right;\n",
       "    }\n",
       "</style>\n",
       "<table border=\"1\" class=\"dataframe\">\n",
       "  <thead>\n",
       "    <tr style=\"text-align: right;\">\n",
       "      <th></th>\n",
       "      <th>station_id</th>\n",
       "      <th>name_chinese</th>\n",
       "      <th>name_english</th>\n",
       "      <th>latitude</th>\n",
       "      <th>longitude</th>\n",
       "      <th>district_id</th>\n",
       "    </tr>\n",
       "  </thead>\n",
       "  <tbody>\n",
       "    <tr>\n",
       "      <th>0</th>\n",
       "      <td>1001</td>\n",
       "      <td>海淀北部新区</td>\n",
       "      <td>HaiDianBeiBuXinQu</td>\n",
       "      <td>40.090679</td>\n",
       "      <td>116.173553</td>\n",
       "      <td>101</td>\n",
       "    </tr>\n",
       "    <tr>\n",
       "      <th>1</th>\n",
       "      <td>1002</td>\n",
       "      <td>海淀北京植物园</td>\n",
       "      <td>HaiDianBeiJingZhiWuYuan</td>\n",
       "      <td>40.003950</td>\n",
       "      <td>116.205310</td>\n",
       "      <td>101</td>\n",
       "    </tr>\n",
       "    <tr>\n",
       "      <th>2</th>\n",
       "      <td>1003</td>\n",
       "      <td>石景山古城</td>\n",
       "      <td>ShiJingShanGuCheng</td>\n",
       "      <td>39.914409</td>\n",
       "      <td>116.184239</td>\n",
       "      <td>102</td>\n",
       "    </tr>\n",
       "    <tr>\n",
       "      <th>3</th>\n",
       "      <td>1004</td>\n",
       "      <td>丰台云岗</td>\n",
       "      <td>FengTaiYunGang</td>\n",
       "      <td>39.815128</td>\n",
       "      <td>116.171150</td>\n",
       "      <td>103</td>\n",
       "    </tr>\n",
       "    <tr>\n",
       "      <th>4</th>\n",
       "      <td>1005</td>\n",
       "      <td>房山良乡</td>\n",
       "      <td>FangShanLiangXiang</td>\n",
       "      <td>39.742767</td>\n",
       "      <td>116.136045</td>\n",
       "      <td>104</td>\n",
       "    </tr>\n",
       "  </tbody>\n",
       "</table>\n",
       "</div>"
      ],
      "text/plain": [
       "   station_id name_chinese             name_english   latitude   longitude  \\\n",
       "0        1001       海淀北部新区        HaiDianBeiBuXinQu  40.090679  116.173553   \n",
       "1        1002      海淀北京植物园  HaiDianBeiJingZhiWuYuan  40.003950  116.205310   \n",
       "2        1003        石景山古城       ShiJingShanGuCheng  39.914409  116.184239   \n",
       "3        1004         丰台云岗           FengTaiYunGang  39.815128  116.171150   \n",
       "4        1005         房山良乡       FangShanLiangXiang  39.742767  116.136045   \n",
       "\n",
       "   district_id  \n",
       "0          101  \n",
       "1          101  \n",
       "2          102  \n",
       "3          103  \n",
       "4          104  "
      ]
     },
     "execution_count": 93,
     "metadata": {},
     "output_type": "execute_result"
    }
   ],
   "source": [
    "len(bj_station)\n",
    "bj_station.head()"
   ]
  },
  {
   "cell_type": "code",
   "execution_count": 102,
   "metadata": {},
   "outputs": [],
   "source": [
    "bj_stat = np.unique(bj_station['station_id'])"
   ]
  },
  {
   "cell_type": "code",
   "execution_count": 100,
   "metadata": {},
   "outputs": [],
   "source": [
    "frame_aq = pd.read_csv(data_path + '/airquality.csv')"
   ]
  },
  {
   "cell_type": "code",
   "execution_count": 101,
   "metadata": {},
   "outputs": [
    {
     "data": {
      "text/html": [
       "<div>\n",
       "<style scoped>\n",
       "    .dataframe tbody tr th:only-of-type {\n",
       "        vertical-align: middle;\n",
       "    }\n",
       "\n",
       "    .dataframe tbody tr th {\n",
       "        vertical-align: top;\n",
       "    }\n",
       "\n",
       "    .dataframe thead th {\n",
       "        text-align: right;\n",
       "    }\n",
       "</style>\n",
       "<table border=\"1\" class=\"dataframe\">\n",
       "  <thead>\n",
       "    <tr style=\"text-align: right;\">\n",
       "      <th></th>\n",
       "      <th>station_id</th>\n",
       "      <th>time</th>\n",
       "      <th>PM25_Concentration</th>\n",
       "      <th>PM10_Concentration</th>\n",
       "      <th>NO2_Concentration</th>\n",
       "      <th>CO_Concentration</th>\n",
       "      <th>O3_Concentration</th>\n",
       "      <th>SO2_Concentration</th>\n",
       "    </tr>\n",
       "  </thead>\n",
       "  <tbody>\n",
       "    <tr>\n",
       "      <th>0</th>\n",
       "      <td>1001</td>\n",
       "      <td>2014-05-01 00:00:00</td>\n",
       "      <td>138.0</td>\n",
       "      <td>159.4</td>\n",
       "      <td>56.3</td>\n",
       "      <td>0.9</td>\n",
       "      <td>50.8</td>\n",
       "      <td>17.2</td>\n",
       "    </tr>\n",
       "    <tr>\n",
       "      <th>1</th>\n",
       "      <td>1001</td>\n",
       "      <td>2014-05-01 01:00:00</td>\n",
       "      <td>124.0</td>\n",
       "      <td>163.9</td>\n",
       "      <td>38.7</td>\n",
       "      <td>0.9</td>\n",
       "      <td>51.1</td>\n",
       "      <td>17.9</td>\n",
       "    </tr>\n",
       "    <tr>\n",
       "      <th>2</th>\n",
       "      <td>1001</td>\n",
       "      <td>2014-05-01 02:00:00</td>\n",
       "      <td>127.0</td>\n",
       "      <td>148.4</td>\n",
       "      <td>55.6</td>\n",
       "      <td>1.0</td>\n",
       "      <td>27.2</td>\n",
       "      <td>16.6</td>\n",
       "    </tr>\n",
       "    <tr>\n",
       "      <th>3</th>\n",
       "      <td>1001</td>\n",
       "      <td>2014-05-01 03:00:00</td>\n",
       "      <td>129.0</td>\n",
       "      <td>145.6</td>\n",
       "      <td>65.7</td>\n",
       "      <td>1.0</td>\n",
       "      <td>9.7</td>\n",
       "      <td>16.7</td>\n",
       "    </tr>\n",
       "    <tr>\n",
       "      <th>4</th>\n",
       "      <td>1001</td>\n",
       "      <td>2014-05-01 04:00:00</td>\n",
       "      <td>119.0</td>\n",
       "      <td>119.3</td>\n",
       "      <td>66.9</td>\n",
       "      <td>1.0</td>\n",
       "      <td>2.0</td>\n",
       "      <td>16.5</td>\n",
       "    </tr>\n",
       "  </tbody>\n",
       "</table>\n",
       "</div>"
      ],
      "text/plain": [
       "   station_id                 time  PM25_Concentration  PM10_Concentration  \\\n",
       "0        1001  2014-05-01 00:00:00               138.0               159.4   \n",
       "1        1001  2014-05-01 01:00:00               124.0               163.9   \n",
       "2        1001  2014-05-01 02:00:00               127.0               148.4   \n",
       "3        1001  2014-05-01 03:00:00               129.0               145.6   \n",
       "4        1001  2014-05-01 04:00:00               119.0               119.3   \n",
       "\n",
       "   NO2_Concentration  CO_Concentration  O3_Concentration  SO2_Concentration  \n",
       "0               56.3               0.9              50.8               17.2  \n",
       "1               38.7               0.9              51.1               17.9  \n",
       "2               55.6               1.0              27.2               16.6  \n",
       "3               65.7               1.0               9.7               16.7  \n",
       "4               66.9               1.0               2.0               16.5  "
      ]
     },
     "execution_count": 101,
     "metadata": {},
     "output_type": "execute_result"
    }
   ],
   "source": [
    "frame_aq.head()"
   ]
  },
  {
   "cell_type": "code",
   "execution_count": 96,
   "metadata": {},
   "outputs": [
    {
     "data": {
      "text/html": [
       "<div>\n",
       "<style scoped>\n",
       "    .dataframe tbody tr th:only-of-type {\n",
       "        vertical-align: middle;\n",
       "    }\n",
       "\n",
       "    .dataframe tbody tr th {\n",
       "        vertical-align: top;\n",
       "    }\n",
       "\n",
       "    .dataframe thead th {\n",
       "        text-align: right;\n",
       "    }\n",
       "</style>\n",
       "<table border=\"1\" class=\"dataframe\">\n",
       "  <thead>\n",
       "    <tr style=\"text-align: right;\">\n",
       "      <th></th>\n",
       "      <th>station_id</th>\n",
       "      <th>time</th>\n",
       "      <th>PM25_Concentration</th>\n",
       "      <th>PM10_Concentration</th>\n",
       "      <th>NO2_Concentration</th>\n",
       "      <th>CO_Concentration</th>\n",
       "      <th>O3_Concentration</th>\n",
       "      <th>SO2_Concentration</th>\n",
       "    </tr>\n",
       "  </thead>\n",
       "  <tbody>\n",
       "    <tr>\n",
       "      <th>18</th>\n",
       "      <td>1001</td>\n",
       "      <td>2014-05-01 18:00:00</td>\n",
       "      <td>174.0</td>\n",
       "      <td>NaN</td>\n",
       "      <td>12.5</td>\n",
       "      <td>0.7</td>\n",
       "      <td>126.7</td>\n",
       "      <td>34.7</td>\n",
       "    </tr>\n",
       "    <tr>\n",
       "      <th>19</th>\n",
       "      <td>1001</td>\n",
       "      <td>2014-05-01 19:00:00</td>\n",
       "      <td>130.0</td>\n",
       "      <td>NaN</td>\n",
       "      <td>6.2</td>\n",
       "      <td>0.4</td>\n",
       "      <td>91.5</td>\n",
       "      <td>15.3</td>\n",
       "    </tr>\n",
       "    <tr>\n",
       "      <th>26</th>\n",
       "      <td>1001</td>\n",
       "      <td>2014-05-02 02:00:00</td>\n",
       "      <td>34.0</td>\n",
       "      <td>NaN</td>\n",
       "      <td>6.9</td>\n",
       "      <td>0.4</td>\n",
       "      <td>74.8</td>\n",
       "      <td>9.9</td>\n",
       "    </tr>\n",
       "    <tr>\n",
       "      <th>27</th>\n",
       "      <td>1001</td>\n",
       "      <td>2014-05-02 03:00:00</td>\n",
       "      <td>26.0</td>\n",
       "      <td>NaN</td>\n",
       "      <td>6.8</td>\n",
       "      <td>0.4</td>\n",
       "      <td>75.0</td>\n",
       "      <td>9.1</td>\n",
       "    </tr>\n",
       "    <tr>\n",
       "      <th>44</th>\n",
       "      <td>1001</td>\n",
       "      <td>2014-05-02 20:00:00</td>\n",
       "      <td>15.0</td>\n",
       "      <td>NaN</td>\n",
       "      <td>7.1</td>\n",
       "      <td>0.2</td>\n",
       "      <td>99.3</td>\n",
       "      <td>6.9</td>\n",
       "    </tr>\n",
       "  </tbody>\n",
       "</table>\n",
       "</div>"
      ],
      "text/plain": [
       "    station_id                 time  PM25_Concentration  PM10_Concentration  \\\n",
       "18        1001  2014-05-01 18:00:00               174.0                 NaN   \n",
       "19        1001  2014-05-01 19:00:00               130.0                 NaN   \n",
       "26        1001  2014-05-02 02:00:00                34.0                 NaN   \n",
       "27        1001  2014-05-02 03:00:00                26.0                 NaN   \n",
       "44        1001  2014-05-02 20:00:00                15.0                 NaN   \n",
       "\n",
       "    NO2_Concentration  CO_Concentration  O3_Concentration  SO2_Concentration  \n",
       "18               12.5               0.7             126.7               34.7  \n",
       "19                6.2               0.4              91.5               15.3  \n",
       "26                6.9               0.4              74.8                9.9  \n",
       "27                6.8               0.4              75.0                9.1  \n",
       "44                7.1               0.2              99.3                6.9  "
      ]
     },
     "execution_count": 96,
     "metadata": {},
     "output_type": "execute_result"
    }
   ],
   "source": [
    "frame_aq[frame_aq.isnull().values == True].head()"
   ]
  },
  {
   "cell_type": "code",
   "execution_count": 103,
   "metadata": {},
   "outputs": [],
   "source": [
    "bj_aqi = frame_aq[list(map(lambda x: x in bj_stat, frame_aq['station_id'].values))]"
   ]
  },
  {
   "cell_type": "code",
   "execution_count": 104,
   "metadata": {},
   "outputs": [],
   "source": [
    "bj_aqi.to_csv('bj_aqi.csv',index = False, encoding = 'gb2312')"
   ]
  },
  {
   "cell_type": "code",
   "execution_count": 105,
   "metadata": {},
   "outputs": [
    {
     "data": {
      "text/plain": [
       "(278023, 8)"
      ]
     },
     "execution_count": 105,
     "metadata": {},
     "output_type": "execute_result"
    }
   ],
   "source": [
    "bj_aqi.shape"
   ]
  },
  {
   "cell_type": "code",
   "execution_count": 106,
   "metadata": {},
   "outputs": [
    {
     "data": {
      "text/html": [
       "<div>\n",
       "<style scoped>\n",
       "    .dataframe tbody tr th:only-of-type {\n",
       "        vertical-align: middle;\n",
       "    }\n",
       "\n",
       "    .dataframe tbody tr th {\n",
       "        vertical-align: top;\n",
       "    }\n",
       "\n",
       "    .dataframe thead th {\n",
       "        text-align: right;\n",
       "    }\n",
       "</style>\n",
       "<table border=\"1\" class=\"dataframe\">\n",
       "  <thead>\n",
       "    <tr style=\"text-align: right;\">\n",
       "      <th></th>\n",
       "      <th>station_id</th>\n",
       "      <th>time</th>\n",
       "      <th>PM25_Concentration</th>\n",
       "      <th>PM10_Concentration</th>\n",
       "      <th>NO2_Concentration</th>\n",
       "      <th>CO_Concentration</th>\n",
       "      <th>O3_Concentration</th>\n",
       "      <th>SO2_Concentration</th>\n",
       "    </tr>\n",
       "  </thead>\n",
       "  <tbody>\n",
       "    <tr>\n",
       "      <th>0</th>\n",
       "      <td>1001</td>\n",
       "      <td>2014-05-01 00:00:00</td>\n",
       "      <td>138.0</td>\n",
       "      <td>159.4</td>\n",
       "      <td>56.3</td>\n",
       "      <td>0.9</td>\n",
       "      <td>50.8</td>\n",
       "      <td>17.2</td>\n",
       "    </tr>\n",
       "    <tr>\n",
       "      <th>1</th>\n",
       "      <td>1001</td>\n",
       "      <td>2014-05-01 01:00:00</td>\n",
       "      <td>124.0</td>\n",
       "      <td>163.9</td>\n",
       "      <td>38.7</td>\n",
       "      <td>0.9</td>\n",
       "      <td>51.1</td>\n",
       "      <td>17.9</td>\n",
       "    </tr>\n",
       "    <tr>\n",
       "      <th>2</th>\n",
       "      <td>1001</td>\n",
       "      <td>2014-05-01 02:00:00</td>\n",
       "      <td>127.0</td>\n",
       "      <td>148.4</td>\n",
       "      <td>55.6</td>\n",
       "      <td>1.0</td>\n",
       "      <td>27.2</td>\n",
       "      <td>16.6</td>\n",
       "    </tr>\n",
       "    <tr>\n",
       "      <th>3</th>\n",
       "      <td>1001</td>\n",
       "      <td>2014-05-01 03:00:00</td>\n",
       "      <td>129.0</td>\n",
       "      <td>145.6</td>\n",
       "      <td>65.7</td>\n",
       "      <td>1.0</td>\n",
       "      <td>9.7</td>\n",
       "      <td>16.7</td>\n",
       "    </tr>\n",
       "    <tr>\n",
       "      <th>4</th>\n",
       "      <td>1001</td>\n",
       "      <td>2014-05-01 04:00:00</td>\n",
       "      <td>119.0</td>\n",
       "      <td>119.3</td>\n",
       "      <td>66.9</td>\n",
       "      <td>1.0</td>\n",
       "      <td>2.0</td>\n",
       "      <td>16.5</td>\n",
       "    </tr>\n",
       "  </tbody>\n",
       "</table>\n",
       "</div>"
      ],
      "text/plain": [
       "   station_id                 time  PM25_Concentration  PM10_Concentration  \\\n",
       "0        1001  2014-05-01 00:00:00               138.0               159.4   \n",
       "1        1001  2014-05-01 01:00:00               124.0               163.9   \n",
       "2        1001  2014-05-01 02:00:00               127.0               148.4   \n",
       "3        1001  2014-05-01 03:00:00               129.0               145.6   \n",
       "4        1001  2014-05-01 04:00:00               119.0               119.3   \n",
       "\n",
       "   NO2_Concentration  CO_Concentration  O3_Concentration  SO2_Concentration  \n",
       "0               56.3               0.9              50.8               17.2  \n",
       "1               38.7               0.9              51.1               17.9  \n",
       "2               55.6               1.0              27.2               16.6  \n",
       "3               65.7               1.0               9.7               16.7  \n",
       "4               66.9               1.0               2.0               16.5  "
      ]
     },
     "execution_count": 106,
     "metadata": {},
     "output_type": "execute_result"
    }
   ],
   "source": [
    "bj_aqi.head()"
   ]
  },
  {
   "cell_type": "code",
   "execution_count": 107,
   "metadata": {},
   "outputs": [],
   "source": [
    "frame_wf = pd.read_csv(data_path + '/weatherforecast.csv')"
   ]
  },
  {
   "cell_type": "code",
   "execution_count": 108,
   "metadata": {},
   "outputs": [
    {
     "data": {
      "text/html": [
       "<div>\n",
       "<style scoped>\n",
       "    .dataframe tbody tr th:only-of-type {\n",
       "        vertical-align: middle;\n",
       "    }\n",
       "\n",
       "    .dataframe tbody tr th {\n",
       "        vertical-align: top;\n",
       "    }\n",
       "\n",
       "    .dataframe thead th {\n",
       "        text-align: right;\n",
       "    }\n",
       "</style>\n",
       "<table border=\"1\" class=\"dataframe\">\n",
       "  <thead>\n",
       "    <tr style=\"text-align: right;\">\n",
       "      <th></th>\n",
       "      <th>id</th>\n",
       "      <th>time_forecast</th>\n",
       "      <th>time_future</th>\n",
       "      <th>frequent</th>\n",
       "      <th>weather</th>\n",
       "      <th>up_temperature</th>\n",
       "      <th>bottom_temperature</th>\n",
       "      <th>wind_level</th>\n",
       "      <th>wind_direction</th>\n",
       "    </tr>\n",
       "  </thead>\n",
       "  <tbody>\n",
       "    <tr>\n",
       "      <th>0</th>\n",
       "      <td>1</td>\n",
       "      <td>2014-08-08 18:00:00</td>\n",
       "      <td>2014-08-08 20:00:00</td>\n",
       "      <td>6</td>\n",
       "      <td>1.0</td>\n",
       "      <td>27.0</td>\n",
       "      <td>23.0</td>\n",
       "      <td>0.0</td>\n",
       "      <td>3.0</td>\n",
       "    </tr>\n",
       "    <tr>\n",
       "      <th>1</th>\n",
       "      <td>1</td>\n",
       "      <td>2014-08-08 18:00:00</td>\n",
       "      <td>2014-08-09 02:00:00</td>\n",
       "      <td>6</td>\n",
       "      <td>1.0</td>\n",
       "      <td>25.0</td>\n",
       "      <td>21.0</td>\n",
       "      <td>0.0</td>\n",
       "      <td>4.0</td>\n",
       "    </tr>\n",
       "    <tr>\n",
       "      <th>2</th>\n",
       "      <td>1</td>\n",
       "      <td>2014-08-08 18:00:00</td>\n",
       "      <td>2014-08-09 08:00:00</td>\n",
       "      <td>6</td>\n",
       "      <td>1.0</td>\n",
       "      <td>30.0</td>\n",
       "      <td>25.0</td>\n",
       "      <td>0.0</td>\n",
       "      <td>4.0</td>\n",
       "    </tr>\n",
       "    <tr>\n",
       "      <th>3</th>\n",
       "      <td>1</td>\n",
       "      <td>2014-08-08 19:00:00</td>\n",
       "      <td>2014-08-08 20:00:00</td>\n",
       "      <td>6</td>\n",
       "      <td>1.0</td>\n",
       "      <td>27.0</td>\n",
       "      <td>23.0</td>\n",
       "      <td>0.0</td>\n",
       "      <td>3.0</td>\n",
       "    </tr>\n",
       "    <tr>\n",
       "      <th>4</th>\n",
       "      <td>1</td>\n",
       "      <td>2014-08-08 19:00:00</td>\n",
       "      <td>2014-08-09 02:00:00</td>\n",
       "      <td>6</td>\n",
       "      <td>1.0</td>\n",
       "      <td>25.0</td>\n",
       "      <td>21.0</td>\n",
       "      <td>0.0</td>\n",
       "      <td>4.0</td>\n",
       "    </tr>\n",
       "  </tbody>\n",
       "</table>\n",
       "</div>"
      ],
      "text/plain": [
       "   id        time_forecast          time_future  frequent  weather  \\\n",
       "0   1  2014-08-08 18:00:00  2014-08-08 20:00:00         6      1.0   \n",
       "1   1  2014-08-08 18:00:00  2014-08-09 02:00:00         6      1.0   \n",
       "2   1  2014-08-08 18:00:00  2014-08-09 08:00:00         6      1.0   \n",
       "3   1  2014-08-08 19:00:00  2014-08-08 20:00:00         6      1.0   \n",
       "4   1  2014-08-08 19:00:00  2014-08-09 02:00:00         6      1.0   \n",
       "\n",
       "   up_temperature  bottom_temperature  wind_level  wind_direction  \n",
       "0            27.0                23.0         0.0             3.0  \n",
       "1            25.0                21.0         0.0             4.0  \n",
       "2            30.0                25.0         0.0             4.0  \n",
       "3            27.0                23.0         0.0             3.0  \n",
       "4            25.0                21.0         0.0             4.0  "
      ]
     },
     "execution_count": 108,
     "metadata": {},
     "output_type": "execute_result"
    }
   ],
   "source": [
    "frame_wf.head()"
   ]
  },
  {
   "cell_type": "code",
   "execution_count": 109,
   "metadata": {},
   "outputs": [],
   "source": [
    "bj_dist_wf = np.append(bj_dist,1)"
   ]
  },
  {
   "cell_type": "code",
   "execution_count": 110,
   "metadata": {},
   "outputs": [
    {
     "data": {
      "text/plain": [
       "(910576, 9)"
      ]
     },
     "execution_count": 110,
     "metadata": {},
     "output_type": "execute_result"
    }
   ],
   "source": [
    "frame_wf.shape"
   ]
  },
  {
   "cell_type": "code",
   "execution_count": 82,
   "metadata": {},
   "outputs": [
    {
     "data": {
      "text/html": [
       "<div>\n",
       "<style scoped>\n",
       "    .dataframe tbody tr th:only-of-type {\n",
       "        vertical-align: middle;\n",
       "    }\n",
       "\n",
       "    .dataframe tbody tr th {\n",
       "        vertical-align: top;\n",
       "    }\n",
       "\n",
       "    .dataframe thead th {\n",
       "        text-align: right;\n",
       "    }\n",
       "</style>\n",
       "<table border=\"1\" class=\"dataframe\">\n",
       "  <thead>\n",
       "    <tr style=\"text-align: right;\">\n",
       "      <th></th>\n",
       "      <th>id</th>\n",
       "      <th>time_forecast</th>\n",
       "      <th>time_future</th>\n",
       "      <th>frequent</th>\n",
       "      <th>weather</th>\n",
       "      <th>up_temperature</th>\n",
       "      <th>bottom_temperature</th>\n",
       "      <th>wind_level</th>\n",
       "      <th>wind_direction</th>\n",
       "    </tr>\n",
       "  </thead>\n",
       "  <tbody>\n",
       "    <tr>\n",
       "      <th>913</th>\n",
       "      <td>1</td>\n",
       "      <td>2014-08-23 18:00:00</td>\n",
       "      <td>2014-08-24 08:00:00</td>\n",
       "      <td>3</td>\n",
       "      <td>1.0</td>\n",
       "      <td>31.0</td>\n",
       "      <td>25.0</td>\n",
       "      <td>NaN</td>\n",
       "      <td>0.0</td>\n",
       "    </tr>\n",
       "    <tr>\n",
       "      <th>917</th>\n",
       "      <td>1</td>\n",
       "      <td>2014-08-23 18:00:00</td>\n",
       "      <td>2014-08-24 20:00:00</td>\n",
       "      <td>3</td>\n",
       "      <td>0.0</td>\n",
       "      <td>23.0</td>\n",
       "      <td>21.0</td>\n",
       "      <td>NaN</td>\n",
       "      <td>0.0</td>\n",
       "    </tr>\n",
       "    <tr>\n",
       "      <th>956</th>\n",
       "      <td>1</td>\n",
       "      <td>2014-08-24 18:00:00</td>\n",
       "      <td>2014-08-25 08:00:00</td>\n",
       "      <td>3</td>\n",
       "      <td>1.0</td>\n",
       "      <td>31.0</td>\n",
       "      <td>24.0</td>\n",
       "      <td>NaN</td>\n",
       "      <td>0.0</td>\n",
       "    </tr>\n",
       "    <tr>\n",
       "      <th>1492</th>\n",
       "      <td>1</td>\n",
       "      <td>2014-09-06 07:00:00</td>\n",
       "      <td>2014-09-07 20:00:00</td>\n",
       "      <td>3</td>\n",
       "      <td>1.0</td>\n",
       "      <td>25.0</td>\n",
       "      <td>22.0</td>\n",
       "      <td>NaN</td>\n",
       "      <td>4.0</td>\n",
       "    </tr>\n",
       "    <tr>\n",
       "      <th>1507</th>\n",
       "      <td>1</td>\n",
       "      <td>2014-09-06 11:00:00</td>\n",
       "      <td>2014-09-07 20:00:00</td>\n",
       "      <td>3</td>\n",
       "      <td>1.0</td>\n",
       "      <td>25.0</td>\n",
       "      <td>22.0</td>\n",
       "      <td>NaN</td>\n",
       "      <td>4.0</td>\n",
       "    </tr>\n",
       "  </tbody>\n",
       "</table>\n",
       "</div>"
      ],
      "text/plain": [
       "      id        time_forecast          time_future  frequent  weather  \\\n",
       "913    1  2014-08-23 18:00:00  2014-08-24 08:00:00         3      1.0   \n",
       "917    1  2014-08-23 18:00:00  2014-08-24 20:00:00         3      0.0   \n",
       "956    1  2014-08-24 18:00:00  2014-08-25 08:00:00         3      1.0   \n",
       "1492   1  2014-09-06 07:00:00  2014-09-07 20:00:00         3      1.0   \n",
       "1507   1  2014-09-06 11:00:00  2014-09-07 20:00:00         3      1.0   \n",
       "\n",
       "      up_temperature  bottom_temperature  wind_level  wind_direction  \n",
       "913             31.0                25.0         NaN             0.0  \n",
       "917             23.0                21.0         NaN             0.0  \n",
       "956             31.0                24.0         NaN             0.0  \n",
       "1492            25.0                22.0         NaN             4.0  \n",
       "1507            25.0                22.0         NaN             4.0  "
      ]
     },
     "execution_count": 82,
     "metadata": {},
     "output_type": "execute_result"
    }
   ],
   "source": [
    "frame_wf[frame_wf.isnull().values==True].head()"
   ]
  },
  {
   "cell_type": "code",
   "execution_count": 111,
   "metadata": {},
   "outputs": [],
   "source": [
    "bj_wf = frame_wf[list(map(lambda x: x in bj_dist_wf, frame_wf['id'].values))]"
   ]
  },
  {
   "cell_type": "code",
   "execution_count": 112,
   "metadata": {},
   "outputs": [
    {
     "data": {
      "text/html": [
       "<div>\n",
       "<style scoped>\n",
       "    .dataframe tbody tr th:only-of-type {\n",
       "        vertical-align: middle;\n",
       "    }\n",
       "\n",
       "    .dataframe tbody tr th {\n",
       "        vertical-align: top;\n",
       "    }\n",
       "\n",
       "    .dataframe thead th {\n",
       "        text-align: right;\n",
       "    }\n",
       "</style>\n",
       "<table border=\"1\" class=\"dataframe\">\n",
       "  <thead>\n",
       "    <tr style=\"text-align: right;\">\n",
       "      <th></th>\n",
       "      <th>id</th>\n",
       "      <th>time_forecast</th>\n",
       "      <th>time_future</th>\n",
       "      <th>frequent</th>\n",
       "      <th>weather</th>\n",
       "      <th>up_temperature</th>\n",
       "      <th>bottom_temperature</th>\n",
       "      <th>wind_level</th>\n",
       "      <th>wind_direction</th>\n",
       "    </tr>\n",
       "  </thead>\n",
       "  <tbody>\n",
       "    <tr>\n",
       "      <th>0</th>\n",
       "      <td>1</td>\n",
       "      <td>2014-08-08 18:00:00</td>\n",
       "      <td>2014-08-08 20:00:00</td>\n",
       "      <td>6</td>\n",
       "      <td>1.0</td>\n",
       "      <td>27.0</td>\n",
       "      <td>23.0</td>\n",
       "      <td>0.0</td>\n",
       "      <td>3.0</td>\n",
       "    </tr>\n",
       "    <tr>\n",
       "      <th>1</th>\n",
       "      <td>1</td>\n",
       "      <td>2014-08-08 18:00:00</td>\n",
       "      <td>2014-08-09 02:00:00</td>\n",
       "      <td>6</td>\n",
       "      <td>1.0</td>\n",
       "      <td>25.0</td>\n",
       "      <td>21.0</td>\n",
       "      <td>0.0</td>\n",
       "      <td>4.0</td>\n",
       "    </tr>\n",
       "    <tr>\n",
       "      <th>2</th>\n",
       "      <td>1</td>\n",
       "      <td>2014-08-08 18:00:00</td>\n",
       "      <td>2014-08-09 08:00:00</td>\n",
       "      <td>6</td>\n",
       "      <td>1.0</td>\n",
       "      <td>30.0</td>\n",
       "      <td>25.0</td>\n",
       "      <td>0.0</td>\n",
       "      <td>4.0</td>\n",
       "    </tr>\n",
       "    <tr>\n",
       "      <th>3</th>\n",
       "      <td>1</td>\n",
       "      <td>2014-08-08 19:00:00</td>\n",
       "      <td>2014-08-08 20:00:00</td>\n",
       "      <td>6</td>\n",
       "      <td>1.0</td>\n",
       "      <td>27.0</td>\n",
       "      <td>23.0</td>\n",
       "      <td>0.0</td>\n",
       "      <td>3.0</td>\n",
       "    </tr>\n",
       "    <tr>\n",
       "      <th>4</th>\n",
       "      <td>1</td>\n",
       "      <td>2014-08-08 19:00:00</td>\n",
       "      <td>2014-08-09 02:00:00</td>\n",
       "      <td>6</td>\n",
       "      <td>1.0</td>\n",
       "      <td>25.0</td>\n",
       "      <td>21.0</td>\n",
       "      <td>0.0</td>\n",
       "      <td>4.0</td>\n",
       "    </tr>\n",
       "  </tbody>\n",
       "</table>\n",
       "</div>"
      ],
      "text/plain": [
       "   id        time_forecast          time_future  frequent  weather  \\\n",
       "0   1  2014-08-08 18:00:00  2014-08-08 20:00:00         6      1.0   \n",
       "1   1  2014-08-08 18:00:00  2014-08-09 02:00:00         6      1.0   \n",
       "2   1  2014-08-08 18:00:00  2014-08-09 08:00:00         6      1.0   \n",
       "3   1  2014-08-08 19:00:00  2014-08-08 20:00:00         6      1.0   \n",
       "4   1  2014-08-08 19:00:00  2014-08-09 02:00:00         6      1.0   \n",
       "\n",
       "   up_temperature  bottom_temperature  wind_level  wind_direction  \n",
       "0            27.0                23.0         0.0             3.0  \n",
       "1            25.0                21.0         0.0             4.0  \n",
       "2            30.0                25.0         0.0             4.0  \n",
       "3            27.0                23.0         0.0             3.0  \n",
       "4            25.0                21.0         0.0             4.0  "
      ]
     },
     "execution_count": 112,
     "metadata": {},
     "output_type": "execute_result"
    }
   ],
   "source": [
    "bj_wf.head()"
   ]
  },
  {
   "cell_type": "code",
   "execution_count": 113,
   "metadata": {},
   "outputs": [],
   "source": [
    "bj_wf.to_csv('bj_wf.csv',index = False,encoding = 'gb2312')"
   ]
  },
  {
   "cell_type": "code",
   "execution_count": 114,
   "metadata": {},
   "outputs": [],
   "source": [
    "frame_city = pd.read_csv(data_path + '/city.csv')"
   ]
  },
  {
   "cell_type": "code",
   "execution_count": 115,
   "metadata": {},
   "outputs": [
    {
     "data": {
      "text/html": [
       "<div>\n",
       "<style scoped>\n",
       "    .dataframe tbody tr th:only-of-type {\n",
       "        vertical-align: middle;\n",
       "    }\n",
       "\n",
       "    .dataframe tbody tr th {\n",
       "        vertical-align: top;\n",
       "    }\n",
       "\n",
       "    .dataframe thead th {\n",
       "        text-align: right;\n",
       "    }\n",
       "</style>\n",
       "<table border=\"1\" class=\"dataframe\">\n",
       "  <thead>\n",
       "    <tr style=\"text-align: right;\">\n",
       "      <th></th>\n",
       "      <th>city_id</th>\n",
       "      <th>name_chinese</th>\n",
       "      <th>name_english</th>\n",
       "      <th>latitude</th>\n",
       "      <th>longitude</th>\n",
       "      <th>cluster_id</th>\n",
       "    </tr>\n",
       "  </thead>\n",
       "  <tbody>\n",
       "    <tr>\n",
       "      <th>0</th>\n",
       "      <td>1</td>\n",
       "      <td>北京</td>\n",
       "      <td>BeiJing</td>\n",
       "      <td>39.904210</td>\n",
       "      <td>116.407394</td>\n",
       "      <td>1</td>\n",
       "    </tr>\n",
       "    <tr>\n",
       "      <th>1</th>\n",
       "      <td>4</td>\n",
       "      <td>深圳</td>\n",
       "      <td>ShenZhen</td>\n",
       "      <td>22.543099</td>\n",
       "      <td>114.057868</td>\n",
       "      <td>2</td>\n",
       "    </tr>\n",
       "    <tr>\n",
       "      <th>2</th>\n",
       "      <td>6</td>\n",
       "      <td>天津</td>\n",
       "      <td>TianJin</td>\n",
       "      <td>39.084158</td>\n",
       "      <td>117.200982</td>\n",
       "      <td>1</td>\n",
       "    </tr>\n",
       "    <tr>\n",
       "      <th>3</th>\n",
       "      <td>9</td>\n",
       "      <td>广州</td>\n",
       "      <td>GuangZhou</td>\n",
       "      <td>23.129110</td>\n",
       "      <td>113.264385</td>\n",
       "      <td>2</td>\n",
       "    </tr>\n",
       "    <tr>\n",
       "      <th>4</th>\n",
       "      <td>10</td>\n",
       "      <td>香港</td>\n",
       "      <td>XiangGang</td>\n",
       "      <td>22.396428</td>\n",
       "      <td>114.109497</td>\n",
       "      <td>2</td>\n",
       "    </tr>\n",
       "  </tbody>\n",
       "</table>\n",
       "</div>"
      ],
      "text/plain": [
       "   city_id name_chinese name_english   latitude   longitude  cluster_id\n",
       "0        1           北京      BeiJing  39.904210  116.407394           1\n",
       "1        4           深圳     ShenZhen  22.543099  114.057868           2\n",
       "2        6           天津      TianJin  39.084158  117.200982           1\n",
       "3        9           广州    GuangZhou  23.129110  113.264385           2\n",
       "4       10           香港    XiangGang  22.396428  114.109497           2"
      ]
     },
     "execution_count": 115,
     "metadata": {},
     "output_type": "execute_result"
    }
   ],
   "source": [
    "frame_city.head()"
   ]
  },
  {
   "cell_type": "code",
   "execution_count": 116,
   "metadata": {},
   "outputs": [
    {
     "data": {
      "text/plain": [
       "['airquality.csv',\n",
       " 'district.csv',\n",
       " 'station.csv',\n",
       " 'weatherforecast.csv',\n",
       " 'city.csv',\n",
       " 'meteorology.csv',\n",
       " 'readme.pdf']"
      ]
     },
     "execution_count": 116,
     "metadata": {},
     "output_type": "execute_result"
    }
   ],
   "source": [
    "file"
   ]
  },
  {
   "cell_type": "code",
   "execution_count": 80,
   "metadata": {},
   "outputs": [],
   "source": [
    "frame_mete = pd.read_csv(data_path + '/meteorology.csv')"
   ]
  },
  {
   "cell_type": "code",
   "execution_count": 10,
   "metadata": {},
   "outputs": [
    {
     "data": {
      "text/plain": [
       "(563352, 8)"
      ]
     },
     "execution_count": 10,
     "metadata": {},
     "output_type": "execute_result"
    }
   ],
   "source": [
    "frame_mete[frame_mete.isnull().values == True].shape"
   ]
  },
  {
   "cell_type": "code",
   "execution_count": 81,
   "metadata": {},
   "outputs": [],
   "source": [
    "bj_mete = frame_mete[list(map(lambda x: x in bj_dist_wf, frame_mete['id'].values))]"
   ]
  },
  {
   "cell_type": "code",
   "execution_count": 82,
   "metadata": {},
   "outputs": [
    {
     "data": {
      "text/html": [
       "<div>\n",
       "<style scoped>\n",
       "    .dataframe tbody tr th:only-of-type {\n",
       "        vertical-align: middle;\n",
       "    }\n",
       "\n",
       "    .dataframe tbody tr th {\n",
       "        vertical-align: top;\n",
       "    }\n",
       "\n",
       "    .dataframe thead th {\n",
       "        text-align: right;\n",
       "    }\n",
       "</style>\n",
       "<table border=\"1\" class=\"dataframe\">\n",
       "  <thead>\n",
       "    <tr style=\"text-align: right;\">\n",
       "      <th></th>\n",
       "      <th>id</th>\n",
       "      <th>time</th>\n",
       "      <th>weather</th>\n",
       "      <th>temperature</th>\n",
       "      <th>pressure</th>\n",
       "      <th>humidity</th>\n",
       "      <th>wind_speed</th>\n",
       "      <th>wind_direction</th>\n",
       "    </tr>\n",
       "  </thead>\n",
       "  <tbody>\n",
       "    <tr>\n",
       "      <th>0</th>\n",
       "      <td>1</td>\n",
       "      <td>2014-05-01 02:00:00</td>\n",
       "      <td>NaN</td>\n",
       "      <td>18.0</td>\n",
       "      <td>755.9</td>\n",
       "      <td>71.0</td>\n",
       "      <td>2.0</td>\n",
       "      <td>23.0</td>\n",
       "    </tr>\n",
       "    <tr>\n",
       "      <th>1</th>\n",
       "      <td>1</td>\n",
       "      <td>2014-05-01 05:00:00</td>\n",
       "      <td>NaN</td>\n",
       "      <td>16.8</td>\n",
       "      <td>755.8</td>\n",
       "      <td>78.0</td>\n",
       "      <td>1.0</td>\n",
       "      <td>13.0</td>\n",
       "    </tr>\n",
       "    <tr>\n",
       "      <th>2</th>\n",
       "      <td>1</td>\n",
       "      <td>2014-05-01 08:00:00</td>\n",
       "      <td>NaN</td>\n",
       "      <td>19.0</td>\n",
       "      <td>756.9</td>\n",
       "      <td>72.0</td>\n",
       "      <td>2.0</td>\n",
       "      <td>23.0</td>\n",
       "    </tr>\n",
       "    <tr>\n",
       "      <th>3</th>\n",
       "      <td>1</td>\n",
       "      <td>2014-05-01 11:00:00</td>\n",
       "      <td>NaN</td>\n",
       "      <td>24.5</td>\n",
       "      <td>756.1</td>\n",
       "      <td>57.0</td>\n",
       "      <td>4.0</td>\n",
       "      <td>23.0</td>\n",
       "    </tr>\n",
       "    <tr>\n",
       "      <th>4</th>\n",
       "      <td>1</td>\n",
       "      <td>2014-05-01 14:00:00</td>\n",
       "      <td>NaN</td>\n",
       "      <td>26.7</td>\n",
       "      <td>753.9</td>\n",
       "      <td>44.0</td>\n",
       "      <td>5.0</td>\n",
       "      <td>3.0</td>\n",
       "    </tr>\n",
       "  </tbody>\n",
       "</table>\n",
       "</div>"
      ],
      "text/plain": [
       "   id                 time  weather  temperature  pressure  humidity  \\\n",
       "0   1  2014-05-01 02:00:00      NaN         18.0     755.9      71.0   \n",
       "1   1  2014-05-01 05:00:00      NaN         16.8     755.8      78.0   \n",
       "2   1  2014-05-01 08:00:00      NaN         19.0     756.9      72.0   \n",
       "3   1  2014-05-01 11:00:00      NaN         24.5     756.1      57.0   \n",
       "4   1  2014-05-01 14:00:00      NaN         26.7     753.9      44.0   \n",
       "\n",
       "   wind_speed  wind_direction  \n",
       "0         2.0            23.0  \n",
       "1         1.0            13.0  \n",
       "2         2.0            23.0  \n",
       "3         4.0            23.0  \n",
       "4         5.0             3.0  "
      ]
     },
     "execution_count": 82,
     "metadata": {},
     "output_type": "execute_result"
    }
   ],
   "source": [
    "bj_mete.head()"
   ]
  },
  {
   "cell_type": "code",
   "execution_count": 117,
   "metadata": {},
   "outputs": [],
   "source": [
    "bj_mete.shape\n",
    "bj_mete.to_csv('bj_mete.csv',index = False,encoding = 'gb2312')"
   ]
  },
  {
   "cell_type": "code",
   "execution_count": 79,
   "metadata": {},
   "outputs": [
    {
     "data": {
      "text/plain": [
       "['airquality.csv',\n",
       " 'district.csv',\n",
       " 'station.csv',\n",
       " 'weatherforecast.csv',\n",
       " 'city.csv',\n",
       " 'meteorology.csv',\n",
       " 'readme.pdf']"
      ]
     },
     "execution_count": 79,
     "metadata": {},
     "output_type": "execute_result"
    }
   ],
   "source": [
    "file"
   ]
  },
  {
   "cell_type": "code",
   "execution_count": 85,
   "metadata": {},
   "outputs": [
    {
     "data": {
      "text/plain": [
       "array([nan,  1.,  2.,  8.,  0.,  4.,  5.,  7., 14.,  3., 10., 11., 16.,\n",
       "       15., 13., 12.,  6.,  9.])"
      ]
     },
     "execution_count": 85,
     "metadata": {},
     "output_type": "execute_result"
    }
   ],
   "source": [
    "frame_mete['weather'].unique() ### weather 有18个类别"
   ]
  },
  {
   "cell_type": "code",
   "execution_count": 86,
   "metadata": {},
   "outputs": [
    {
     "data": {
      "text/plain": [
       "array([23., 13.,  3.,  2.,  4., 24., 14.,  0.,  1.,  9., nan])"
      ]
     },
     "execution_count": 86,
     "metadata": {},
     "output_type": "execute_result"
    }
   ],
   "source": [
    "(frame_mete['wind_direction'].unique())"
   ]
  }
 ],
 "metadata": {
  "kernelspec": {
   "display_name": "Python 3",
   "language": "python",
   "name": "python3"
  },
  "language_info": {
   "codemirror_mode": {
    "name": "ipython",
    "version": 3
   },
   "file_extension": ".py",
   "mimetype": "text/x-python",
   "name": "python",
   "nbconvert_exporter": "python",
   "pygments_lexer": "ipython3",
   "version": "3.5.2rc1"
  }
 },
 "nbformat": 4,
 "nbformat_minor": 1
}
