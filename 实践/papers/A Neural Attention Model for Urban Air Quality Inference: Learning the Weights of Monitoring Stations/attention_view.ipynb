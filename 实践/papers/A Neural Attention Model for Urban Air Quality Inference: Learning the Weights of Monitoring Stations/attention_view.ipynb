{
 "cells": [
  {
   "cell_type": "code",
   "execution_count": 14,
   "metadata": {},
   "outputs": [],
   "source": [
    "import pandas as pd\n",
    "import numpy as np\n",
    "import matplotlib.pyplot as plt\n",
    "import pyproj"
   ]
  },
  {
   "cell_type": "code",
   "execution_count": 173,
   "metadata": {},
   "outputs": [],
   "source": [
    "sta = pd.read_csv('bj_station.csv',encoding = 'gb2312')"
   ]
  },
  {
   "cell_type": "code",
   "execution_count": 174,
   "metadata": {},
   "outputs": [
    {
     "data": {
      "text/html": [
       "<div>\n",
       "<style scoped>\n",
       "    .dataframe tbody tr th:only-of-type {\n",
       "        vertical-align: middle;\n",
       "    }\n",
       "\n",
       "    .dataframe tbody tr th {\n",
       "        vertical-align: top;\n",
       "    }\n",
       "\n",
       "    .dataframe thead th {\n",
       "        text-align: right;\n",
       "    }\n",
       "</style>\n",
       "<table border=\"1\" class=\"dataframe\">\n",
       "  <thead>\n",
       "    <tr style=\"text-align: right;\">\n",
       "      <th></th>\n",
       "      <th>station_id</th>\n",
       "      <th>name_chinese</th>\n",
       "      <th>name_english</th>\n",
       "      <th>latitude</th>\n",
       "      <th>longitude</th>\n",
       "      <th>district_id</th>\n",
       "    </tr>\n",
       "  </thead>\n",
       "  <tbody>\n",
       "    <tr>\n",
       "      <th>0</th>\n",
       "      <td>1001</td>\n",
       "      <td>海淀北部新区</td>\n",
       "      <td>HaiDianBeiBuXinQu</td>\n",
       "      <td>40.090679</td>\n",
       "      <td>116.173553</td>\n",
       "      <td>101</td>\n",
       "    </tr>\n",
       "    <tr>\n",
       "      <th>1</th>\n",
       "      <td>1002</td>\n",
       "      <td>海淀北京植物园</td>\n",
       "      <td>HaiDianBeiJingZhiWuYuan</td>\n",
       "      <td>40.003950</td>\n",
       "      <td>116.205310</td>\n",
       "      <td>101</td>\n",
       "    </tr>\n",
       "    <tr>\n",
       "      <th>2</th>\n",
       "      <td>1003</td>\n",
       "      <td>石景山古城</td>\n",
       "      <td>ShiJingShanGuCheng</td>\n",
       "      <td>39.914409</td>\n",
       "      <td>116.184239</td>\n",
       "      <td>102</td>\n",
       "    </tr>\n",
       "    <tr>\n",
       "      <th>3</th>\n",
       "      <td>1004</td>\n",
       "      <td>丰台云岗</td>\n",
       "      <td>FengTaiYunGang</td>\n",
       "      <td>39.815128</td>\n",
       "      <td>116.171150</td>\n",
       "      <td>103</td>\n",
       "    </tr>\n",
       "    <tr>\n",
       "      <th>4</th>\n",
       "      <td>1005</td>\n",
       "      <td>房山良乡</td>\n",
       "      <td>FangShanLiangXiang</td>\n",
       "      <td>39.742767</td>\n",
       "      <td>116.136045</td>\n",
       "      <td>104</td>\n",
       "    </tr>\n",
       "    <tr>\n",
       "      <th>5</th>\n",
       "      <td>1006</td>\n",
       "      <td>海淀万柳</td>\n",
       "      <td>HaiDianWanLiu</td>\n",
       "      <td>39.987313</td>\n",
       "      <td>116.287451</td>\n",
       "      <td>101</td>\n",
       "    </tr>\n",
       "    <tr>\n",
       "      <th>6</th>\n",
       "      <td>1007</td>\n",
       "      <td>朝阳奥体中心</td>\n",
       "      <td>ChaoYangAoTiZhongXin</td>\n",
       "      <td>39.982053</td>\n",
       "      <td>116.397400</td>\n",
       "      <td>105</td>\n",
       "    </tr>\n",
       "    <tr>\n",
       "      <th>7</th>\n",
       "      <td>1008</td>\n",
       "      <td>西直门北大街</td>\n",
       "      <td>XiZhiMenBeiDaJie</td>\n",
       "      <td>39.954047</td>\n",
       "      <td>116.348991</td>\n",
       "      <td>101</td>\n",
       "    </tr>\n",
       "    <tr>\n",
       "      <th>8</th>\n",
       "      <td>1009</td>\n",
       "      <td>西城万寿西宫</td>\n",
       "      <td>XiChengWanShouXiGong</td>\n",
       "      <td>39.878193</td>\n",
       "      <td>116.351974</td>\n",
       "      <td>106</td>\n",
       "    </tr>\n",
       "    <tr>\n",
       "      <th>9</th>\n",
       "      <td>1010</td>\n",
       "      <td>永定门内大街</td>\n",
       "      <td>YongDingMenNeiDaJie</td>\n",
       "      <td>39.876184</td>\n",
       "      <td>116.394009</td>\n",
       "      <td>103</td>\n",
       "    </tr>\n",
       "    <tr>\n",
       "      <th>10</th>\n",
       "      <td>1011</td>\n",
       "      <td>南三环西路</td>\n",
       "      <td>NanSanHuanXiLu</td>\n",
       "      <td>39.855958</td>\n",
       "      <td>116.367810</td>\n",
       "      <td>103</td>\n",
       "    </tr>\n",
       "    <tr>\n",
       "      <th>11</th>\n",
       "      <td>1012</td>\n",
       "      <td>朝阳农展馆</td>\n",
       "      <td>ChaoYangNongZhanGuan</td>\n",
       "      <td>39.937119</td>\n",
       "      <td>116.460742</td>\n",
       "      <td>105</td>\n",
       "    </tr>\n",
       "    <tr>\n",
       "      <th>12</th>\n",
       "      <td>1013</td>\n",
       "      <td>东城东四</td>\n",
       "      <td>DongChengDongSi</td>\n",
       "      <td>39.929287</td>\n",
       "      <td>116.416883</td>\n",
       "      <td>107</td>\n",
       "    </tr>\n",
       "    <tr>\n",
       "      <th>13</th>\n",
       "      <td>1014</td>\n",
       "      <td>东四环北路</td>\n",
       "      <td>DongSiHuanBeiLu</td>\n",
       "      <td>39.939554</td>\n",
       "      <td>116.483746</td>\n",
       "      <td>105</td>\n",
       "    </tr>\n",
       "    <tr>\n",
       "      <th>14</th>\n",
       "      <td>1015</td>\n",
       "      <td>西城官园</td>\n",
       "      <td>XiChengGuanYuan</td>\n",
       "      <td>39.929302</td>\n",
       "      <td>116.351029</td>\n",
       "      <td>106</td>\n",
       "    </tr>\n",
       "    <tr>\n",
       "      <th>15</th>\n",
       "      <td>1016</td>\n",
       "      <td>丰台花园</td>\n",
       "      <td>FengTaiHuaYuan</td>\n",
       "      <td>39.863470</td>\n",
       "      <td>116.279082</td>\n",
       "      <td>103</td>\n",
       "    </tr>\n",
       "    <tr>\n",
       "      <th>16</th>\n",
       "      <td>1017</td>\n",
       "      <td>大兴黄村镇</td>\n",
       "      <td>DaXingHuangCunZhen</td>\n",
       "      <td>39.718147</td>\n",
       "      <td>116.406155</td>\n",
       "      <td>108</td>\n",
       "    </tr>\n",
       "    <tr>\n",
       "      <th>17</th>\n",
       "      <td>1018</td>\n",
       "      <td>亦庄开发区</td>\n",
       "      <td>YiZhuangKaiFaQu</td>\n",
       "      <td>39.794491</td>\n",
       "      <td>116.506319</td>\n",
       "      <td>108</td>\n",
       "    </tr>\n",
       "    <tr>\n",
       "      <th>18</th>\n",
       "      <td>1019</td>\n",
       "      <td>通州新城</td>\n",
       "      <td>TongZhouXinCheng</td>\n",
       "      <td>39.885241</td>\n",
       "      <td>116.664162</td>\n",
       "      <td>109</td>\n",
       "    </tr>\n",
       "    <tr>\n",
       "      <th>19</th>\n",
       "      <td>1020</td>\n",
       "      <td>东城天坛</td>\n",
       "      <td>DongChengTianTan</td>\n",
       "      <td>39.886491</td>\n",
       "      <td>116.407355</td>\n",
       "      <td>107</td>\n",
       "    </tr>\n",
       "    <tr>\n",
       "      <th>20</th>\n",
       "      <td>1021</td>\n",
       "      <td>前门东大街</td>\n",
       "      <td>QianMenDongDaJie</td>\n",
       "      <td>39.899135</td>\n",
       "      <td>116.395383</td>\n",
       "      <td>107</td>\n",
       "    </tr>\n",
       "    <tr>\n",
       "      <th>21</th>\n",
       "      <td>1022</td>\n",
       "      <td>北京美国大使馆</td>\n",
       "      <td>BeiJingMeiGuoDaShiGuan</td>\n",
       "      <td>39.920993</td>\n",
       "      <td>116.443448</td>\n",
       "      <td>105</td>\n",
       "    </tr>\n",
       "    <tr>\n",
       "      <th>22</th>\n",
       "      <td>1023</td>\n",
       "      <td>顺义新城</td>\n",
       "      <td>ShunYiXinCheng</td>\n",
       "      <td>40.127000</td>\n",
       "      <td>116.655000</td>\n",
       "      <td>110</td>\n",
       "    </tr>\n",
       "    <tr>\n",
       "      <th>23</th>\n",
       "      <td>1024</td>\n",
       "      <td>昌平镇</td>\n",
       "      <td>ChangPingZhen</td>\n",
       "      <td>40.216999</td>\n",
       "      <td>116.230000</td>\n",
       "      <td>111</td>\n",
       "    </tr>\n",
       "    <tr>\n",
       "      <th>24</th>\n",
       "      <td>1025</td>\n",
       "      <td>门头沟龙泉镇</td>\n",
       "      <td>MenTouGouLongQuanZhen</td>\n",
       "      <td>39.936999</td>\n",
       "      <td>116.105999</td>\n",
       "      <td>112</td>\n",
       "    </tr>\n",
       "    <tr>\n",
       "      <th>25</th>\n",
       "      <td>1026</td>\n",
       "      <td>平谷镇</td>\n",
       "      <td>PingGuZhen</td>\n",
       "      <td>40.143000</td>\n",
       "      <td>117.099999</td>\n",
       "      <td>113</td>\n",
       "    </tr>\n",
       "    <tr>\n",
       "      <th>26</th>\n",
       "      <td>1027</td>\n",
       "      <td>怀柔镇</td>\n",
       "      <td>HuaiRouZhen</td>\n",
       "      <td>40.328000</td>\n",
       "      <td>116.628000</td>\n",
       "      <td>114</td>\n",
       "    </tr>\n",
       "    <tr>\n",
       "      <th>27</th>\n",
       "      <td>1028</td>\n",
       "      <td>密云镇</td>\n",
       "      <td>MiYunZhen</td>\n",
       "      <td>40.369999</td>\n",
       "      <td>116.831999</td>\n",
       "      <td>115</td>\n",
       "    </tr>\n",
       "    <tr>\n",
       "      <th>28</th>\n",
       "      <td>1029</td>\n",
       "      <td>延庆镇</td>\n",
       "      <td>YanQingZhen</td>\n",
       "      <td>40.453000</td>\n",
       "      <td>115.971999</td>\n",
       "      <td>116</td>\n",
       "    </tr>\n",
       "    <tr>\n",
       "      <th>29</th>\n",
       "      <td>1030</td>\n",
       "      <td>昌平定陵</td>\n",
       "      <td>ChangPingDingLing</td>\n",
       "      <td>40.292000</td>\n",
       "      <td>116.220000</td>\n",
       "      <td>111</td>\n",
       "    </tr>\n",
       "    <tr>\n",
       "      <th>30</th>\n",
       "      <td>1031</td>\n",
       "      <td>京西北八达岭</td>\n",
       "      <td>JingXiBeiBaDaLing</td>\n",
       "      <td>40.365000</td>\n",
       "      <td>115.988000</td>\n",
       "      <td>116</td>\n",
       "    </tr>\n",
       "    <tr>\n",
       "      <th>31</th>\n",
       "      <td>1032</td>\n",
       "      <td>京东北密云水库</td>\n",
       "      <td>JingDongBeiMiYunShuiKu</td>\n",
       "      <td>40.499000</td>\n",
       "      <td>116.911000</td>\n",
       "      <td>115</td>\n",
       "    </tr>\n",
       "    <tr>\n",
       "      <th>32</th>\n",
       "      <td>1033</td>\n",
       "      <td>京东东高村</td>\n",
       "      <td>JingDongDongGaoCun</td>\n",
       "      <td>40.100000</td>\n",
       "      <td>117.120000</td>\n",
       "      <td>113</td>\n",
       "    </tr>\n",
       "    <tr>\n",
       "      <th>33</th>\n",
       "      <td>1034</td>\n",
       "      <td>京东南永乐店</td>\n",
       "      <td>JingDongNanYongLeDian</td>\n",
       "      <td>39.712000</td>\n",
       "      <td>116.783000</td>\n",
       "      <td>109</td>\n",
       "    </tr>\n",
       "    <tr>\n",
       "      <th>34</th>\n",
       "      <td>1035</td>\n",
       "      <td>京南榆垡</td>\n",
       "      <td>JingNanYu</td>\n",
       "      <td>39.520000</td>\n",
       "      <td>116.300000</td>\n",
       "      <td>108</td>\n",
       "    </tr>\n",
       "    <tr>\n",
       "      <th>35</th>\n",
       "      <td>1036</td>\n",
       "      <td>京西南琉璃河</td>\n",
       "      <td>JingXiNanLiuLiHe</td>\n",
       "      <td>39.579999</td>\n",
       "      <td>116.000000</td>\n",
       "      <td>104</td>\n",
       "    </tr>\n",
       "  </tbody>\n",
       "</table>\n",
       "</div>"
      ],
      "text/plain": [
       "    station_id name_chinese             name_english   latitude   longitude  \\\n",
       "0         1001       海淀北部新区        HaiDianBeiBuXinQu  40.090679  116.173553   \n",
       "1         1002      海淀北京植物园  HaiDianBeiJingZhiWuYuan  40.003950  116.205310   \n",
       "2         1003        石景山古城       ShiJingShanGuCheng  39.914409  116.184239   \n",
       "3         1004         丰台云岗           FengTaiYunGang  39.815128  116.171150   \n",
       "4         1005         房山良乡       FangShanLiangXiang  39.742767  116.136045   \n",
       "5         1006         海淀万柳            HaiDianWanLiu  39.987313  116.287451   \n",
       "6         1007       朝阳奥体中心     ChaoYangAoTiZhongXin  39.982053  116.397400   \n",
       "7         1008       西直门北大街         XiZhiMenBeiDaJie  39.954047  116.348991   \n",
       "8         1009       西城万寿西宫     XiChengWanShouXiGong  39.878193  116.351974   \n",
       "9         1010       永定门内大街      YongDingMenNeiDaJie  39.876184  116.394009   \n",
       "10        1011        南三环西路           NanSanHuanXiLu  39.855958  116.367810   \n",
       "11        1012        朝阳农展馆     ChaoYangNongZhanGuan  39.937119  116.460742   \n",
       "12        1013         东城东四          DongChengDongSi  39.929287  116.416883   \n",
       "13        1014        东四环北路          DongSiHuanBeiLu  39.939554  116.483746   \n",
       "14        1015         西城官园          XiChengGuanYuan  39.929302  116.351029   \n",
       "15        1016         丰台花园           FengTaiHuaYuan  39.863470  116.279082   \n",
       "16        1017        大兴黄村镇       DaXingHuangCunZhen  39.718147  116.406155   \n",
       "17        1018        亦庄开发区          YiZhuangKaiFaQu  39.794491  116.506319   \n",
       "18        1019         通州新城         TongZhouXinCheng  39.885241  116.664162   \n",
       "19        1020         东城天坛         DongChengTianTan  39.886491  116.407355   \n",
       "20        1021        前门东大街         QianMenDongDaJie  39.899135  116.395383   \n",
       "21        1022      北京美国大使馆   BeiJingMeiGuoDaShiGuan  39.920993  116.443448   \n",
       "22        1023         顺义新城           ShunYiXinCheng  40.127000  116.655000   \n",
       "23        1024          昌平镇            ChangPingZhen  40.216999  116.230000   \n",
       "24        1025       门头沟龙泉镇    MenTouGouLongQuanZhen  39.936999  116.105999   \n",
       "25        1026          平谷镇               PingGuZhen  40.143000  117.099999   \n",
       "26        1027          怀柔镇              HuaiRouZhen  40.328000  116.628000   \n",
       "27        1028          密云镇                MiYunZhen  40.369999  116.831999   \n",
       "28        1029          延庆镇              YanQingZhen  40.453000  115.971999   \n",
       "29        1030         昌平定陵        ChangPingDingLing  40.292000  116.220000   \n",
       "30        1031       京西北八达岭        JingXiBeiBaDaLing  40.365000  115.988000   \n",
       "31        1032      京东北密云水库   JingDongBeiMiYunShuiKu  40.499000  116.911000   \n",
       "32        1033        京东东高村       JingDongDongGaoCun  40.100000  117.120000   \n",
       "33        1034       京东南永乐店    JingDongNanYongLeDian  39.712000  116.783000   \n",
       "34        1035         京南榆垡                JingNanYu  39.520000  116.300000   \n",
       "35        1036       京西南琉璃河         JingXiNanLiuLiHe  39.579999  116.000000   \n",
       "\n",
       "    district_id  \n",
       "0           101  \n",
       "1           101  \n",
       "2           102  \n",
       "3           103  \n",
       "4           104  \n",
       "5           101  \n",
       "6           105  \n",
       "7           101  \n",
       "8           106  \n",
       "9           103  \n",
       "10          103  \n",
       "11          105  \n",
       "12          107  \n",
       "13          105  \n",
       "14          106  \n",
       "15          103  \n",
       "16          108  \n",
       "17          108  \n",
       "18          109  \n",
       "19          107  \n",
       "20          107  \n",
       "21          105  \n",
       "22          110  \n",
       "23          111  \n",
       "24          112  \n",
       "25          113  \n",
       "26          114  \n",
       "27          115  \n",
       "28          116  \n",
       "29          111  \n",
       "30          116  \n",
       "31          115  \n",
       "32          113  \n",
       "33          109  \n",
       "34          108  \n",
       "35          104  "
      ]
     },
     "execution_count": 174,
     "metadata": {},
     "output_type": "execute_result"
    }
   ],
   "source": [
    "sta"
   ]
  },
  {
   "cell_type": "code",
   "execution_count": 15,
   "metadata": {},
   "outputs": [],
   "source": [
    "p1 = pyproj.Proj(init=\"epsg:4326\") # 定义数据地理坐标系 WGS84\n",
    "p2 = pyproj.Proj(init=\"epsg:3857\") # 定义转换投影坐标系\n"
   ]
  },
  {
   "cell_type": "code",
   "execution_count": 25,
   "metadata": {},
   "outputs": [],
   "source": [
    "lat_lon = []\n",
    "for lat,lon in zip(sta['latitude'],sta['longitude']):\n",
    "    tmp = []\n",
    "    x, y = pyproj.transform(p1, p2, lon, lat) # lon 和lat 可以是元组\n",
    "    tmp.append(x);tmp.append(y)\n",
    "    lat_lon.append(tmp)"
   ]
  },
  {
   "cell_type": "code",
   "execution_count": 26,
   "metadata": {},
   "outputs": [],
   "source": [
    "filepath = 'attention/'"
   ]
  },
  {
   "cell_type": "code",
   "execution_count": 96,
   "metadata": {},
   "outputs": [
    {
     "name": "stdout",
     "output_type": "stream",
     "text": [
      "[56.89297  54.17684  54.742116 54.76329  53.163335 52.20172  54.853242\n",
      " 54.34824  54.34508  53.97785  57.179615 56.38826  54.9176   52.794613\n",
      " 54.517083 54.74678  53.901892 56.319844]\n"
     ]
    },
    {
     "data": {
      "text/plain": [
       "<matplotlib.collections.PathCollection at 0x11a0fb7f0>"
      ]
     },
     "execution_count": 96,
     "metadata": {},
     "output_type": "execute_result"
    },
    {
     "data": {
      "image/png": "[encoded data removed]",
      "text/plain": [
       "<Figure size 432x288 with 1 Axes>"
      ]
     },
     "metadata": {},
     "output_type": "display_data"
    }
   ],
   "source": [
    "lat_lon = np.array(lat_lon)\n",
    "source = np.array([0, 3, 4, 5, 6, 9, 11, 16, 17, 18, 22, 24, 26, 27, 30, 31, 34, 35])\n",
    "target = [32]\n",
    "sta_atten = pd.read_csv(filepath + 'attention0.csv')\n",
    "sta_atten = sta_atten.values[1:,1:]\n",
    "score = sta_atten[-170,:] * 1000\n",
    "print(score)\n",
    "plt.xticks([])\n",
    "plt.yticks([])\n",
    "plt.scatter(lat_lon[target,0],lat_lon[target,1],c='black',marker ='*')\n",
    "plt.scatter(lat_lon[source,0],lat_lon[source,1],c = score,cmap = plt.cm.hot_r)"
   ]
  },
  {
   "cell_type": "code",
   "execution_count": 64,
   "metadata": {},
   "outputs": [
    {
     "data": {
      "text/plain": [
       "<matplotlib.collections.PathCollection at 0x117f51e80>"
      ]
     },
     "execution_count": 64,
     "metadata": {},
     "output_type": "execute_result"
    },
    {
     "data": {
      "image/png": "[encoded data removed]",
      "text/plain": [
       "<Figure size 432x288 with 1 Axes>"
      ]
     },
     "metadata": {},
     "output_type": "display_data"
    }
   ],
   "source": [
    "plt.scatter(range(20),range(20),c = range(20),cmap = plt.cm.hot_r)"
   ]
  },
  {
   "cell_type": "code",
   "execution_count": 95,
   "metadata": {},
   "outputs": [
    {
     "name": "stdout",
     "output_type": "stream",
     "text": [
      "[52.458394 53.152174 58.238104 56.226462 55.082526 54.675713 53.717747\n",
      " 54.68789  54.260623 53.01554  54.402743 54.402895 55.154994 55.878088\n",
      " 54.29535  55.031616 54.42234  54.409668]\n"
     ]
    },
    {
     "data": {
      "text/plain": [
       "<matplotlib.collections.PathCollection at 0x11a0db080>"
      ]
     },
     "execution_count": 95,
     "metadata": {},
     "output_type": "execute_result"
    },
    {
     "data": {
      "image/png": "[encoded data removed]",
      "text/plain": [
       "<Figure size 432x288 with 1 Axes>"
      ]
     },
     "metadata": {},
     "output_type": "display_data"
    }
   ],
   "source": [
    "source = np.array([0, 1, 2, 6, 7, 9, 10, 11, 13, 15, 16, 22, 26, 27, 28, 29, 32, 34])\n",
    "target = [24]\n",
    "sta_atten = pd.read_csv(filepath + 'attention1.csv')\n",
    "sta_atten = sta_atten.values[1:,1:]\n",
    "score = sta_atten[-170,:] * 1000\n",
    "print(score)\n",
    "plt.xticks([])\n",
    "plt.yticks([])\n",
    "plt.scatter(lat_lon[target,0],lat_lon[target,1],c='black',marker ='*')\n",
    "plt.scatter(lat_lon[source,0],lat_lon[source,1],c = score,cmap = plt.cm.hot_r)"
   ]
  },
  {
   "cell_type": "code",
   "execution_count": 94,
   "metadata": {},
   "outputs": [
    {
     "name": "stdout",
     "output_type": "stream",
     "text": [
      "[56.308467 56.12302  57.333242 57.353012 58.580965 58.071017 58.802065\n",
      " 58.101725 58.249883 59.161626 58.63233  58.73049  58.14281  58.42953\n",
      " 58.971483 58.65285  58.430824 58.017753]\n"
     ]
    },
    {
     "data": {
      "text/plain": [
       "<matplotlib.collections.PathCollection at 0x11a0375c0>"
      ]
     },
     "execution_count": 94,
     "metadata": {},
     "output_type": "execute_result"
    },
    {
     "data": {
      "image/png": "[encoded data removed]",
      "text/plain": [
       "<Figure size 432x288 with 1 Axes>"
      ]
     },
     "metadata": {},
     "output_type": "display_data"
    }
   ],
   "source": [
    "source = np.array([0, 1, 2, 5, 7, 9, 10, 13, 15, 16, 17, 18, 21, 22, 24, 25, 26, 27])\n",
    "target = [34]\n",
    "sta_atten = pd.read_csv(filepath + 'attention2.csv')\n",
    "sta_atten = sta_atten.values[1:,1:]\n",
    "score = sta_atten[-170,:] * 1000\n",
    "print(score)\n",
    "plt.xticks([])\n",
    "plt.yticks([])\n",
    "plt.scatter(lat_lon[target,0],lat_lon[target,1],c='black',marker ='*')\n",
    "plt.scatter(lat_lon[source,0],lat_lon[source,1],c = score,cmap = plt.cm.hot_r)"
   ]
  },
  {
   "cell_type": "code",
   "execution_count": 93,
   "metadata": {},
   "outputs": [
    {
     "name": "stdout",
     "output_type": "stream",
     "text": [
      "[58.40147  57.897773 57.79998  58.55997  57.035208 58.55519  58.19288\n",
      " 55.304337 57.84068  57.820175 57.0351   57.970867 58.608327 58.66015\n",
      " 58.903072 58.853097 58.41693  58.223333]\n"
     ]
    },
    {
     "data": {
      "text/plain": [
       "<matplotlib.collections.PathCollection at 0x11a00fd30>"
      ]
     },
     "execution_count": 93,
     "metadata": {},
     "output_type": "execute_result"
    },
    {
     "data": {
      "image/png": "[encoded data removed]",
      "text/plain": [
       "<Figure size 432x288 with 1 Axes>"
      ]
     },
     "metadata": {},
     "output_type": "display_data"
    }
   ],
   "source": [
    "source = np.array( [2, 3, 4, 5, 7, 9, 11, 17, 21, 23, 25, 27, 28, 29, 32, 33, 34, 35])\n",
    "target = [26]\n",
    "sta_atten = pd.read_csv(filepath + 'attention3.csv')\n",
    "sta_atten = sta_atten.values[1:,1:]\n",
    "score = sta_atten[-170,:] * 1000\n",
    "print(score)\n",
    "plt.xticks([])\n",
    "plt.yticks([])\n",
    "plt.scatter(lat_lon[target,0],lat_lon[target,1],c='black',marker ='*')\n",
    "plt.scatter(lat_lon[source,0],lat_lon[source,1],c = score,cmap = plt.cm.hot_r)"
   ]
  },
  {
   "cell_type": "code",
   "execution_count": 103,
   "metadata": {},
   "outputs": [
    {
     "name": "stdout",
     "output_type": "stream",
     "text": [
      "[56.76573  55.859312 57.180792 55.52188  57.37383  56.805834 57.063773\n",
      " 58.024496 56.735735 56.882545 56.705873 56.775868 56.707755 56.81342\n",
      " 56.186896 56.48219  56.783583 57.76028 ]\n"
     ]
    },
    {
     "data": {
      "text/plain": [
       "<matplotlib.collections.PathCollection at 0x11a605198>"
      ]
     },
     "execution_count": 103,
     "metadata": {},
     "output_type": "execute_result"
    },
    {
     "data": {
      "image/png": "[encoded data removed]",
      "text/plain": [
       "<Figure size 432x288 with 1 Axes>"
      ]
     },
     "metadata": {},
     "output_type": "display_data"
    }
   ],
   "source": [
    "source = np.array( [0, 1, 5, 9, 10, 11, 13, 15, 21, 23, 24, 25, 27, 28, 29, 31, 33, 34])\n",
    "target = [16]\n",
    "sta_atten = pd.read_csv(filepath + 'attention4.csv')\n",
    "sta_atten = sta_atten.values[1:,1:]\n",
    "score = sta_atten[10,:] * 1000\n",
    "print(score)\n",
    "plt.xticks([])\n",
    "plt.yticks([])\n",
    "plt.scatter(lat_lon[target,0],lat_lon[target,1],c='black',marker ='*')\n",
    "plt.scatter(lat_lon[source,0],lat_lon[source,1],c = score,cmap = plt.cm.hot_r)"
   ]
  },
  {
   "cell_type": "code",
   "execution_count": 113,
   "metadata": {},
   "outputs": [
    {
     "name": "stdout",
     "output_type": "stream",
     "text": [
      "[56.51268  56.56403  56.52794  56.712724 55.026155 55.78046  55.64683\n",
      " 55.158976 55.249687 54.49563  54.53348  55.574477 55.797026 55.418357\n",
      " 55.532053 55.69496  56.34466  55.456676]\n"
     ]
    },
    {
     "data": {
      "text/plain": [
       "<matplotlib.collections.PathCollection at 0x1183135f8>"
      ]
     },
     "execution_count": 113,
     "metadata": {},
     "output_type": "execute_result"
    },
    {
     "data": {
      "image/png": "[encoded data removed]",
      "text/plain": [
       "<Figure size 432x288 with 1 Axes>"
      ]
     },
     "metadata": {},
     "output_type": "display_data"
    }
   ],
   "source": [
    "source = np.array([2, 3, 4, 5, 7, 9, 15, 17, 22, 23, 24, 25, 26, 27, 28, 31, 33, 34])\n",
    "target = [29]\n",
    "sta_atten = pd.read_csv(filepath + 'attention4.csv')\n",
    "sta_atten = sta_atten.values[1:,1:]\n",
    "score = sta_atten[20,:] * 1000\n",
    "print(score)\n",
    "plt.xticks([])\n",
    "plt.yticks([])\n",
    "plt.scatter(lat_lon[target,0],lat_lon[target,1],c='black',marker ='*')\n",
    "plt.scatter(lat_lon[source,0],lat_lon[source,1],c = score,cmap = plt.cm.hot_r)"
   ]
  },
  {
   "cell_type": "code",
   "execution_count": 122,
   "metadata": {},
   "outputs": [
    {
     "name": "stdout",
     "output_type": "stream",
     "text": [
      "[56.493487 57.80182  57.434294 57.586167 58.346838 57.121377 58.07298\n",
      " 57.239737 54.240666 57.22868  57.789873 57.389334 58.135636 56.890108\n",
      " 57.16224  57.780683 57.614677 56.09941 ]\n"
     ]
    },
    {
     "data": {
      "text/plain": [
       "<matplotlib.collections.PathCollection at 0x11c194710>"
      ]
     },
     "execution_count": 122,
     "metadata": {},
     "output_type": "execute_result"
    },
    {
     "data": {
      "image/png": "[encoded data removed]",
      "text/plain": [
       "<Figure size 432x288 with 1 Axes>"
      ]
     },
     "metadata": {},
     "output_type": "display_data"
    }
   ],
   "source": [
    "source = np.array([0, 1, 2, 3, 4, 7, 9, 11, 15, 17, 23, 25, 26, 28, 29, 30, 32, 34])\n",
    "target = [35]\n",
    "sta_atten = pd.read_csv(filepath + 'attention5.csv')\n",
    "sta_atten = sta_atten.values[1:,1:]\n",
    "score = sta_atten[90,:] * 1000\n",
    "print(score)\n",
    "plt.xticks([])\n",
    "plt.yticks([])\n",
    "plt.scatter(lat_lon[target,0],lat_lon[target,1],c='black',marker ='*')\n",
    "plt.scatter(lat_lon[source,0],lat_lon[source,1],c = score,cmap = plt.cm.hot_r)"
   ]
  },
  {
   "cell_type": "code",
   "execution_count": 137,
   "metadata": {},
   "outputs": [
    {
     "name": "stdout",
     "output_type": "stream",
     "text": [
      "[55.608504 55.58551  55.432267 55.709485 55.31831  54.86933  53.681727\n",
      " 53.70372  57.50726  55.224564 55.815775 55.389676 53.943496 54.81473\n",
      " 55.561814 55.5859   55.320438 54.572433]\n"
     ]
    },
    {
     "data": {
      "text/plain": [
       "<matplotlib.collections.PathCollection at 0x11c369668>"
      ]
     },
     "execution_count": 137,
     "metadata": {},
     "output_type": "execute_result"
    },
    {
     "data": {
      "image/png": "[encoded data removed]",
      "text/plain": [
       "<Figure size 432x288 with 1 Axes>"
      ]
     },
     "metadata": {},
     "output_type": "display_data"
    }
   ],
   "source": [
    "source = np.array([4, 6, 7, 9, 10, 11, 13, 16, 21, 22, 23, 25, 26, 28, 29, 30, 32, 33])\n",
    "target = [35]\n",
    "sta_atten = pd.read_csv(filepath + 'attention5.csv')\n",
    "sta_atten = sta_atten.values[1:,1:]\n",
    "score = sta_atten[10,:] * 1000\n",
    "print(score)\n",
    "plt.xticks([])\n",
    "plt.yticks([])\n",
    "plt.scatter(lat_lon[target,0],lat_lon[target,1],c='black',marker ='*')\n",
    "plt.scatter(lat_lon[source,0],lat_lon[source,1],c = score,cmap = plt.cm.hot_r)"
   ]
  },
  {
   "cell_type": "code",
   "execution_count": null,
   "metadata": {},
   "outputs": [],
   "source": []
  },
  {
   "cell_type": "code",
   "execution_count": 143,
   "metadata": {},
   "outputs": [
    {
     "name": "stdout",
     "output_type": "stream",
     "text": [
      "[56.220524 55.36171  56.224972 56.21843  56.626435 56.23657  54.678515\n",
      " 57.325225 57.001516 56.93638  56.517772 57.029765 57.139896 56.924544\n",
      " 59.18134  56.55135  57.243384 53.39795 ]\n"
     ]
    },
    {
     "data": {
      "text/plain": [
       "<matplotlib.collections.PathCollection at 0x11bc27860>"
      ]
     },
     "execution_count": 143,
     "metadata": {},
     "output_type": "execute_result"
    },
    {
     "data": {
      "image/png": "[encoded data removed]",
      "text/plain": [
       "<Figure size 432x288 with 1 Axes>"
      ]
     },
     "metadata": {},
     "output_type": "display_data"
    }
   ],
   "source": [
    "source = np.array([0, 1, 2, 3, 4, 5, 7, 9, 10, 11, 13, 16, 17, 18, 24, 26, 29, 33])\n",
    "target = [22]\n",
    "sta_atten = pd.read_csv(filepath + 'attention6.csv')\n",
    "sta_atten = sta_atten.values[1:,1:]\n",
    "score = sta_atten[100,:] * 1000\n",
    "print(score)\n",
    "plt.xticks([])\n",
    "plt.yticks([])\n",
    "plt.scatter(lat_lon[target,0],lat_lon[target,1],c='black',marker ='*')\n",
    "plt.scatter(lat_lon[source,0],lat_lon[source,1],c = score,cmap = plt.cm.hot_r)"
   ]
  },
  {
   "cell_type": "code",
   "execution_count": 160,
   "metadata": {},
   "outputs": [
    {
     "name": "stdout",
     "output_type": "stream",
     "text": [
      "[55.743985 55.05008  55.04889  55.98263  56.173522 56.358006 55.72674\n",
      " 54.631107 55.44672  54.950763 55.529043 55.61501  56.466445 55.968318\n",
      " 56.926817 56.876715 56.752484 56.546368]\n"
     ]
    },
    {
     "data": {
      "text/plain": [
       "<matplotlib.collections.PathCollection at 0x11d73f7f0>"
      ]
     },
     "execution_count": 160,
     "metadata": {},
     "output_type": "execute_result"
    },
    {
     "data": {
      "image/png": "[encoded data removed]",
      "text/plain": [
       "<Figure size 432x288 with 1 Axes>"
      ]
     },
     "metadata": {},
     "output_type": "display_data"
    }
   ],
   "source": [
    "source = np.array([4, 6, 7, 9, 10, 11, 13, 16, 21, 22, 23, 25, 26, 28, 29, 30, 32, 33])\n",
    "target = [35]\n",
    "sta_atten = pd.read_csv(filepath + 'attention7.csv')\n",
    "sta_atten = sta_atten.values[1:,1:]\n",
    "score = sta_atten[39,:] * 1000\n",
    "print(score)\n",
    "plt.xticks([])\n",
    "plt.yticks([])\n",
    "plt.scatter(lat_lon[target,0],lat_lon[target,1],c='black',marker ='*')\n",
    "plt.scatter(lat_lon[source,0],lat_lon[source,1],c = score,cmap = plt.cm.hot_r)"
   ]
  },
  {
   "cell_type": "code",
   "execution_count": 167,
   "metadata": {},
   "outputs": [
    {
     "name": "stdout",
     "output_type": "stream",
     "text": [
      "[55.015538 53.483788 55.2614   53.69056  54.36543  54.469343 55.626158\n",
      " 53.385373 55.72827  54.596238 54.28493  56.450486 55.67397  59.173394\n",
      " 54.249045 56.48514  53.192895 52.76047 ]\n"
     ]
    },
    {
     "data": {
      "text/plain": [
       "<matplotlib.collections.PathCollection at 0x11d078320>"
      ]
     },
     "execution_count": 167,
     "metadata": {},
     "output_type": "execute_result"
    },
    {
     "data": {
      "image/png": "[encoded data removed]",
      "text/plain": [
       "<Figure size 432x288 with 1 Axes>"
      ]
     },
     "metadata": {},
     "output_type": "display_data"
    }
   ],
   "source": [
    "source = np.array([0, 1, 2, 3, 4, 5, 7, 9, 10, 11, 13, 16, 17, 18, 24, 26, 29, 33])\n",
    "target = [22]\n",
    "sta_atten = pd.read_csv(filepath + 'attention8.csv')\n",
    "sta_atten = sta_atten.values[1:,1:]\n",
    "score = sta_atten[70,:] * 1000\n",
    "print(score)\n",
    "plt.xticks([])\n",
    "plt.yticks([])\n",
    "plt.scatter(lat_lon[target,0],lat_lon[target,1],c='black',marker ='*')\n",
    "plt.scatter(lat_lon[source,0],lat_lon[source,1],c = score,cmap = plt.cm.hot_r)"
   ]
  },
  {
   "cell_type": "code",
   "execution_count": 172,
   "metadata": {},
   "outputs": [
    {
     "name": "stdout",
     "output_type": "stream",
     "text": [
      "[56.769386 56.418072 56.408487 57.45046  58.29352  57.172183 61.09629\n",
      " 58.315456 57.8619   58.527485 58.30582  57.432704 53.261306 58.07781\n",
      " 60.240325 57.256814 54.434687 57.974588]\n"
     ]
    },
    {
     "data": {
      "text/plain": [
       "<matplotlib.collections.PathCollection at 0x11e5f5a90>"
      ]
     },
     "execution_count": 172,
     "metadata": {},
     "output_type": "execute_result"
    },
    {
     "data": {
      "image/png": "[encoded data removed]",
      "text/plain": [
       "<Figure size 432x288 with 1 Axes>"
      ]
     },
     "metadata": {},
     "output_type": "display_data"
    }
   ],
   "source": [
    "source = np.array([1, 33, 3, 4, 34, 35, 9, 10, 13, 18, 22, 23, 24, 25, 27, 28, 29, 30])\n",
    "target = [6]\n",
    "sta_atten = pd.read_csv(filepath + 'attention9.csv')\n",
    "sta_atten = sta_atten.values[1:,1:]\n",
    "score = sta_atten[120,:] * 1000\n",
    "print(score)\n",
    "plt.xticks([])\n",
    "plt.yticks([])\n",
    "plt.scatter(lat_lon[target,0],lat_lon[target,1],c='black',marker ='*')\n",
    "plt.scatter(lat_lon[source,0],lat_lon[source,1],c = score,cmap = plt.cm.hot_r)"
   ]
  },
  {
   "cell_type": "code",
   "execution_count": 54,
   "metadata": {},
   "outputs": [
    {
     "data": {
      "text/plain": [
       "<matplotlib.collections.PathCollection at 0x116961cc0>"
      ]
     },
     "execution_count": 54,
     "metadata": {},
     "output_type": "execute_result"
    },
    {
     "data": {
      "image/png": "[encoded data removed]",
      "text/plain": [
       "<Figure size 432x288 with 1 Axes>"
      ]
     },
     "metadata": {},
     "output_type": "display_data"
    }
   ],
   "source": [
    "plt.scatter(range(20),range(20),c = range(20),cmap = plt.cm.hot_r)"
   ]
  }
 ],
 "metadata": {
  "kernelspec": {
   "display_name": "Python 3",
   "language": "python",
   "name": "python3"
  },
  "language_info": {
   "codemirror_mode": {
    "name": "ipython",
    "version": 3
   },
   "file_extension": ".py",
   "mimetype": "text/x-python",
   "name": "python",
   "nbconvert_exporter": "python",
   "pygments_lexer": "ipython3",
   "version": "3.5.2rc1"
  }
 },
 "nbformat": 4,
 "nbformat_minor": 1
}
