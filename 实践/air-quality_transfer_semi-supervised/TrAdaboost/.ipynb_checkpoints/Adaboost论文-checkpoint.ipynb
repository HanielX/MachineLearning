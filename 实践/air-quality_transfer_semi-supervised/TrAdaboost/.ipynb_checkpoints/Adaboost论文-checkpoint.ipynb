{
 "cells": [
  {
   "cell_type": "markdown",
   "metadata": {
    "collapsed": true
   },
   "source": [
    "- 最后假设的误差为：\n",
    "$exp(-2\\sum_{t=1}^{T}\\gamma_{t})$ where $\\varepsilon_{t}=\\frac{1}{2}-\\gamma_{t}$ 为第t个假设的错误率"
   ]
  },
  {
   "cell_type": "markdown",
   "metadata": {},
   "source": [
    "## 为什么初始化权重为$\\frac{1}{n}$\n",
    "- 因为并没有任何的先验信息来表明那个样本是比较重要的，所以刚开始样本权重全部设置为$\\frac{1}{n}$"
   ]
  },
  {
   "cell_type": "markdown",
   "metadata": {},
   "source": [
    "![formula.jpg](img/formula1.png)\n",
    "- 这只是一个选择的分布\n",
    "![formula.jpg](img/formula2.png)\n",
    "- 根据错误分布得到权重更新\n",
    "- 根据凸分析，但是这个公式不知道怎么来的\n",
    "![image.png](img/formula3.png)"
   ]
  },
  {
   "cell_type": "markdown",
   "metadata": {},
   "source": [
    "- ![formula4](img/formula4.png)\n",
    "- 其中$L_{Hedge(\\beta)} = \\sum_{t=1}^{T}p_{t}l_{t}$"
   ]
  },
  {
   "cell_type": "markdown",
   "metadata": {},
   "source": [
    "![formula5.png](img/formula5.png)"
   ]
  },
  {
   "cell_type": "markdown",
   "metadata": {},
   "source": [
    "![theorem3](img/theorem3.png)"
   ]
  },
  {
   "cell_type": "code",
   "execution_count": null,
   "metadata": {},
   "outputs": [],
   "source": []
  }
 ],
 "metadata": {
  "kernelspec": {
   "display_name": "Python 3",
   "language": "python",
   "name": "python3"
  },
  "language_info": {
   "codemirror_mode": {
    "name": "ipython",
    "version": 3
   },
   "file_extension": ".py",
   "mimetype": "text/x-python",
   "name": "python",
   "nbconvert_exporter": "python",
   "pygments_lexer": "ipython3",
   "version": "3.5.2rc1"
  }
 },
 "nbformat": 4,
 "nbformat_minor": 1
}
