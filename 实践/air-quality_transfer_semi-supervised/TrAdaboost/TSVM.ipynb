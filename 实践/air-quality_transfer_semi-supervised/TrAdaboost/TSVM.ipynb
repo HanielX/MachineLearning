{
 "cells": [
  {
   "cell_type": "markdown",
   "metadata": {
    "collapsed": true
   },
   "source": [
    "## 半监督支持向量机\n",
    "- 形式化地说$$min_{w,b,\\tilde{y},\\xi} = \\frac{1}{2}||w||^2 + C_{l}\\sum_{i=1}^{l}\\xi_{i} + C_{u}\\sum_{l+1}^{m}\\xi_{i} \\tag{1.1}\\\\\n",
    "s.t. y_{i}(w^Tx_{i}+b)>=1-\\xi_{i},i = 1,2,...,l,\\\\\n",
    " \\tilde{y}_{i}(w^Tx_{i}+b)>=1-\\xi_{i},i = l+1,l+2,...,m \\\\\n",
    " \\xi_{i} >=0 , i=1,2,...,m \\\\ 其中u属于未标记样本$$\n",
    "- TSVM 采用局部搜索来迭代地寻找式子1.1的值，它先用有标记样本学的一个SVM，然后利用这个SVM对为标记数据进行标记指派，即将SVM预测的结果作为”伪标记“赋予为标记样本，此时$\\tilde{y}$成为已知，于是将其代入式1.1即得到一个标准的SVM问题，于是可求解出新的划分超平面和松弛变量，注意到此时未标记样本的未标记很可能是不准确的，因此$C_{u}$要设置为$C_{l}$小的值，使得有标记的样本所起的作用更大，接下来TSVM 找出两个标记指派为异类且很有可能标记错误的未标记样本，交换他们的标记，再重新基于式1.1求解更新后的划分超平面和松弛变量，依次循环。直到$C_{u}=C_{l}$ "
   ]
  },
  {
   "cell_type": "markdown",
   "metadata": {},
   "source": [
    "![tsvm](img/tsvm.png)"
   ]
  },
  {
   "cell_type": "code",
   "execution_count": 136,
   "metadata": {},
   "outputs": [],
   "source": [
    "import numpy as np\n",
    "from utils import *\n",
    "import pandas as pd\n",
    "from sklearn.svm import LinearSVC\n",
    "from collections import Counter"
   ]
  },
  {
   "cell_type": "code",
   "execution_count": 153,
   "metadata": {},
   "outputs": [
    {
     "data": {
      "text/plain": [
       "Counter({-1: 1616, 1: 1900})"
      ]
     },
     "execution_count": 153,
     "metadata": {},
     "output_type": "execute_result"
    }
   ],
   "source": [
    "frame = pd.read_csv('data/mushrooms.csv')\n",
    "frame['class'].value_counts()\n",
    "columns = frame.columns\n",
    "# label encode 对于每一列\n",
    "from sklearn.preprocessing import LabelEncoder\n",
    "labelencoder=LabelEncoder()\n",
    "for col in frame.columns:\n",
    "    frame[col] = labelencoder.fit_transform(frame[col])\n",
    "X = frame.values\n",
    "X_same = X[X[:,10] == 0]\n",
    "for i in range(len(X_same)):\n",
    "    if X_same[i,0] == 0:\n",
    "        X_same[i,0] = -1\n",
    "Counter(X_same[:,0])"
   ]
  },
  {
   "cell_type": "code",
   "execution_count": 156,
   "metadata": {},
   "outputs": [],
   "source": [
    "class TSVM(object):\n",
    "    def __init__(self):\n",
    "        self.Cu = 0.001 # 分别对应有label的样本权重和无label的样本权重\n",
    "        self.Cl = 1\n",
    "    def fit(self,train_data):\n",
    "        # 找到一个正例，一个反例\n",
    "#         np.random.shuffle(train_data)\n",
    "        pos_one = train_data[train_data[:,0] == 1][0]\n",
    "        pos_other = train_data[train_data[:,0] == 1][1:]\n",
    "        neg_one = train_data[train_data[:,0] == -1][0]\n",
    "        neg_other = train_data[train_data[:,0] == -1][1:]\n",
    "        train = np.vstack((pos_one,neg_one))\n",
    "        print('train.shape: ',train.shape)\n",
    "        self.other = np.vstack((pos_other,neg_other)) # S 还用于对数据进行测试\n",
    "        print('self.other.shape : ',self.other.shape)\n",
    "        # 训练一个初始的分类器\n",
    "        self.clf = LinearSVC(class_weight = 'balanced')\n",
    "        self.clf.fit(train[:,1:],train[:,0])\n",
    "        pred_y = self.clf.predict(self.other[:,1:])\n",
    "        \n",
    "        X = np.vstack((train,self.other))\n",
    "        y = np.vstack((train[:,0].reshape(-1,1),pred_y.reshape(-1,1)))[:,0] # 将预测结果放到SVM中进行训练\n",
    "        \n",
    "        self.w = np.ones(train_data.shape[0])\n",
    "        \n",
    "        self.w[len(train):] = self.Cu\n",
    "        \n",
    "        while self.Cu < self.Cl:\n",
    "            print(X.shape,y.shape,self.w.shape)\n",
    "            self.clf.fit(X[:,1:],y,sample_weight = self.w)\n",
    "            while True:\n",
    "                dist = self.clf.decision_function(X[:,1:]) # 返回的是带符号的距离\n",
    "                xi = 1 - y * dist # 算出每一个xi\n",
    "                # 取出预判为正例的id,取出预判为反例的id\n",
    "                xi_pos_index, xi_neg_index = np.where(y[2:] > 0), np.where( y[2:]<0 )\n",
    "                xi_pos , xi_neg = xi[xi_pos_index],xi[xi_neg_index]\n",
    "                xi_pos_max_index = np.argmax(xi_pos)\n",
    "                xi_neg_max_index = np.argmax(xi_neg)\n",
    "                xi_pos_max_value = xi_pos[xi_pos_max_index]\n",
    "                xi_neg_max_value = xi_neg[xi_neg_max_index]\n",
    "                # 不断地拿最大的两个距离的，并且其中有一个误分类，或者两个都误分类了\n",
    "                if xi_pos_max_value > 0 and xi_neg_max_value > 0 and (xi_pos_max_value + xi_pos_max_value) > 2:\n",
    "                    # 交换类别\n",
    "                    y[xi_pos_max_index],y[xi_neg_max_index] = y[xi_neg_max_index],y[xi_pos_max_index]\n",
    "                    self.clf.fit(X[:,1:],y,sample_weight = self.w)\n",
    "                else:\n",
    "                    break\n",
    "            self.Cu = min(2 * self.Cu ,self.Cl)\n",
    "            # 交换权重\n",
    "            self.w[len(train):] = self.Cu\n",
    "    def predict(self):\n",
    "        pred_y = self.clf.predict(self.other[:,1:])\n",
    "        return 1 - np.mean(pred_y == self.other[:,0])\n",
    "            "
   ]
  },
  {
   "cell_type": "code",
   "execution_count": 157,
   "metadata": {},
   "outputs": [
    {
     "name": "stdout",
     "output_type": "stream",
     "text": [
      "train.shape:  (2, 23)\n",
      "self.other.shape :  (3514, 23)\n",
      "(3516, 23) (3516,) (3516,)\n",
      "(3516, 23) (3516,) (3516,)\n",
      "(3516, 23) (3516,) (3516,)\n",
      "(3516, 23) (3516,) (3516,)\n",
      "(3516, 23) (3516,) (3516,)\n",
      "(3516, 23) (3516,) (3516,)\n",
      "(3516, 23) (3516,) (3516,)\n",
      "(3516, 23) (3516,) (3516,)\n",
      "(3516, 23) (3516,) (3516,)\n",
      "(3516, 23) (3516,) (3516,)\n"
     ]
    },
    {
     "data": {
      "text/plain": [
       "0.4832100170745589"
      ]
     },
     "execution_count": 157,
     "metadata": {},
     "output_type": "execute_result"
    }
   ],
   "source": [
    "tsvm = TSVM()\n",
    "tsvm.fit(X_same)\n",
    "tsvm.predict()"
   ]
  },
  {
   "cell_type": "markdown",
   "metadata": {},
   "source": [
    "- 论文中是0.439"
   ]
  }
 ],
 "metadata": {
  "kernelspec": {
   "display_name": "Python 3",
   "language": "python",
   "name": "python3"
  },
  "language_info": {
   "codemirror_mode": {
    "name": "ipython",
    "version": 3
   },
   "file_extension": ".py",
   "mimetype": "text/x-python",
   "name": "python",
   "nbconvert_exporter": "python",
   "pygments_lexer": "ipython3",
   "version": "3.5.2rc1"
  }
 },
 "nbformat": 4,
 "nbformat_minor": 1
}
