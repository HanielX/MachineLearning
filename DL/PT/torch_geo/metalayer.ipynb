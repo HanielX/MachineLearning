{
 "cells": [
  {
   "cell_type": "code",
   "execution_count": 12,
   "metadata": {},
   "outputs": [],
   "source": [
    "import numpy as np\n",
    "from torch.nn import LSTM\n",
    "import torch.nn as nn\n",
    "import torch\n",
    "import torchvision\n",
    "from torch.optim import Adam\n",
    "from sklearn.metrics import *\n",
    "from torch_geometric.nn import MetaLayer\n",
    "from torch.nn import Sequential as Seq, Linear as Lin, ReLU\n",
    "from torch_scatter import *\n",
    "# device = 0\n",
    "import argparse"
   ]
  },
  {
   "cell_type": "code",
   "execution_count": 122,
   "metadata": {},
   "outputs": [],
   "source": [
    "class MyLayer(torch.nn.Module):\n",
    "    def __init__(self):\n",
    "        super(MyLayer, self).__init__()\n",
    "\n",
    "        self.edge_mlp = Seq(Lin(8, 20), ReLU(), Lin(20, 1))\n",
    "        self.node_mlp_1 = Seq(Lin(3, 20), ReLU(), Lin(20, 2))\n",
    "        self.node_mlp_2 = Seq(Lin(3, 20), ReLU(), Lin(20, 2))\n",
    "        self.global_mlp = Seq(Lin(3, 20), ReLU(), Lin(20, 2))\n",
    "\n",
    "        def edge_model(src, dest, edge_attr, u, batch):\n",
    "            # source, target: [E, F_x], where E is the number of edges.\n",
    "            # edge_attr: [E, F_e]\n",
    "            # u: [B, F_u], where B is the number of graphs.\n",
    "            # batch: [E] with max entry B - 1.\n",
    "            out = torch.cat([src, dest, edge_attr, u[batch]], 1)\n",
    "            return self.edge_mlp(out)\n",
    "\n",
    "        def node_model(x, edge_index, edge_attr, u, batch):\n",
    "            # x: [N, F_x], where N is the number of nodes.\n",
    "            # edge_index: [2, E] with max entry N - 1.\n",
    "            # edge_attr: [E, F_e]\n",
    "            # u: [B, F_u]\n",
    "            # batch: [N] with max entry B - 1.\n",
    "            row, col = edge_index\n",
    "            out = torch.cat([x[col], edge_attr], dim=1)\n",
    "            out = self.node_mlp_1(out)\n",
    "            out = scatter_mean(out, row, dim=0, dim_size=x.size(0))\n",
    "            out = torch.cat([out, u[batch]], dim=1)\n",
    "            return self.node_mlp_2(out)\n",
    "\n",
    "        def global_model(x, edge_index, edge_attr, u, batch):\n",
    "            # x: [N, F_x], where N is the number of nodes.\n",
    "            # edge_index: [2, E] with max entry N - 1.\n",
    "            # edge_attr: [E, F_e]\n",
    "            # u: [B, F_u]\n",
    "            # batch: [N] with max entry B - 1.\n",
    "            out = torch.cat([u, scatter_mean(x, batch, dim=0)], dim=1)\n",
    "            return self.global_mlp(out)\n",
    "\n",
    "        self.op = MetaLayer(edge_model, node_model, global_model)\n",
    "\n",
    "    def forward(self, x, edge_index, edge_attr, u, batch):\n",
    "        return self.op(x, edge_index, edge_attr, u, batch)"
   ]
  },
  {
   "cell_type": "code",
   "execution_count": 199,
   "metadata": {},
   "outputs": [
    {
     "data": {
      "text/plain": [
       "torch.Size([10])"
      ]
     },
     "execution_count": 199,
     "metadata": {},
     "output_type": "execute_result"
    }
   ],
   "source": [
    "## 输入采用的格式\n",
    "x = torch.rand(10,2)\n",
    "## 2 node ,3 node, 5 node\n",
    "edge_index = torch.LongTensor([[0,2,3,6,6,7,7],[1,3,4,5,7,8,9]])\n",
    "row,col = edge_index \n",
    "# print(row,col)\n",
    "edge_attr = torch.rand(7,3)\n",
    "u = torch.Tensor([[1.],[2.],[3.]])\n",
    "batch = torch.LongTensor([0,0,1,1,1,2,2,2,2,2])\n",
    "batch.size()"
   ]
  },
  {
   "cell_type": "code",
   "execution_count": 124,
   "metadata": {},
   "outputs": [
    {
     "data": {
      "text/plain": [
       "tensor([[0.8561, 0.2686],\n",
       "        [0.6355, 0.9120],\n",
       "        [0.9857, 0.5438],\n",
       "        [0.5853, 0.1554],\n",
       "        [0.4832, 0.5185],\n",
       "        [0.0823, 0.0503],\n",
       "        [0.1333, 0.3632],\n",
       "        [0.7997, 0.7625],\n",
       "        [0.3072, 0.1134],\n",
       "        [0.5853, 0.3785]])"
      ]
     },
     "execution_count": 124,
     "metadata": {},
     "output_type": "execute_result"
    }
   ],
   "source": [
    "x"
   ]
  },
  {
   "cell_type": "code",
   "execution_count": 125,
   "metadata": {},
   "outputs": [],
   "source": [
    "layer = MyLayer()"
   ]
  },
  {
   "cell_type": "code",
   "execution_count": 126,
   "metadata": {},
   "outputs": [
    {
     "name": "stdout",
     "output_type": "stream",
     "text": [
      "batch:  tensor([0, 1, 1, 2, 2, 2, 2]) src:  tensor([[0.8561, 0.2686],\n",
      "        [0.9857, 0.5438],\n",
      "        [0.5853, 0.1554],\n",
      "        [0.1333, 0.3632],\n",
      "        [0.1333, 0.3632],\n",
      "        [0.7997, 0.7625],\n",
      "        [0.7997, 0.7625]]) dest:  tensor([[0.6355, 0.9120],\n",
      "        [0.5853, 0.1554],\n",
      "        [0.4832, 0.5185],\n",
      "        [0.0823, 0.0503],\n",
      "        [0.7997, 0.7625],\n",
      "        [0.3072, 0.1134],\n",
      "        [0.5853, 0.3785]]) batch:  tensor([0, 1, 1, 2, 2, 2, 2])\n",
      "x_columns :  tensor([[0.6355, 0.9120],\n",
      "        [0.5853, 0.1554],\n",
      "        [0.4832, 0.5185],\n",
      "        [0.0823, 0.0503],\n",
      "        [0.7997, 0.7625],\n",
      "        [0.3072, 0.1134],\n",
      "        [0.5853, 0.3785]])\n",
      "out.shape :  torch.Size([7, 3]) edge_attr:  torch.Size([7, 1]) x[col].shape:  torch.Size([7, 2])\n",
      "torch.Size([3, 3])\n"
     ]
    },
    {
     "data": {
      "text/plain": [
       "(tensor([[-0.1519, -0.3969],\n",
       "         [-0.1384, -0.3714],\n",
       "         [-0.1712, -0.5107],\n",
       "         [-0.1498, -0.4985],\n",
       "         [-0.1163, -0.4825],\n",
       "         [-0.1018, -0.5654],\n",
       "         [-0.1397, -0.5849],\n",
       "         [-0.1506, -0.5916],\n",
       "         [-0.1018, -0.5654],\n",
       "         [-0.1018, -0.5654]], grad_fn=<AddmmBackward>), tensor([[ 0.0497],\n",
       "         [-0.0121],\n",
       "         [ 0.0072],\n",
       "         [-0.0170],\n",
       "         [ 0.0406],\n",
       "         [-0.0662],\n",
       "         [-0.0637]], grad_fn=<AddmmBackward>), tensor([[ 0.0187,  0.2285],\n",
       "         [-0.0181,  0.3353],\n",
       "         [-0.0488,  0.4398]], grad_fn=<AddmmBackward>))"
      ]
     },
     "execution_count": 126,
     "metadata": {},
     "output_type": "execute_result"
    }
   ],
   "source": [
    "layer(x,edge_index,edge_attr,u,batch)"
   ]
  },
  {
   "cell_type": "code",
   "execution_count": 7,
   "metadata": {},
   "outputs": [
    {
     "data": {
      "text/plain": [
       "tensor([[0.6307, 0.8820],\n",
       "        [0.7498, 0.5209],\n",
       "        [0.4813, 0.4273],\n",
       "        [0.0594, 0.1129],\n",
       "        [0.2499, 0.0397],\n",
       "        [0.1566, 0.1587],\n",
       "        [0.1767, 0.1347],\n",
       "        [0.4546, 0.3925],\n",
       "        [0.0209, 0.0132],\n",
       "        [0.6159, 0.7637]])"
      ]
     },
     "execution_count": 7,
     "metadata": {},
     "output_type": "execute_result"
    }
   ],
   "source": [
    "# layer(x,edge_index,edge_attr,u,batch)\n",
    "arr = torch.rand(10,2)\n",
    "arr"
   ]
  },
  {
   "cell_type": "code",
   "execution_count": 15,
   "metadata": {},
   "outputs": [
    {
     "data": {
      "text/plain": [
       "(tensor([[0.7498, 0.8820],\n",
       "         [0.4813, 0.4273],\n",
       "         [0.2499, 0.1587],\n",
       "         [0.4546, 0.3925],\n",
       "         [0.6159, 0.7637],\n",
       "         [0.0000, 0.0000],\n",
       "         [0.0000, 0.0000],\n",
       "         [0.0000, 0.0000],\n",
       "         [0.0000, 0.0000],\n",
       "         [0.0000, 0.0000]]), tensor([[ 1,  0],\n",
       "         [ 2,  2],\n",
       "         [ 4,  5],\n",
       "         [ 7,  7],\n",
       "         [ 9,  9],\n",
       "         [-1, -1],\n",
       "         [-1, -1],\n",
       "         [-1, -1],\n",
       "         [-1, -1],\n",
       "         [-1, -1]]))"
      ]
     },
     "execution_count": 15,
     "metadata": {},
     "output_type": "execute_result"
    }
   ],
   "source": [
    "scatter_max(arr,torch.LongTensor([0,0,1,1,2,2,3,3,4,4]),dim = 0,dim_size = 10)"
   ]
  },
  {
   "cell_type": "code",
   "execution_count": 41,
   "metadata": {},
   "outputs": [
    {
     "name": "stdout",
     "output_type": "stream",
     "text": [
      "torch.Size([128, 30])\n"
     ]
    }
   ],
   "source": [
    "\n",
    "m = nn.Linear(20, 30)\n",
    "input = torch.autograd.Variable(torch.randn(128, 20))\n",
    "output = m(input)\n",
    "print(output.size())"
   ]
  },
  {
   "cell_type": "code",
   "execution_count": 128,
   "metadata": {},
   "outputs": [],
   "source": [
    "t = torch.Tensor([[1,2],[3,4],[5,6],[7,8]]).view(2,2,2)"
   ]
  },
  {
   "cell_type": "code",
   "execution_count": 150,
   "metadata": {},
   "outputs": [],
   "source": [
    "a = []"
   ]
  },
  {
   "cell_type": "code",
   "execution_count": 151,
   "metadata": {},
   "outputs": [],
   "source": [
    "a.append(torch.Tensor([[1,2]]));a.append(torch.Tensor([[3,4]]))"
   ]
  },
  {
   "cell_type": "code",
   "execution_count": 164,
   "metadata": {},
   "outputs": [
    {
     "data": {
      "text/plain": [
       "tensor([[1., 2.]])"
      ]
     },
     "execution_count": 164,
     "metadata": {},
     "output_type": "execute_result"
    }
   ],
   "source": [
    "torch.cat([*a]).view(1,2,2)[:,0,:]"
   ]
  },
  {
   "cell_type": "code",
   "execution_count": 169,
   "metadata": {},
   "outputs": [],
   "source": [
    "arr = torch.zeros((2,3))"
   ]
  },
  {
   "cell_type": "code",
   "execution_count": 171,
   "metadata": {},
   "outputs": [
    {
     "data": {
      "text/plain": [
       "tensor([[1.0000, 0.8820],\n",
       "        [0.7498, 0.5209],\n",
       "        [0.4813, 0.4273],\n",
       "        [0.0594, 0.1129],\n",
       "        [0.2499, 0.0397],\n",
       "        [0.1566, 0.1587],\n",
       "        [0.1767, 0.1347],\n",
       "        [0.4546, 0.3925],\n",
       "        [0.0209, 0.0132],\n",
       "        [0.6159, 0.7637]])"
      ]
     },
     "execution_count": 171,
     "metadata": {},
     "output_type": "execute_result"
    }
   ],
   "source": [
    "edge_index = torch.LongTensor([src,dist])"
   ]
  },
  {
   "cell_type": "code",
   "execution_count": 191,
   "metadata": {},
   "outputs": [
    {
     "name": "stdout",
     "output_type": "stream",
     "text": [
      "torch.Size([3, 1])\n"
     ]
    },
    {
     "data": {
      "text/plain": [
       "torch.Size([30, 1])"
      ]
     },
     "execution_count": 191,
     "metadata": {},
     "output_type": "execute_result"
    }
   ],
   "source": [
    "x = torch.Tensor([[1], [2], [3]])\n",
    "print(x.size())\n",
    "torch.Size([3, 1])\n",
    "x.expand(10,3,1).reshape(-1,1).shape"
   ]
  },
  {
   "cell_type": "code",
   "execution_count": 204,
   "metadata": {},
   "outputs": [],
   "source": [
    "batch = torch.LongTensor([0 for i in range(10)]).cuda(0)"
   ]
  },
  {
   "cell_type": "code",
   "execution_count": 205,
   "metadata": {},
   "outputs": [
    {
     "data": {
      "text/plain": [
       "tensor([1, 1, 1, 1, 1, 1, 1, 1, 1, 1], device='cuda:0')"
      ]
     },
     "execution_count": 205,
     "metadata": {},
     "output_type": "execute_result"
    }
   ],
   "source": [
    "batch + 1"
   ]
  }
 ],
 "metadata": {
  "kernelspec": {
   "display_name": "Python 3",
   "language": "python",
   "name": "python3"
  },
  "language_info": {
   "codemirror_mode": {
    "name": "ipython",
    "version": 3
   },
   "file_extension": ".py",
   "mimetype": "text/x-python",
   "name": "python",
   "nbconvert_exporter": "python",
   "pygments_lexer": "ipython3",
   "version": "3.7.3"
  }
 },
 "nbformat": 4,
 "nbformat_minor": 2
}
