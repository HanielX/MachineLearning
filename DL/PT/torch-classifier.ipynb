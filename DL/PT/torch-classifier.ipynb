{
 "cells": [
  {
   "cell_type": "code",
   "execution_count": 3,
   "metadata": {},
   "outputs": [],
   "source": [
    "import numpy as np\n",
    "import matplotlib.pyplot as plt\n",
    "import torch.nn.functional as F\n",
    "import torch\n",
    "import matplotlib.pyplot as plt\n",
    "n_data = torch.ones(100,2)\n",
    "\n",
    "x0 = torch.normal(2 * n_data, 1)\n",
    "y0 = torch.zeros(100)\n",
    "x1 = torch.normal(-2 * n_data, 1)\n",
    "## 每一个采样的均值和方差, mean 和 std的大小不一定相同\n",
    "\n",
    "y1 = torch.ones(100)"
   ]
  },
  {
   "cell_type": "code",
   "execution_count": 7,
   "metadata": {},
   "outputs": [],
   "source": [
    "# @Time : 2019/4/29 3:11 PM \n",
    "# @Author : Kaishun Zhang \n",
    "# @File : classifier.py \n",
    "# @Function:\n",
    "\n",
    "x = torch.cat((x0,x1),0).type(torch.FloatTensor)\n",
    "y = torch.cat((y0,y1),).type(torch.LongTensor)\n",
    "\n",
    "class Net(torch.nn.Module):\n",
    "    def __init__(self,n_feature,n_hidden,n_output):\n",
    "        super(Net, self).__init__()\n",
    "        self.hidden = torch.nn.Linear(n_feature,n_hidden)\n",
    "        self.predict = torch.nn.Linear(n_hidden,n_output)\n",
    "    def forward(self, x):\n",
    "        x = F.relu(self.hidden(x))\n",
    "        return self.predict(x)\n",
    "\n",
    "net = Net(2,100,2)\n",
    "optimizer = torch.optim.SGD(net.parameters(),lr = 0.02)\n",
    "loss_func = torch.nn.CrossEntropyLoss()\n",
    "\n",
    "for t in range(100):\n",
    "    out = net(x)\n",
    "    loss = loss_func(out, y)\n",
    "    optimizer.zero_grad()\n",
    "    loss.backward()\n",
    "    optimizer.step()\n",
    "\n",
    "    if t % 10 == 0:\n",
    "        plt.cla()\n",
    "        prediction = torch.max(F.softmax(out), 1)[1]\n",
    "        ## 返回的最大值，还有对应最大的所在的坐标\n",
    "        pred_y = prediction.data.numpy().squeeze()\n",
    "        target_y = y.data.numpy()\n",
    "        plt.scatter(x.data.numpy()[:,0],x.data.numpy()[:,1],c = pred_y, s= 100,lw = 0,cmap = 'RdYlGn')\n",
    "        accuracy = sum(pred_y == target_y) / 200.  # 预测中有多少和真实值一样\n",
    "        plt.text(1.5, -4, 'Accuracy=%.2f' % accuracy, fontdict = {'size': 20, 'color': 'red'})\n",
    "        plt.pause(0.1)"
   ]
  },
  {
   "cell_type": "code",
   "execution_count": null,
   "metadata": {},
   "outputs": [],
   "source": []
  }
 ],
 "metadata": {
  "kernelspec": {
   "display_name": "Python 3",
   "language": "python",
   "name": "python3"
  },
  "language_info": {
   "codemirror_mode": {
    "name": "ipython",
    "version": 3
   },
   "file_extension": ".py",
   "mimetype": "text/x-python",
   "name": "python",
   "nbconvert_exporter": "python",
   "pygments_lexer": "ipython3",
   "version": "3.5.2rc1"
  }
 },
 "nbformat": 4,
 "nbformat_minor": 1
}
