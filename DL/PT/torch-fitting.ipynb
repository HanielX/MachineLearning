{
 "cells": [
  {
   "cell_type": "code",
   "execution_count": 2,
   "metadata": {},
   "outputs": [
    {
     "data": {
      "image/png": "[encoded data removed]",
      "text/plain": [
       "<Figure size 432x288 with 1 Axes>"
      ]
     },
     "metadata": {},
     "output_type": "display_data"
    }
   ],
   "source": [
    "import torch\n",
    "import matplotlib.pyplot as plt\n",
    "import torch.nn.functional as F\n",
    "x = torch.unsqueeze(torch.linspace(-1,1,100),dim = 1)\n",
    "## 添加一个维度\n",
    "y = x.pow(2) + 0.2 * torch.rand(x.size())\n",
    "plt.scatter(x.data.numpy(),y.data.numpy())\n",
    "plt.show()"
   ]
  },
  {
   "cell_type": "markdown",
   "metadata": {},
   "source": [
    "- 定义网络结构"
   ]
  },
  {
   "cell_type": "code",
   "execution_count": 4,
   "metadata": {},
   "outputs": [],
   "source": [
    "class Net(torch.nn.Module):\n",
    "    def __init__(self,n_feature,n_hidden,n_output):\n",
    "        super(Net, self).__init__()\n",
    "        self.hidden = torch.nn.Linear(n_feature,n_hidden,bias = False)\n",
    "        self.predict = torch.nn.Linear(n_hidden,n_output,bias = False)\n",
    "    def forward(self, x):\n",
    "        x = F.relu(self.hidden(x))\n",
    "        return self.predict(x)"
   ]
  },
  {
   "cell_type": "code",
   "execution_count": 6,
   "metadata": {},
   "outputs": [
    {
     "name": "stdout",
     "output_type": "stream",
     "text": [
      "Net(\n",
      "  (hidden): Linear(in_features=1, out_features=100, bias=False)\n",
      "  (predict): Linear(in_features=100, out_features=1, bias=False)\n",
      ")\n"
     ]
    }
   ],
   "source": [
    "net = Net(1,100,1)\n",
    "print(net)"
   ]
  },
  {
   "cell_type": "code",
   "execution_count": 11,
   "metadata": {},
   "outputs": [],
   "source": [
    "net = Net(n_feature = 1,n_hidden = 100,n_output = 1)\n",
    "optimizer = torch.optim.Adam(net.parameters(), lr = 0.001)\n",
    "loss_func = torch.nn.MSELoss()\n",
    "\n",
    "loss_list = []\n",
    "for t in range(200):\n",
    "    '''\n",
    "        清空梯度\n",
    "        计算梯度\n",
    "        更新参数\n",
    "    '''\n",
    "    prediction = net(x)\n",
    "    loss = loss_func(prediction, y)\n",
    "    loss_list.append(loss)\n",
    "    optimizer.zero_grad()\n",
    "    loss.backward()\n",
    "    optimizer.step() # 将参数更新值施加到net的parameters上面\n",
    "\n",
    "    if t % 4 == 0:\n",
    "        plt.cla() # 清空画布\n",
    "        plt.scatter(x.data.numpy(),y.data.numpy())\n",
    "        plt.plot(x.data.numpy(), prediction.data.numpy(),'r-',lw = 5)\n",
    "        plt.text(0.5,0,'loss = %.4f' % loss.data.numpy(),fontdict ={'size':20,'color':'red'})\n",
    "        plt.pause(0.1)\n",
    "\n",
    "# plt.plot(range(len(loss_list)),loss_list)\n",
    "# plt.show()\n",
    "# plt.ioff()\n",
    "# plt.show()"
   ]
  },
  {
   "cell_type": "code",
   "execution_count": null,
   "metadata": {},
   "outputs": [],
   "source": []
  }
 ],
 "metadata": {
  "kernelspec": {
   "display_name": "Python 3",
   "language": "python",
   "name": "python3"
  },
  "language_info": {
   "codemirror_mode": {
    "name": "ipython",
    "version": 3
   },
   "file_extension": ".py",
   "mimetype": "text/x-python",
   "name": "python",
   "nbconvert_exporter": "python",
   "pygments_lexer": "ipython3",
   "version": "3.5.2rc1"
  }
 },
 "nbformat": 4,
 "nbformat_minor": 1
}
