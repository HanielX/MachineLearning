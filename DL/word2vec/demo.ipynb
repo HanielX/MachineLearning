{
 "cells": [
  {
   "cell_type": "code",
   "execution_count": 1,
   "metadata": {},
   "outputs": [],
   "source": [
    "import tensorflow as tf\n",
    "import string"
   ]
  },
  {
   "cell_type": "code",
   "execution_count": 2,
   "metadata": {},
   "outputs": [],
   "source": [
    "### 学习26个字母的向量表示\n",
    "X = Y = tf.constant(list(range(26)),dtype = tf.int32)"
   ]
  },
  {
   "cell_type": "code",
   "execution_count": 3,
   "metadata": {},
   "outputs": [],
   "source": [
    "iterator = 10000\n",
    "hidden_size = 10"
   ]
  },
  {
   "cell_type": "code",
   "execution_count": 7,
   "metadata": {},
   "outputs": [],
   "source": [
    "X_in = tf.placeholder(tf.int32,shape = [1])\n",
    "W1 = tf.Variable(tf.random_normal((26,hidden_size),stddev = 1))\n",
    "W2 = tf.Variable(tf.random_normal((hidden_size,26),stddev = 1))"
   ]
  },
  {
   "cell_type": "code",
   "execution_count": 8,
   "metadata": {},
   "outputs": [],
   "source": [
    "# X = tf.one_hot(X, 26, dtype = tf.int32)\n",
    "Y = tf.one_hot(Y, 26, dtype = tf.int32)"
   ]
  },
  {
   "cell_type": "code",
   "execution_count": 9,
   "metadata": {},
   "outputs": [],
   "source": [
    "lookup = tf.nn.embedding_lookup(W1,X_in)\n",
    "y = tf.matmul(lookup,W2)\n",
    "label = tf.one_hot(X_in, 26)\n",
    "loss = tf.nn.softmax_cross_entropy_with_logits(logits = y, labels = label)\n",
    "op = tf.train.AdamOptimizer(0.001).minimize(loss)"
   ]
  },
  {
   "cell_type": "code",
   "execution_count": 10,
   "metadata": {},
   "outputs": [],
   "source": [
    "loss_list = []\n",
    "with tf.Session() as sess:\n",
    "    tf.global_variables_initializer().run()\n",
    "    for i in range(iterator):\n",
    "        feed_x = i % 26\n",
    "        _,r = sess.run([op,loss],feed_dict = {X_in : [feed_x]})\n",
    "        loss_list.append(r)"
   ]
  },
  {
   "cell_type": "code",
   "execution_count": 12,
   "metadata": {},
   "outputs": [
    {
     "data": {
      "text/plain": [
       "[<matplotlib.lines.Line2D at 0x121256d68>]"
      ]
     },
     "execution_count": 12,
     "metadata": {},
     "output_type": "execute_result"
    },
    {
     "data": {
      "image/png": "[encoded data removed]",
      "text/plain": [
       "<Figure size 432x288 with 1 Axes>"
      ]
     },
     "metadata": {},
     "output_type": "display_data"
    }
   ],
   "source": [
    "import matplotlib.pyplot as plt\n",
    "plt.plot(range(len(loss_list)),loss_list)"
   ]
  },
  {
   "cell_type": "code",
   "execution_count": 13,
   "metadata": {},
   "outputs": [],
   "source": [
    "import numpy as np"
   ]
  },
  {
   "cell_type": "code",
   "execution_count": 14,
   "metadata": {},
   "outputs": [],
   "source": [
    "### 使用CBOW, 用周围词预测当前词来学习词向量，使用该词左边的一个和右边的一个\n",
    "X_in_c = tf.placeholder(tf.int32,shape = [1,2])\n",
    "y_out_c = tf.placeholder(tf.int32,shape = [1])"
   ]
  },
  {
   "cell_type": "code",
   "execution_count": 15,
   "metadata": {},
   "outputs": [],
   "source": [
    "W1_c = tf.Variable(tf.random_normal((26,hidden_size),stddev = 1))\n",
    "W2_c = tf.Variable(tf.random_normal((hidden_size,26),stddev = 1))"
   ]
  },
  {
   "cell_type": "code",
   "execution_count": 16,
   "metadata": {},
   "outputs": [],
   "source": [
    "lookup_c = tf.nn.embedding_lookup(W1_c,X_in_c)\n",
    "lookup_c = tf.reduce_mean(lookup_c,1) # 在那个维度进行求平均处理\n",
    "y = tf.matmul(lookup_c,W2_c)\n",
    "label = tf.one_hot(y_out_c, 26)\n",
    "loss = tf.nn.softmax_cross_entropy_with_logits(logits = y, labels = label)\n",
    "op = tf.train.AdamOptimizer(0.001).minimize(loss)"
   ]
  },
  {
   "cell_type": "code",
   "execution_count": 17,
   "metadata": {},
   "outputs": [],
   "source": [
    "loss_list = []\n",
    "with tf.Session() as sess:\n",
    "    tf.global_variables_initializer().run()\n",
    "    for i in range(iterator):\n",
    "        feed_x = i % 26\n",
    "        if feed_x == 0 or feed_x == 25:\n",
    "            continue\n",
    "        x_in_tmp = np.array([feed_x - 1,feed_x + 1]).reshape(1,2)\n",
    "        _,r = sess.run([op,loss],feed_dict = {X_in_c :x_in_tmp ,y_out_c : [feed_x]})\n",
    "        loss_list.append(r)\n",
    "        "
   ]
  },
  {
   "cell_type": "code",
   "execution_count": 18,
   "metadata": {},
   "outputs": [
    {
     "data": {
      "text/plain": [
       "[<matplotlib.lines.Line2D at 0x12038bfd0>]"
      ]
     },
     "execution_count": 18,
     "metadata": {},
     "output_type": "execute_result"
    },
    {
     "data": {
      "image/png": "[encoded data removed]",
      "text/plain": [
       "<Figure size 432x288 with 1 Axes>"
      ]
     },
     "metadata": {},
     "output_type": "display_data"
    }
   ],
   "source": [
    "plt.plot(range(len(loss_list)),loss_list)"
   ]
  },
  {
   "cell_type": "code",
   "execution_count": 19,
   "metadata": {},
   "outputs": [],
   "source": [
    "## 使用当前词来预测上下文的词 skip-gram\n",
    "X_in_s = tf.placeholder(tf.int32,shape = [1])\n",
    "y_out_s = tf.placeholder(tf.int32,shape = [1,2])"
   ]
  },
  {
   "cell_type": "code",
   "execution_count": 20,
   "metadata": {},
   "outputs": [],
   "source": [
    "W1_s = tf.Variable(tf.random_normal((26,hidden_size),stddev = 1))\n",
    "W2_s = tf.Variable(tf.random_normal((hidden_size,26),stddev = 1))"
   ]
  },
  {
   "cell_type": "code",
   "execution_count": 21,
   "metadata": {},
   "outputs": [],
   "source": [
    "lookup_s = tf.nn.embedding_lookup(W1_s,X_in_s)\n",
    "y = tf.matmul(lookup_s,W2_s)\n",
    "label = tf.one_hot(y_out_s, 26)\n",
    "loss = tf.nn.softmax_cross_entropy_with_logits(logits = y, labels = label[:,0,:]) + tf.nn.softmax_cross_entropy_with_logits(logits = y, labels = label[:,1,:])\n",
    "op = tf.train.AdamOptimizer(0.001).minimize(loss)\n"
   ]
  },
  {
   "cell_type": "code",
   "execution_count": 22,
   "metadata": {},
   "outputs": [],
   "source": [
    "loss_list = []\n",
    "with tf.Session() as sess:\n",
    "    tf.global_variables_initializer().run()\n",
    "    for i in range(iterator):\n",
    "        feed_x = i % 26\n",
    "        if feed_x == 0 or feed_x == 25:\n",
    "            continue\n",
    "        x_in_tmp = np.array([feed_x - 1,feed_x + 1]).reshape(1,2)\n",
    "        _, r = sess.run([op,loss],feed_dict = {X_in_s : [feed_x] , y_out_s :x_in_tmp})\n",
    "        loss_list.append(r)"
   ]
  },
  {
   "cell_type": "code",
   "execution_count": 23,
   "metadata": {},
   "outputs": [
    {
     "data": {
      "text/plain": [
       "[<matplotlib.lines.Line2D at 0x120331ba8>]"
      ]
     },
     "execution_count": 23,
     "metadata": {},
     "output_type": "execute_result"
    },
    {
     "data": {
      "image/png": "[encoded data removed]",
      "text/plain": [
       "<Figure size 432x288 with 1 Axes>"
      ]
     },
     "metadata": {},
     "output_type": "display_data"
    }
   ],
   "source": [
    "plt.plot(range(len(loss_list)),loss_list)"
   ]
  }
 ],
 "metadata": {
  "kernelspec": {
   "display_name": "Python 3",
   "language": "python",
   "name": "python3"
  },
  "language_info": {
   "codemirror_mode": {
    "name": "ipython",
    "version": 3
   },
   "file_extension": ".py",
   "mimetype": "text/x-python",
   "name": "python",
   "nbconvert_exporter": "python",
   "pygments_lexer": "ipython3",
   "version": "3.5.2rc1"
  }
 },
 "nbformat": 4,
 "nbformat_minor": 1
}
