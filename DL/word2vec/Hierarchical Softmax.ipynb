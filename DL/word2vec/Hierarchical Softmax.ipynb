{
 "cells": [
  {
   "cell_type": "code",
   "execution_count": 32,
   "metadata": {},
   "outputs": [],
   "source": [
    "import tensorflow as tf\n",
    "import string\n",
    "import numpy as np"
   ]
  },
  {
   "cell_type": "code",
   "execution_count": 33,
   "metadata": {},
   "outputs": [],
   "source": [
    "### 使用CBOW, 用周围词预测当前词来学习词向量，使用该词左边的一个和右边的一个,并使用h\n",
    "X_in_c = tf.placeholder(tf.int32,shape = [1,2])\n",
    "y_out_c = tf.placeholder(tf.int32)\n",
    "W1_c = tf.Variable(tf.random_normal((26,10),stddev = 1))"
   ]
  },
  {
   "cell_type": "code",
   "execution_count": 34,
   "metadata": {},
   "outputs": [],
   "source": [
    "lookup_c = tf.nn.embedding_lookup(W1_c,X_in_c)\n",
    "lookup_c = tf.reduce_mean(lookup_c,1) # 在那个维度进行求平均处理"
   ]
  },
  {
   "cell_type": "code",
   "execution_count": 35,
   "metadata": {},
   "outputs": [],
   "source": [
    "class Node:\n",
    "    def __init__(self,id,leaf_num, is_leaf):\n",
    "        self.id = id \n",
    "#         if not is_leaf:\n",
    "#             self.w = np.random.normal(size = (1,10))\n",
    "        self.leaf_num = leaf_num\n",
    "        self.is_leaf = is_leaf\n",
    "        self.bel = []\n",
    "        \n",
    "    def add(self,leaf):\n",
    "        self.bel.append(leaf)"
   ]
  },
  {
   "cell_type": "code",
   "execution_count": 36,
   "metadata": {},
   "outputs": [],
   "source": [
    "### CBOW的Hierarchical Softmax\n",
    "path = [[]for i in range(26)] ## 存放的是路径\n",
    "V = []\n",
    "for i in range(26):\n",
    "    V.append(Node(-1,i,True))\n",
    "id = 0\n",
    "while len(V) > 1:\n",
    "    V_tmp = []\n",
    "    for i in range(0,len(V),2):\n",
    "        if i + 1 == len(V):\n",
    "            break\n",
    "        node = Node(id,-1,False)\n",
    "        if V[i].is_leaf: ## 叶子节点\n",
    "            node.bel.append(V[i].leaf_num)\n",
    "            path[V[i].leaf_num].append(node.id)\n",
    "#             path[V[i].leaf_num].append(node)\n",
    "        if V[i + 1].is_leaf:\n",
    "            node.bel.append(V[i + 1].leaf_num)\n",
    "            path[V[i + 1].leaf_num].append(-node.id)\n",
    "#             path[V[i + 1].leaf_num].append(node)\n",
    "            \n",
    "        if not V[i].is_leaf:\n",
    "            for v in V[i].bel:\n",
    "                node.bel.append(v)\n",
    "                path[v].append(node.id)\n",
    "#                 path[v].append(node)\n",
    "        if not V[i + 1].is_leaf:\n",
    "            for v in V[i + 1].bel:\n",
    "                node.bel.append(v)\n",
    "                path[v].append(-node.id)\n",
    "#                 path[v].append(node)\n",
    "        V_tmp.append(node)\n",
    "        id += 1\n",
    "    if len(V) % 2 == 1:\n",
    "        V_tmp.append(V[len(V) - 1])\n",
    "    V = V_tmp"
   ]
  },
  {
   "cell_type": "code",
   "execution_count": 37,
   "metadata": {},
   "outputs": [],
   "source": [
    "W2_hs = tf.Variable(tf.random_normal((25,10),stddev = 1))\n",
    "path_normal = path[:-2]\n",
    "path_other = path[-2:]\n",
    "# path_normal,path_other"
   ]
  },
  {
   "cell_type": "code",
   "execution_count": 38,
   "metadata": {},
   "outputs": [],
   "source": [
    "path_normal = tf.convert_to_tensor(path_normal,tf.int32)\n",
    "path_other = tf.convert_to_tensor(path_other,tf.int32)\n",
    "constant = tf.constant(24)\n",
    "zero = tf.constant(0)\n",
    "five = tf.constant(5)\n",
    "three = tf.constant(3)\n"
   ]
  },
  {
   "cell_type": "code",
   "execution_count": 39,
   "metadata": {},
   "outputs": [],
   "source": [
    "def cond1(i,loss):\n",
    "    return i < five\n",
    "def body1(i,loss):\n",
    "    v = path_normal[y_out_c][i]\n",
    "    \n",
    "    def f5():\n",
    "        return -tf.nn.embedding_lookup(W2_hs,tf.subtract(zero,v))\n",
    "    def f6():\n",
    "        return tf.nn.embedding_lookup(W2_hs,v)\n",
    "    \n",
    "    lookup = tf.cond(tf.less(v,zero),f5,f6)\n",
    "    \n",
    "    loss = tf.add(loss,- tf.log(tf.sigmoid(tf.matmul(lookup_c,tf.reshape(lookup,[10 ,1])))))\n",
    "    return i + 1, loss\n",
    "\n",
    "def cond2(i,loss):\n",
    "    return i < three\n",
    "\n",
    "def body2(i,loss):\n",
    "    v = path_other[y_out_c - 24][i]\n",
    "    def f3():\n",
    "        return -tf.nn.embedding_lookup(W2_hs,tf.subtract(zero,v))\n",
    "    def f4():\n",
    "        return tf.nn.embedding_lookup(W2_hs,v)\n",
    "    \n",
    "    lookup = tf.cond(tf.less(v,zero),f3,f4)\n",
    "    loss = tf.add(loss,- tf.log(tf.sigmoid(tf.matmul(lookup_c,tf.reshape(lookup,[10 ,1])))))\n",
    "    return i + 1, loss "
   ]
  },
  {
   "cell_type": "code",
   "execution_count": 47,
   "metadata": {},
   "outputs": [],
   "source": [
    "def f1():\n",
    "    loss = tf.Variable(0,dtype = tf.float32)\n",
    "    loss = tf.reshape(loss,[1,1])\n",
    "    _,loss =  tf.while_loop(cond1,body1,(0,loss))\n",
    "    return loss\n",
    "\n",
    "def f2():\n",
    "    loss = tf.Variable(0,dtype = tf.float32)\n",
    "    loss = tf.reshape(loss,[1,1])\n",
    "    _,loss =  tf.while_loop(cond2,body2,(0,loss))\n",
    "    return loss\n",
    "\n",
    "r = tf.cond(tf.less(y_out_c , constant), f1, f2)\n",
    "\n",
    "op = tf.train.GradientDescentOptimizer(0.001).minimize(r)"
   ]
  },
  {
   "cell_type": "code",
   "execution_count": 54,
   "metadata": {},
   "outputs": [],
   "source": [
    "loss_list = []\n",
    "with tf.Session() as sess:\n",
    "    tf.global_variables_initializer().run()\n",
    "    for i in range(10000):\n",
    "        feed_x = i % 26\n",
    "        if feed_x == 0 or feed_x == 25:\n",
    "            continue\n",
    "        x_in_tmp = np.array([feed_x - 1,feed_x + 1]).reshape(1,2)\n",
    "        result,_ = sess.run([r,op],feed_dict = {X_in_c :x_in_tmp ,y_out_c : feed_x\n",
    "                                               })\n",
    "        loss_list.append(result[0][0])"
   ]
  },
  {
   "cell_type": "code",
   "execution_count": 55,
   "metadata": {},
   "outputs": [
    {
     "data": {
      "text/plain": [
       "[<matplotlib.lines.Line2D at 0x127b619b0>]"
      ]
     },
     "execution_count": 55,
     "metadata": {},
     "output_type": "execute_result"
    },
    {
     "data": {
      "image/png": "[encoded data removed]",
      "text/plain": [
       "<Figure size 432x288 with 1 Axes>"
      ]
     },
     "metadata": {},
     "output_type": "display_data"
    }
   ],
   "source": [
    "import matplotlib.pyplot as plt\n",
    "plt.plot(range(len(loss_list)),loss_list)"
   ]
  },
  {
   "cell_type": "code",
   "execution_count": null,
   "metadata": {
    "scrolled": false
   },
   "outputs": [],
   "source": []
  },
  {
   "cell_type": "code",
   "execution_count": null,
   "metadata": {},
   "outputs": [],
   "source": []
  }
 ],
 "metadata": {
  "kernelspec": {
   "display_name": "Python 3",
   "language": "python",
   "name": "python3"
  },
  "language_info": {
   "codemirror_mode": {
    "name": "ipython",
    "version": 3
   },
   "file_extension": ".py",
   "mimetype": "text/x-python",
   "name": "python",
   "nbconvert_exporter": "python",
   "pygments_lexer": "ipython3",
   "version": "3.5.2rc1"
  }
 },
 "nbformat": 4,
 "nbformat_minor": 2
}
