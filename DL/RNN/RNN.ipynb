{
 "cells": [
  {
   "cell_type": "code",
   "execution_count": 1,
   "metadata": {},
   "outputs": [],
   "source": [
    "# study website http://karpathy.github.io/2015/05/21/rnn-effectiveness/"
   ]
  },
  {
   "cell_type": "markdown",
   "metadata": {},
   "source": [
    "![种类](img/classifier.png)"
   ]
  },
  {
   "cell_type": "markdown",
   "metadata": {},
   "source": [
    "- 像图片分类 一对一\n",
    "- 像图像中物体识别 一对多\n",
    "- 像情感分析 多对一\n",
    "- 像翻译 多对多\n",
    "- 实时翻译 多对多"
   ]
  },
  {
   "cell_type": "markdown",
   "metadata": {},
   "source": [
    "![char](img/mini-char-example.png)"
   ]
  },
  {
   "cell_type": "markdown",
   "metadata": {},
   "source": [
    " $$\\begin{split}h_{t} &=tanh(W_{hx}x+W_{hh}h_{t-1}) \\\\ y &= softmax(W_{yh}h)\\end{split}$$\n",
    " - 定义好损失函数，就可以让下一个字符对应的位置尽可能地大，这样子在预测的时候就可以去向量中最大的值的索引做为待预测值的索引"
   ]
  },
  {
   "cell_type": "markdown",
   "metadata": {},
   "source": [
    "## 交叉损失函数\n",
    "$$ J = - \\sum_{c=1}^{M}y_{c}log(p_{c})$$\n",
    "- M——类别的数量；\n",
    "- y——指示变量（0或1）,如果该类别和样本的类别相同就是1，否则是0；\n",
    "- p——对于观测样本属于类别c的预测概率。"
   ]
  },
  {
   "cell_type": "markdown",
   "metadata": {},
   "source": [
    "### [DL 最全的优化方法](https://zhuanlan.zhihu.com/p/22252270)\n",
    "\n",
    "![adagrad](img/adagrad.jpg)\n",
    "- 采用累积平方梯度\n",
    "- 优点是使得更新的更加平缓，更新速度更快\n",
    "- 缺点是由于是累积平方梯度，导致学习率为0"
   ]
  },
  {
   "cell_type": "markdown",
   "metadata": {},
   "source": [
    "### mnist_实验, numpy"
   ]
  },
  {
   "cell_type": "code",
   "execution_count": 128,
   "metadata": {},
   "outputs": [],
   "source": [
    "#### 定义一些参数\n",
    "import numpy as np\n",
    "learning_rate = 1e-4\n",
    "batch_size = 2000\n",
    "\n",
    "\n",
    "# unite_size = \n",
    "from tensorflow.examples.tutorials.mnist import input_data"
   ]
  },
  {
   "cell_type": "code",
   "execution_count": 129,
   "metadata": {},
   "outputs": [
    {
     "name": "stdout",
     "output_type": "stream",
     "text": [
      "Extracting MNIST_DATA/train-images-idx3-ubyte.gz\n",
      "Extracting MNIST_DATA/train-labels-idx1-ubyte.gz\n",
      "Extracting MNIST_DATA/t10k-images-idx3-ubyte.gz\n",
      "Extracting MNIST_DATA/t10k-labels-idx1-ubyte.gz\n"
     ]
    }
   ],
   "source": [
    "mn = input_data.read_data_sets('MNIST_DATA',one_hot = True)"
   ]
  },
  {
   "cell_type": "code",
   "execution_count": 130,
   "metadata": {},
   "outputs": [],
   "source": [
    "num_iterator = 3000;\n",
    "time_step = 28\n",
    "hidden_size = 400\n",
    "feature_size = 28\n",
    "import matplotlib.pyplot as plts"
   ]
  },
  {
   "cell_type": "code",
   "execution_count": 131,
   "metadata": {},
   "outputs": [],
   "source": [
    "# def tanh(X):\n",
    "#     Y = (np.exp(X) - np.exp(-X)) / (np.exp(X) + np.exp(-X))\n",
    "#     return Y"
   ]
  },
  {
   "cell_type": "markdown",
   "metadata": {},
   "source": [
    "![tanh_overflow](img/tanh_overflow.png)"
   ]
  },
  {
   "cell_type": "code",
   "execution_count": 132,
   "metadata": {},
   "outputs": [],
   "source": [
    "# def sigmod(X): ### nice\n",
    "#     return .5 * (1 + np.tanh(.5 * X))"
   ]
  },
  {
   "cell_type": "code",
   "execution_count": 133,
   "metadata": {},
   "outputs": [],
   "source": [
    "def softmax(X):\n",
    "    sum_ = np.sum(np.exp(X), axis = 0)\n",
    "    y = np.exp(X) / sum_\n",
    "    return y"
   ]
  },
  {
   "cell_type": "code",
   "execution_count": 134,
   "metadata": {},
   "outputs": [],
   "source": [
    "# x = np.arange(-10,10,0.1)\n",
    "# x = np.array([[1,2,3],[2,3,4]])\n",
    "# y = softmax(x)\n",
    "# np.sum(y,axis = 0)"
   ]
  },
  {
   "cell_type": "code",
   "execution_count": 135,
   "metadata": {},
   "outputs": [],
   "source": [
    "### 这里参数矩阵的大小如何定义？每一个点为特征进行的加权\n",
    "### [hidden_size,feature_size]\n",
    "# Wx = np.random.standard_normal([hidden_size,feature_size])\n",
    "# ### [hidden_size,hidden_size]\n",
    "# Wh = np.random.standard_normal([hidden_size,hidden_size])\n",
    "# bh = np.zeros([hidden_size,1])\n",
    "# ### [class_size,hidden_size]\n",
    "# Wy = np.random.standard_normal([10,hidden_size])\n",
    "# by = np.zeros([10,1])\n",
    "def init_params():\n",
    "    params = {}\n",
    "    params['h0'] = np.zeros([hidden_size,batch_size])\n",
    "    for i in range(time_step): ## 每一步拿出所有数据的第一行来进行训练\n",
    "        params['Wx' + str(i + 1)] = np.random.standard_normal([hidden_size,feature_size])\n",
    "        params['Wh' + str(i + 1)] = np.random.standard_normal([hidden_size,hidden_size])\n",
    "        params['bh' + str(i + 1)] = np.zeros([hidden_size,1])\n",
    "        params['mWx' + str(i + 1)] = np.zeros_like(params['Wx' + str(i + 1)])\n",
    "        params['mWh' + str(i + 1)] = np.zeros_like(params['Wh' + str(i + 1)])\n",
    "        params['mbh' + str(i + 1)] = np.zeros_like(params['bh' + str(i + 1)])\n",
    "        \n",
    "    params['Wy'] = np.random.standard_normal([10,hidden_size])\n",
    "    params['by'] = np.zeros([10,1])\n",
    "    params['mWy'] = np.zeros_like(params['Wy'])\n",
    "    params['mby'] = np.zeros_like(params['by'])\n",
    "    \n",
    "    return params\n",
    "\n",
    "def forward(X,label,params):\n",
    "    X = X.reshape(-1,time_step,feature_size)\n",
    "    \n",
    "    for i in range(time_step): ## 每一步拿出所有数据的第一行来进行训练\n",
    "        x = X[:,i,:]\n",
    "        params['h' + str(i + 1)] = np.tanh(np.dot(params['Wh' + str(i + 1)], params['h'+ str(i)]) + params['bh'+ str(i + 1)] + np.dot(params['Wx' + str(i + 1)],x.transpose()))\n",
    "        \n",
    "    y = softmax(np.dot(params['Wy'] ,params['h' + str(time_step)]) + params['by'])\n",
    "    \n",
    "    y_pred = y\n",
    "\n",
    "    index = label.argmax(axis = 1)\n",
    "    y_pred[index,range(y_pred.shape[1])] -= 1.0\n",
    "    y_pred /= batch_size \n",
    "    \n",
    "    dwy = np.dot(y_pred, params['h' + str(time_step)].transpose())\n",
    "    dby = np.sum(y_pred, axis = 1,keepdims = True)\n",
    "    dht = np.dot(params['Wy'].transpose(), y_pred)\n",
    "    \n",
    "    params['mWy'] += dwy * dwy\n",
    "    params['mby'] += dby * dby\n",
    "    \n",
    "    params['Wy'] += -learning_rate * dwy / np.sqrt(params['mWy']  + 1e-8)\n",
    "    params['by'] += -learning_rate * dby / np.sqrt(params['mby']  + 1e-8)\n",
    "    \n",
    "    \n",
    "    X = X.reshape(-1,time_step,feature_size)\n",
    "    for i in reversed(range(time_step)):\n",
    "        x = X[:,i,:]\n",
    "        dht = (1 - (params['h' + str(i + 1)] ** 2))  * dht ## be careful \n",
    "#         print(dht)\n",
    "        dwh = np.dot(dht, params['h' + str(i)].transpose())\n",
    "        dbh = np.sum(dht, axis = 1, keepdims = True)\n",
    "        dwx = np.dot(dht,x)\n",
    "        \n",
    "        dht = np.dot(params['Wh' + str(i + 1)].transpose(),dht)\n",
    "        \n",
    "        params['mWx' + str(i + 1)] += dwx * dwx\n",
    "        params['mWh' + str(i + 1)] += dwh * dwh\n",
    "        params['mbh' + str(i + 1)] += dbh * dbh\n",
    "        \n",
    "        params['Wx' + str(i + 1)] = -learning_rate * dwx / np.sqrt(params['mWx' + str(i + 1)]  + 1e-8)\n",
    "        params['Wh' + str(i + 1)] = -learning_rate * dwh / np.sqrt(params['mWh' + str(i + 1)]  + 1e-8)\n",
    "        params['bh' + str(i + 1)] = -learning_rate * dbh / np.sqrt(params['mbh' + str(i + 1)]  + 1e-8)\n",
    "        \n",
    "    return params\n",
    "def predict(X, params):\n",
    "    X = X.reshape(-1,time_step,feature_size)\n",
    "    for i in range(time_step): ## 每一步拿出所有数据的第一行来进行训练\n",
    "        x = X[:,i,:]\n",
    "        params['h' + str(i + 1)] = np.tanh(np.dot(params['Wh' + str(i + 1)], params['h'+ str(i)]) + params['bh' + str(i + 1)]  + np.dot(params['Wx' + str(i + 1)],x.transpose()))\n",
    "    y = softmax(np.dot(params['Wy'],params['h' + str(time_step)]) + params['by'])\n",
    "    return y"
   ]
  },
  {
   "cell_type": "code",
   "execution_count": 136,
   "metadata": {},
   "outputs": [],
   "source": [
    "loss_list = []\n",
    "params = init_params()\n",
    "for iterator in range(num_iterator):\n",
    "    train_data,train_label = mn.train.next_batch(batch_size) ### random\n",
    "    params = forward(train_data,train_label,params)\n",
    "    \n",
    "    pred_y = predict(train_data,params)\n",
    "    result = np.dot(train_label,pred_y)\n",
    "    result[result < 1e-8] = 1e-8\n",
    "    result[result >= 1] = 0.99999\n",
    "    loss = - np.trace(np.log(result))\n",
    "    loss_list.append(loss)"
   ]
  },
  {
   "cell_type": "code",
   "execution_count": 137,
   "metadata": {},
   "outputs": [],
   "source": [
    "import matplotlib.pyplot as plt"
   ]
  },
  {
   "cell_type": "code",
   "execution_count": 138,
   "metadata": {},
   "outputs": [],
   "source": [
    "# 使用SGD 会loss 函数会上下抖动。\n",
    "## 确实可以收敛，但是不是收敛到最小，所以还是有点问题"
   ]
  },
  {
   "cell_type": "code",
   "execution_count": 139,
   "metadata": {},
   "outputs": [
    {
     "data": {
      "text/plain": [
       "[<matplotlib.lines.Line2D at 0x12d8ee400>]"
      ]
     },
     "execution_count": 139,
     "metadata": {},
     "output_type": "execute_result"
    },
    {
     "data": {
      "image/png": "[encoded data removed]",
      "text/plain": [
       "<Figure size 432x288 with 1 Axes>"
      ]
     },
     "metadata": {},
     "output_type": "display_data"
    }
   ],
   "source": [
    "plt.plot(range(len(loss_list)), loss_list)"
   ]
  },
  {
   "cell_type": "code",
   "execution_count": 140,
   "metadata": {},
   "outputs": [
    {
     "data": {
      "text/plain": [
       "4602.379352866155"
      ]
     },
     "execution_count": 140,
     "metadata": {},
     "output_type": "execute_result"
    }
   ],
   "source": [
    "np.min(loss_list)"
   ]
  },
  {
   "cell_type": "code",
   "execution_count": 141,
   "metadata": {},
   "outputs": [],
   "source": [
    "test_x,test_y = mn.test.next_batch(batch_size)\n",
    "y = predict(test_x,params)"
   ]
  },
  {
   "cell_type": "code",
   "execution_count": 142,
   "metadata": {},
   "outputs": [
    {
     "data": {
      "text/plain": [
       "(10, 2000)"
      ]
     },
     "execution_count": 142,
     "metadata": {},
     "output_type": "execute_result"
    }
   ],
   "source": [
    "y.shape"
   ]
  },
  {
   "cell_type": "code",
   "execution_count": 143,
   "metadata": {},
   "outputs": [
    {
     "data": {
      "text/plain": [
       "0.1195"
      ]
     },
     "execution_count": 143,
     "metadata": {},
     "output_type": "execute_result"
    }
   ],
   "source": [
    "np.mean(np.argmax(y, axis = 0) == np.argmax(test_y,axis = 1))"
   ]
  }
 ],
 "metadata": {
  "kernelspec": {
   "display_name": "Python 3",
   "language": "python",
   "name": "python3"
  },
  "language_info": {
   "codemirror_mode": {
    "name": "ipython",
    "version": 3
   },
   "file_extension": ".py",
   "mimetype": "text/x-python",
   "name": "python",
   "nbconvert_exporter": "python",
   "pygments_lexer": "ipython3",
   "version": "3.5.2rc1"
  }
 },
 "nbformat": 4,
 "nbformat_minor": 1
}
