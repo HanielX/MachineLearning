{
 "cells": [
  {
   "cell_type": "code",
   "execution_count": 1,
   "metadata": {},
   "outputs": [],
   "source": [
    "# study website http://karpathy.github.io/2015/05/21/rnn-effectiveness/"
   ]
  },
  {
   "cell_type": "markdown",
   "metadata": {},
   "source": [
    "![种类](img/classifier.png)"
   ]
  },
  {
   "cell_type": "markdown",
   "metadata": {},
   "source": [
    "- 像图片分类 一对一\n",
    "- 像图像中物体识别 一对多\n",
    "- 像情感分析 多对一\n",
    "- 像翻译 多对多\n",
    "- 实时翻译 多对多"
   ]
  },
  {
   "cell_type": "markdown",
   "metadata": {},
   "source": [
    "![char](img/mini-char-example.png)"
   ]
  },
  {
   "cell_type": "markdown",
   "metadata": {},
   "source": [
    " $$\\begin{split}h_{t} &=tanh(W_{hx}x+W_{hh}h_{t-1}) \\\\ y &= softmax(W_{yh}h)\\end{split}$$\n",
    " - 定义好损失函数，就可以让下一个字符对应的位置尽可能地大，这样子在预测的时候就可以去向量中最大的值的索引做为待预测值的索引"
   ]
  },
  {
   "cell_type": "markdown",
   "metadata": {},
   "source": [
    "## 交叉损失函数\n",
    "$$ J = - \\sum_{c=1}^{M}y_{c}log(p_{c})$$\n",
    "- M——类别的数量；\n",
    "- y——指示变量（0或1）,如果该类别和样本的类别相同就是1，否则是0；\n",
    "- p——对于观测样本属于类别c的预测概率。"
   ]
  },
  {
   "cell_type": "markdown",
   "metadata": {},
   "source": [
    "### [DL 最全的优化方法](https://zhuanlan.zhihu.com/p/22252270)\n",
    "\n",
    "![adagrad](img/adagrad.jpg)\n",
    "- 采用累积平方梯度\n",
    "- 优点是使得更新的更加平缓，更新速度更快\n",
    "- 缺点是由于是累积平方梯度，导致学习率为0"
   ]
  },
  {
   "cell_type": "markdown",
   "metadata": {},
   "source": [
    "### mnist_实验, numpy"
   ]
  },
  {
   "cell_type": "code",
   "execution_count": 19,
   "metadata": {},
   "outputs": [],
   "source": [
    "#### 定义一些参数\n",
    "import numpy as np\n",
    "learning_rate = 1e-3\n",
    "batch_size = 1000\n",
    "from time import time\n",
    "from numpy.linalg import *\n",
    "# unite_size = \n",
    "from tensorflow.examples.tutorials.mnist import input_data"
   ]
  },
  {
   "cell_type": "code",
   "execution_count": 20,
   "metadata": {},
   "outputs": [
    {
     "name": "stdout",
     "output_type": "stream",
     "text": [
      "Extracting MNIST_DATA/train-images-idx3-ubyte.gz\n",
      "Extracting MNIST_DATA/train-labels-idx1-ubyte.gz\n",
      "Extracting MNIST_DATA/t10k-images-idx3-ubyte.gz\n",
      "Extracting MNIST_DATA/t10k-labels-idx1-ubyte.gz\n"
     ]
    }
   ],
   "source": [
    "mn = input_data.read_data_sets('MNIST_DATA',one_hot = True)"
   ]
  },
  {
   "cell_type": "code",
   "execution_count": 21,
   "metadata": {},
   "outputs": [],
   "source": [
    "num_iterator = 20000;\n",
    "time_step = 28\n",
    "hidden_size = 400\n",
    "feature_size = 28\n",
    "import matplotlib.pyplot as plts"
   ]
  },
  {
   "cell_type": "code",
   "execution_count": 22,
   "metadata": {},
   "outputs": [],
   "source": [
    "# def tanh(X):\n",
    "#     Y = (np.exp(X) - np.exp(-X)) / (np.exp(X) + np.exp(-X))\n",
    "#     return Y"
   ]
  },
  {
   "cell_type": "markdown",
   "metadata": {},
   "source": [
    "![tanh_overflow](img/tanh_overflow.png)"
   ]
  },
  {
   "cell_type": "code",
   "execution_count": 23,
   "metadata": {},
   "outputs": [],
   "source": [
    "# def sigmod(X): ### nice\n",
    "#     return .5 * (1 + np.tanh(.5 * X))"
   ]
  },
  {
   "cell_type": "code",
   "execution_count": 24,
   "metadata": {},
   "outputs": [],
   "source": [
    "def softmax(X):\n",
    "    sum_ = np.sum(np.exp(X), axis = 0)\n",
    "    y = np.exp(X) / sum_\n",
    "    return y"
   ]
  },
  {
   "cell_type": "markdown",
   "metadata": {},
   "source": [
    "![adam](img/adam.png)"
   ]
  },
  {
   "cell_type": "code",
   "execution_count": 30,
   "metadata": {},
   "outputs": [],
   "source": [
    "### 这里参数矩阵的大小如何定义？每一个点为特征进行的加权\n",
    "### [hidden_size,feature_size]\n",
    "# Wx = np.random.standard_normal([hidden_size,feature_size])\n",
    "# ### [hidden_size,hidden_size]\n",
    "# Wh = np.random.standard_normal([hidden_size,hidden_size])\n",
    "# bh = np.zeros([hidden_size,1])\n",
    "# ### [class_size,hidden_size]\n",
    "# Wy = np.random.standard_normal([10,hidden_size])\n",
    "# by = np.zeros([10,1])\n",
    "beta1 = 0.9\n",
    "beta2 = 0.999\n",
    "t = 0\n",
    "decay_step = 1000\n",
    "decay_rate = 0.96\n",
    "def init_params():\n",
    "    params = {}\n",
    "    params['h0'] = np.zeros([hidden_size,batch_size])\n",
    "    \n",
    "    params['Wx'] = np.random.standard_normal([hidden_size,feature_size])\n",
    "    params['Wh'] = np.random.standard_normal([hidden_size,hidden_size])\n",
    "    \n",
    "    params['bh'] = np.random.standard_normal([hidden_size,1])\n",
    "    \n",
    "    params['mWx_m'] = np.zeros_like(params['Wx'])\n",
    "    params['mWh_m'] = np.zeros_like(params['Wh'])\n",
    "    params['mbh_m'] = np.zeros_like(params['bh'])\n",
    "    \n",
    "    params['mWx_v'] = np.zeros_like(params['Wx'])\n",
    "    params['mWh_v'] = np.zeros_like(params['Wh'])\n",
    "    params['mbh_v'] = np.zeros_like(params['bh'])\n",
    "    \n",
    "    params['Wy'] = np.random.standard_normal([10,hidden_size])\n",
    "    \n",
    "    params['by'] = np.random.standard_normal([10,1])\n",
    "    \n",
    "    params['mWy_m'] = np.zeros_like(params['Wy'])\n",
    "    params['mWy_v'] = np.zeros_like(params['Wy'])\n",
    "    \n",
    "    params['mby_m'] = np.zeros_like(params['by'])\n",
    "    params['mby_v'] = np.zeros_like(params['by'])\n",
    "    return params\n",
    "\n",
    "def forward(X,label,params):\n",
    "    global t,beta1,beta2\n",
    "#     print(beta1, beta2)\n",
    "    t += 1\n",
    "    X = X.reshape(-1,time_step,feature_size)\n",
    "    \n",
    "    for i in range(time_step): ## 每一步拿出所有数据的第一行来进行训练\n",
    "        x = X[:,i,:]\n",
    "        params['h' + str(i + 1)] = np.tanh(np.dot(params['Wh'], params['h'+ str(i)]) + params['bh'] + np.dot(params['Wx'],x.transpose()))\n",
    "        \n",
    "    y = softmax(np.dot(params['Wy'] ,params['h' + str(time_step)]) + params['by'])\n",
    "    \n",
    "    y_pred = y\n",
    "\n",
    "    index = label.argmax(axis = 1)\n",
    "    y_pred[index,range(y_pred.shape[1])] -= 1\n",
    "    y_pred /= batch_size \n",
    "    \n",
    "    dwy = np.dot(y_pred, params['h' + str(time_step)].transpose())\n",
    "    dby = np.sum(y_pred, axis = 1,keepdims = True)\n",
    "    dht = np.dot(params['Wy'].transpose(), y_pred)\n",
    "    \n",
    "#     params['mWy'] += dwy * dwy\n",
    "#     params['mby'] += dby * dby\n",
    "    params['mWy_m'] = beta1 *  params['mWy_m'] + (1 - beta1) * dwy\n",
    "    params['mWy_v'] = beta2 * params['mWy_v'] + (1 - beta2) * dwy * dwy\n",
    "    mWy_m_tmp = params['mWy_m'] / (1 - np.power(beta1, t))\n",
    "    mWy_v_tmp =  params['mWy_v'] / (1 - np.power(beta2, t))\n",
    "    \n",
    "    params['mby_m'] = beta1 *  params['mby_m'] + (1 - beta1) * dby\n",
    "    params['mby_v'] = beta2 * params['mby_v'] + (1 - beta2) * dby * dby\n",
    "    mby_m_tmp = params['mby_m'] / (1 - np.power(beta1, t))\n",
    "    mby_v_tmp =  params['mby_v'] / (1 - np.power(beta2, t))\n",
    "    \n",
    "    params['Wy'] += -learning_rate * np.power(decay_rate, t / decay_step) * mWy_m_tmp / (np.sqrt(mWy_v_tmp) + 1e-8)\n",
    "    params['by'] += -learning_rate * np.power(decay_rate, t / decay_step) * mby_m_tmp / (np.sqrt(mby_v_tmp) + 1e-8)\n",
    "    \n",
    "    dwh_tmp = np.zeros_like(params['Wh'])\n",
    "    dbh_tmp = np.zeros_like(params['bh'])\n",
    "    dwx_tmp = np.zeros_like(params['Wx'])\n",
    "    \n",
    "    \n",
    "#     X = X.reshape(-1,time_step,feature_size)\n",
    "    ## 会出现梯度消失的问题\n",
    "    \n",
    "    ## 将对应的偏 ht/ 偏ht-1 等于1\n",
    "    \n",
    "    for i in reversed(range(time_step)):\n",
    "        x = X[:,i,:]\n",
    "        dt = np.dot(np.diag(1 - (params['h' + str(i + 1)] ** 2)), dht)\n",
    "        dt_t_1_h = np.dot(dt , params['h' + str(i)].transpose()) ## be careful \n",
    "        dt_t_1_x = np.dot(dt , x)\n",
    "        dt_t_1_b = np.sum(dt * dht, axis = 1, keepdims = True)\n",
    "\n",
    "        dwh_tmp += dt_t_1_h\n",
    "        dbh_tmp += dt_t_1_b\n",
    "        dwx_tmp += dt_t_1_x\n",
    "    ### 使用等于0的算法\n",
    "    \n",
    "#     dt = (1 - (params['h' + str(time_step)] ** 2)) * dht\n",
    "#     dt_t_1_h = np.dot(dt , params['h' + str(i)].transpose()) ## be careful \n",
    "#     dt_t_1_x = np.dot(dt , x)\n",
    "#     dt_t_1_b = np.sum(dt * dht, axis = 1, keepdims = True)\n",
    "\n",
    "    dt_t_1_h = dwh_tmp\n",
    "    dt_t_1_b = dbh_tmp\n",
    "    dt_t_1_x = dwx_tmp\n",
    "    \n",
    "    params['mWx_m'] = beta1 *  params['mWx_m'] + (1 - beta1) * dt_t_1_x\n",
    "    params['mWx_v'] = beta2 * params['mWx_v'] + (1 - beta2) * dt_t_1_x * dt_t_1_x\n",
    "    mWx_m_tmp = params['mWx_m'] / (1 - np.power(beta1, t))\n",
    "    mWx_v_tmp =  params['mWx_v'] / (1 - np.power(beta2, t))\n",
    "    \n",
    "    params['mWh_m'] = beta1 *  params['mWh_m'] + (1 - beta1) * dt_t_1_h\n",
    "    params['mWh_v'] = beta2 * params['mWh_v'] + (1 - beta2) * dt_t_1_h * dt_t_1_h\n",
    "    mWh_m_tmp = params['mWh_m'] / (1 - np.power(beta1, t))\n",
    "    mWh_v_tmp =  params['mWh_v'] / (1 - np.power(beta2, t))\n",
    "    \n",
    "    params['mbh_m'] = beta1 *  params['mbh_m'] + (1 - beta1) * dt_t_1_b\n",
    "    params['mbh_v'] = beta2 * params['mbh_v'] + (1 - beta2) * dt_t_1_b * dt_t_1_b\n",
    "    mbh_m_tmp = params['mbh_m'] / (1 - np.power(beta1, t))\n",
    "    mbh_v_tmp =  params['mbh_v'] / (1 - np.power(beta2, t))\n",
    "#     print('梯度:',norm(mWx_m_tmp / np.sqrt(mWx_v_tmp)), norm(mWh_m_tmp / np.sqrt(mWh_v_tmp))) \n",
    "    wx_cut = mWx_m_tmp / (np.sqrt(mWx_v_tmp) + 1e-8)\n",
    "    wh_cut = mWh_m_tmp / (np.sqrt(mWh_v_tmp) + 1e-8)\n",
    "    bh_cut = mbh_m_tmp / (np.sqrt(mbh_v_tmp) + 1e-8)\n",
    "    if norm(wx_cut) > 2:\n",
    "        wx_cut = 2 * wx_cut / norm(wx_cut)\n",
    "    if norm(wh_cut) > 2:\n",
    "        wh_cut = 2 * wh_cut / norm(wh_cut)\n",
    "    if norm(bh_cut) > 2:\n",
    "        bh_cut = 2 * bh_cut / norm(bh_cut)\n",
    "    \n",
    "    params['Wx'] = -learning_rate  * np.power(decay_rate, t / decay_step) * wx_cut\n",
    "    params['Wh'] = -learning_rate * np.power(decay_rate, t / decay_step) * wh_cut\n",
    "    params['bh'] = -learning_rate * np.power(decay_rate, t / decay_step) * bh_cut\n",
    "\n",
    "# #  adagrad 梯度\n",
    "#     params['mWx'] += dwx_tmp * dt_t_1_x\n",
    "#     params['mWh'] += dwh_tmp * dt_t_1_h\n",
    "#     params['mbh'] += dbh_tmp * dt_t_1_b\n",
    "#     params['Wx'] = -learning_rate * dwx_tmp / np.sqrt(params['mWx']  + 1e-8)\n",
    "#     params['Wh'] = -learning_rate * dwh_tmp / np.sqrt(params['mWh']  + 1e-8)\n",
    "#     params['bh'] = -learning_rate * dbh_tmp / np.sqrt(params['mbh']  + 1e-8)\n",
    "\n",
    "    return params\n",
    "def predict(X, params):\n",
    "    X = X.reshape(-1,time_step,feature_size)\n",
    "    for i in range(time_step): ## 每一步拿出所有数据的第一行来进行训练\n",
    "        x = X[:,i,:]\n",
    "        params['h' + str(i + 1)] = np.tanh(np.dot(params['Wh'], params['h'+ str(i)]) + params['bh']  + np.dot(params['Wx'],x.transpose()))\n",
    "    y = softmax(np.dot(params['Wy'],params['h' + str(time_step)]) + params['by'])\n",
    "    return y"
   ]
  },
  {
   "cell_type": "code",
   "execution_count": 35,
   "metadata": {
    "scrolled": false
   },
   "outputs": [],
   "source": [
    "loss_list = []\n",
    "params = init_params()\n",
    "start = time()\n",
    "train_data,train_label = mn.train.next_batch(batch_size) ### random\n",
    "for iterator in range(num_iterator):\n",
    "\n",
    "    params = forward(train_data,train_label,params)\n",
    "    pred_y = predict(train_data,params)\n",
    "    \n",
    "    result = np.dot(train_label,pred_y)\n",
    "    result[result < 1e-8] = 1e-8\n",
    "    result[result >= 1] = 0.99999\n",
    "    loss = - np.trace(np.log(result))\n",
    "#     if iterator % 20 == 0:\n",
    "#         print(loss/batch_size)\n",
    "    loss_list.append(loss/batch_size)\n",
    "print(time() - start)"
   ]
  },
  {
   "cell_type": "code",
   "execution_count": 246,
   "metadata": {},
   "outputs": [],
   "source": [
    "# pred_y = predict(train_data,params)"
   ]
  },
  {
   "cell_type": "code",
   "execution_count": 247,
   "metadata": {},
   "outputs": [
    {
     "data": {
      "text/plain": [
       "227.923778637185"
      ]
     },
     "execution_count": 247,
     "metadata": {},
     "output_type": "execute_result"
    }
   ],
   "source": [
    "# index = train_label.argmax(axis = 1)\n",
    "# -np.sum(np.log(pred_y[index,range(pred_y.shape[1])]))"
   ]
  },
  {
   "cell_type": "code",
   "execution_count": 32,
   "metadata": {},
   "outputs": [],
   "source": [
    "import matplotlib.pyplot as plt"
   ]
  },
  {
   "cell_type": "code",
   "execution_count": 33,
   "metadata": {},
   "outputs": [],
   "source": [
    "# 使用SGD 会loss 函数会上下抖动。\n",
    "## 确实可以收敛，但是不是收敛到最小，所以还是有点问题\n",
    "## 只是说这里逐渐趋于稳定，但是不逐渐减小"
   ]
  },
  {
   "cell_type": "code",
   "execution_count": 34,
   "metadata": {},
   "outputs": [
    {
     "data": {
      "image/png": "[encoded data removed]",
      "text/plain": [
       "<Figure size 432x288 with 1 Axes>"
      ]
     },
     "metadata": {},
     "output_type": "display_data"
    }
   ],
   "source": [
    "plt.plot(range(len(loss_list)), loss_list)\n",
    "plt.savefig('rnn.png')"
   ]
  },
  {
   "cell_type": "code",
   "execution_count": 120,
   "metadata": {},
   "outputs": [
    {
     "data": {
      "text/plain": [
       "2285.793159361234"
      ]
     },
     "execution_count": 120,
     "metadata": {},
     "output_type": "execute_result"
    }
   ],
   "source": [
    "np.min(loss_list)"
   ]
  },
  {
   "cell_type": "code",
   "execution_count": 121,
   "metadata": {},
   "outputs": [],
   "source": [
    "test_x,test_y = mn.test.next_batch(batch_size)\n",
    "y = predict(test_x,params)"
   ]
  },
  {
   "cell_type": "code",
   "execution_count": 122,
   "metadata": {},
   "outputs": [
    {
     "data": {
      "text/plain": [
       "(10, 1000)"
      ]
     },
     "execution_count": 122,
     "metadata": {},
     "output_type": "execute_result"
    }
   ],
   "source": [
    "y.shape"
   ]
  },
  {
   "cell_type": "code",
   "execution_count": 123,
   "metadata": {},
   "outputs": [
    {
     "data": {
      "text/plain": [
       "0.123"
      ]
     },
     "execution_count": 123,
     "metadata": {},
     "output_type": "execute_result"
    }
   ],
   "source": [
    "np.mean(np.argmax(y, axis = 0) == np.argmax(test_y,axis = 1))"
   ]
  },
  {
   "cell_type": "markdown",
   "metadata": {},
   "source": [
    "### 总结\n",
    "- 该$RNN$中涉及的求导公式主要有\n",
    "    - $tanh(x) = 1 - tanh^{2}(x)$\n",
    "    - $\\frac{\\partial WX}{\\partial W} = X^{T}, \\frac{\\partial WX}{\\partial X} = W^{T}$\n",
    "    - softmax 的求导。$S_{j} = \\frac{e_{j}}{\\sum_{i=0}^{n} e_{i}}$\n",
    "        - 当 $i!=j$时，$\\frac{\\partial S_{j}}{\\partial i} = -S_{i}S_{j}$\n",
    "        - 当 $i == j$时，$\\frac{\\partial S_{i}}{\\partial i} = S_{i} \\times (1 - S_{i})$\n",
    "- 果然自己手写RNN,还是会有很多的问题的，比如梯度消失，爆炸，函数的定义，我竟然想着在每一个时刻都用一个$Wx$和$Wh$来作为参数，这真的是愚蠢之极。\n",
    "- 关于梯度消失的问题是因为你逐渐求导的话，会出现$\\prod_{k = 0}^{t} H'(t) Wh$,因为$H'(t)$是小于等于1的，而$H'(t)$中的数值一般也是小于零的，所以随着时间的推移，该值会逐渐减小，所以会出现梯度消失的情况。\n",
    "- 虽然收敛了，但是为什么就只收敛了一部分？这还是一个问题！！"
   ]
  },
  {
   "cell_type": "markdown",
   "metadata": {},
   "source": [
    "### 速度实验验证\n",
    "- $$\\begin{array}{c|ccc} \n",
    "result(s) & local & Kaggle & google \\\\\n",
    "\\hline\n",
    "CPU & 110.7 & 305.9 & 415.2\n",
    "\\end{array}$$\n",
    "\n",
    "- $$\\begin{array}{c|ccc} \n",
    "result(s) & local(CPU) & Kaggle & google \\\\\n",
    "\\hline\n",
    "GPU &  91.7 & 38.7 & 66.93\n",
    "\\end{array}$$\n",
    "- 在相同的数据下进行的实验。"
   ]
  },
  {
   "cell_type": "code",
   "execution_count": 3,
   "metadata": {},
   "outputs": [],
   "source": [
    "import numpy as np\n",
    "arr = np.array([1,2,3])\n",
    "A = np.array([[1,2,3],[4,5,6],[7,8,9]])"
   ]
  },
  {
   "cell_type": "code",
   "execution_count": 8,
   "metadata": {},
   "outputs": [
    {
     "data": {
      "text/plain": [
       "array([[ 1,  4,  9],\n",
       "       [ 4, 10, 18],\n",
       "       [ 7, 16, 27]])"
      ]
     },
     "execution_count": 8,
     "metadata": {},
     "output_type": "execute_result"
    }
   ],
   "source": [
    "arr * A"
   ]
  },
  {
   "cell_type": "code",
   "execution_count": 5,
   "metadata": {
    "scrolled": true
   },
   "outputs": [
    {
     "data": {
      "text/plain": [
       "array([[ 1,  2,  3],\n",
       "       [ 8, 10, 12],\n",
       "       [21, 24, 27]])"
      ]
     },
     "execution_count": 5,
     "metadata": {},
     "output_type": "execute_result"
    }
   ],
   "source": [
    "np.dot(,A)"
   ]
  },
  {
   "cell_type": "code",
   "execution_count": 6,
   "metadata": {},
   "outputs": [
    {
     "data": {
      "text/plain": [
       "array([[1, 0, 0],\n",
       "       [0, 2, 0],\n",
       "       [0, 0, 3]])"
      ]
     },
     "execution_count": 6,
     "metadata": {},
     "output_type": "execute_result"
    }
   ],
   "source": [
    "np.diag(arr)"
   ]
  },
  {
   "cell_type": "code",
   "execution_count": 18,
   "metadata": {},
   "outputs": [
    {
     "ename": "AttributeError",
     "evalue": "module 'numpy' has no attribute 'norm'",
     "output_type": "error",
     "traceback": [
      "\u001b[0;31m---------------------------------------------------------------------------\u001b[0m",
      "\u001b[0;31mAttributeError\u001b[0m                            Traceback (most recent call last)",
      "\u001b[0;32m<ipython-input-18-c8e3f02cf9a8>\u001b[0m in \u001b[0;36m<module>\u001b[0;34m()\u001b[0m\n\u001b[0;32m----> 1\u001b[0;31m \u001b[0mnp\u001b[0m\u001b[0;34m.\u001b[0m\u001b[0mnorm\u001b[0m\u001b[0;34m(\u001b[0m\u001b[0;34m[\u001b[0m\u001b[0;36m1\u001b[0m\u001b[0;34m,\u001b[0m\u001b[0;36m2\u001b[0m\u001b[0;34m,\u001b[0m\u001b[0;36m3\u001b[0m\u001b[0;34m]\u001b[0m\u001b[0;34m)\u001b[0m\u001b[0;34m\u001b[0m\u001b[0m\n\u001b[0m",
      "\u001b[0;31mAttributeError\u001b[0m: module 'numpy' has no attribute 'norm'"
     ]
    }
   ],
   "source": [
    "np.norm([1,2,3])"
   ]
  },
  {
   "cell_type": "code",
   "execution_count": null,
   "metadata": {},
   "outputs": [],
   "source": []
  }
 ],
 "metadata": {
  "kernelspec": {
   "display_name": "Python 3",
   "language": "python",
   "name": "python3"
  },
  "language_info": {
   "codemirror_mode": {
    "name": "ipython",
    "version": 3
   },
   "file_extension": ".py",
   "mimetype": "text/x-python",
   "name": "python",
   "nbconvert_exporter": "python",
   "pygments_lexer": "ipython3",
   "version": "3.5.2rc1"
  }
 },
 "nbformat": 4,
 "nbformat_minor": 1
}
