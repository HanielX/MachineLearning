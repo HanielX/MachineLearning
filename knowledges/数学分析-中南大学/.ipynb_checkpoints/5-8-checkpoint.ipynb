{
 "cells": [
  {
   "cell_type": "markdown",
   "metadata": {
    "collapsed": true
   },
   "source": [
    "![差值多项式定义](img/defination.png)\n",
    "- 节点在已知点之间的为内插，否则为外插\n",
    "- 多项式可以近似任何连续函数\n",
    "### 使用n 次多项式来求解函数，可以转化为求解线性方程组的问题\n",
    "\n",
    "$a_{0}+a_{1}x+a_{2}x^{2}+a_{3}x^{3}+...+a_{n}x_{n}$\n",
    "- 求解多项式的值的矩阵为<b>[范德蒙矩阵D](https://zh.wikipedia.org/wiki/%E8%8C%83%E5%BE%B7%E8%92%99%E7%9F%A9%E9%99%A3)</b>\n",
    "$$\n",
    "\\begin{bmatrix}\n",
    "1 & x_{1} & x_{1}^{2} &x_{1}^3 &...&x_{1}^{n}\\\\\n",
    "1 & x_{2} & x_{2}^{2} &x_{2}^3 &...&x_{2}^{n}\\\\\n",
    "1 & x_{3} & x_{3}^{2} &x_{3}^3 &...&x_{3}^{n}\\\\\n",
    "\\end{bmatrix}$$\n",
    "该矩阵行列式的值为$\\prod_{1 \\leq i < j \\leq n}(x_{i}-x_{j})^{2}$\n",
    "- $a_{i}=\\frac{|D_{i}|}{|D|}$ 其中$|D|$为行列式的值，而$|D_{i}|$为将矩阵$D$的第i列变换为$b$\n",
    "### 缺点\n",
    "- 计算量大\n",
    "### 使用拉格朗日插值法\n",
    "![n_lagrange多项式](img/n_lagrange多项式.png)"
   ]
  },
  {
   "cell_type": "markdown",
   "metadata": {},
   "source": [
    "- 对于每一个基函数$l_{k}(x) = \\prod_{i=0,i \\neq k}^{n} \\frac{x-x_{i}}{x_{k}-x_{i}}$"
   ]
  },
  {
   "cell_type": "code",
   "execution_count": 9,
   "metadata": {},
   "outputs": [],
   "source": [
    "## 编程对4个点的拉格朗日插值计算\n",
    "import numpy as np\n",
    "# arr = np.random.random((4,2))\n",
    "arr = np.array([[1,1],[2,2],[3,3],[4,4]]) "
   ]
  },
  {
   "cell_type": "code",
   "execution_count": 12,
   "metadata": {},
   "outputs": [
    {
     "name": "stdout",
     "output_type": "stream",
     "text": [
      "1.5\n"
     ]
    }
   ],
   "source": [
    "# 效率 n^2\n",
    "ans = 0;\n",
    "n,m = arr.shape\n",
    "x = 1.5 # 需要进行插值的x\n",
    "for i in range(n):\n",
    "    # yi\n",
    "    fen_zi = 1\n",
    "    fen_mu = 1\n",
    "    for j in range(n):\n",
    "        if i != j:\n",
    "            fen_mu *= (arr[i,0] - arr[j,0])\n",
    "            fen_zi *= x - arr[j,0]\n",
    "    ans += fen_zi / fen_mu * arr[i,1]\n",
    "print(ans)"
   ]
  },
  {
   "cell_type": "markdown",
   "metadata": {},
   "source": [
    "### 算的值有多大的误差，那么需要估计？"
   ]
  },
  {
   "cell_type": "markdown",
   "metadata": {},
   "source": [
    "![插值多项式的误差](img/插值多项式的误差.png)"
   ]
  },
  {
   "cell_type": "markdown",
   "metadata": {},
   "source": [
    "### $R_{n}(x)$求解方法\n",
    "- 构造一个$g(t)$函数\n",
    "$g(t) = f(t) - L_{n}(t) - \\frac{f(x)-L_{n}(x)}{\\omega_{n+1} (x)} \\omega_{n+1}(t)$ 在$x_{0},x_{1},...,x_{n},x$处的函数值为0\n",
    "- 我们知道如果一个函数$g(t)$有$n$个零解，那么存在$n-1$个$\\xi$ 使得$f(\\xi)^{'}=0$\n",
    "- 根据上面的条件，我们求$g(t)$的$n+1$阶导数，$$g(t)^{(n+1)'} = f(t)^{(n+1)'} - \\frac{R_{n}(x)}{\\omega_{n+1}(x)}(n+1)!$$\n",
    "- $L_{n}(t)$的$n+1$阶导数为0，因为其本身就是一个$n$次多项式\n",
    "- 那么存在一个$\\xi$,使得$f(\\xi)^{(n+1)'}=\\frac{R_{n}(x)}{\\omega_{n+1}(x)}(n+1)!$ 所以就得到2.10上面的公式\n",
    "- 虽然$\\xi$不知道，但是误差在这个区间的上界或者下界可以根据导函数的性质知道。"
   ]
  },
  {
   "cell_type": "markdown",
   "metadata": {},
   "source": [
    "### 注意\n",
    "![R_n(x)分析](img/analysis.png)\n",
    "![](img/analysis1.png)"
   ]
  },
  {
   "cell_type": "markdown",
   "metadata": {},
   "source": [
    "### conclusion \n",
    "- 一般情况下，$R_{n}(x)$随着n的增大，其误差是逐渐减小的，但是要在$n+1$阶导数比$(n+1)!$要小很多的情况下。"
   ]
  }
 ],
 "metadata": {
  "kernelspec": {
   "display_name": "Python 3",
   "language": "python",
   "name": "python3"
  },
  "language_info": {
   "codemirror_mode": {
    "name": "ipython",
    "version": 3
   },
   "file_extension": ".py",
   "mimetype": "text/x-python",
   "name": "python",
   "nbconvert_exporter": "python",
   "pygments_lexer": "ipython3",
   "version": "3.5.2rc1"
  }
 },
 "nbformat": 4,
 "nbformat_minor": 1
}
