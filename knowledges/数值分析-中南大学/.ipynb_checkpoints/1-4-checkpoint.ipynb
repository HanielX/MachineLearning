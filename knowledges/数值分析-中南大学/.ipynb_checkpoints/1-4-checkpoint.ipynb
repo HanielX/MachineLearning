{
 "cells": [
  {
   "cell_type": "markdown",
   "metadata": {
    "collapsed": true
   },
   "source": [
    "## 误差的来源\n",
    "- 模型误差\n",
    "- 观测误差\n",
    "- 方法误差 Truncation error\n",
    "- 舍入误差 Round-off error\n",
    "- 绝对误差 $ y - \\tilde{y}$ 真实值和预测值的差值，\n",
    "- 相对误差 $\\frac{y - \\tilde{y}}{y}$ 是相对的"
   ]
  },
  {
   "cell_type": "markdown",
   "metadata": {},
   "source": [
    "### 如果一个变量有误差，那么函数的误差又有多少呢？\n",
    "![函数误差和自变量误差的关系.png](img/函数误差和自变量误差的关系.png)\n",
    "- 此处省略了非线性部分"
   ]
  },
  {
   "cell_type": "markdown",
   "metadata": {},
   "source": [
    "![四则运算](img/误差的四则运算.png)"
   ]
  },
  {
   "cell_type": "code",
   "execution_count": 2,
   "metadata": {},
   "outputs": [],
   "source": [
    "import numpy as np\n",
    "import pandas as pd"
   ]
  },
  {
   "cell_type": "code",
   "execution_count": 7,
   "metadata": {},
   "outputs": [
    {
     "name": "stdout",
     "output_type": "stream",
     "text": [
      "118.06380675233996\n"
     ]
    }
   ],
   "source": [
    "sum = 100\n",
    "for i in range(100):\n",
    "    tmp = min(0.4,max(0.1,np.random.random()/ 2 - 0.1))\n",
    "    sum += tmp;\n",
    "print(sum)\n",
    "# 如果只保留一定的有效数字，那么结果将海水100"
   ]
  },
  {
   "cell_type": "markdown",
   "metadata": {},
   "source": [
    "- 误差的传递性，在递推的过程中，如果初始值在刚开始的时候是有误差的，那么就需要沿着误差减小的方向进行，尽量不要沿着误差变大的方向进行,例如:\n",
    "$I_{n}+5I_{n-1}=\\frac{1}{n}$ n从0往后面推的话误差是依次扩大5倍，但是要是倒过来误差就是上一次误差的$\\frac{1}{5}$"
   ]
  }
 ],
 "metadata": {
  "kernelspec": {
   "display_name": "Python 3",
   "language": "python",
   "name": "python3"
  },
  "language_info": {
   "codemirror_mode": {
    "name": "ipython",
    "version": 3
   },
   "file_extension": ".py",
   "mimetype": "text/x-python",
   "name": "python",
   "nbconvert_exporter": "python",
   "pygments_lexer": "ipython3",
   "version": "3.5.2rc1"
  }
 },
 "nbformat": 4,
 "nbformat_minor": 1
}
