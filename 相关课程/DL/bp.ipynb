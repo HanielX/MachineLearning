{
 "cells": [
  {
   "cell_type": "code",
   "execution_count": 11,
   "metadata": {},
   "outputs": [],
   "source": [
    "import pandas as pd\n",
    "import numpy as np\n",
    "train_data = pd.read_csv('data/train.csv')\n",
    "test_data = pd.read_csv('data/test.csv')\n",
    "from sklearn.preprocessing import StandardScaler\n",
    "import matplotlib.pyplot as plt"
   ]
  },
  {
   "cell_type": "code",
   "execution_count": 142,
   "metadata": {},
   "outputs": [],
   "source": [
    "def sigmod(x):\n",
    "    return 1.0 / (1.0 + np.exp(-x))"
   ]
  },
  {
   "cell_type": "code",
   "execution_count": 143,
   "metadata": {},
   "outputs": [],
   "source": [
    "def relu(x):\n",
    "    return np.maximum(0,x) #不能使用np.max()"
   ]
  },
  {
   "cell_type": "code",
   "execution_count": 14,
   "metadata": {},
   "outputs": [],
   "source": [
    "test_ID = test_data['ID_code'].values"
   ]
  },
  {
   "cell_type": "code",
   "execution_count": 202,
   "metadata": {},
   "outputs": [
    {
     "data": {
      "text/plain": [
       "Text(0.5,1,'sigmod')"
      ]
     },
     "execution_count": 202,
     "metadata": {},
     "output_type": "execute_result"
    },
    {
     "data": {
      "image/png": "[encoded data removed]",
      "text/plain": [
       "<Figure size 432x288 with 1 Axes>"
      ]
     },
     "metadata": {},
     "output_type": "display_data"
    }
   ],
   "source": [
    "x = np.arange(-5,5,0.1)\n",
    "y_sigmod = sigmod(x)\n",
    "plt.plot(x,y_sigmod)\n",
    "plt.title('sigmod')"
   ]
  },
  {
   "cell_type": "code",
   "execution_count": null,
   "metadata": {},
   "outputs": [],
   "source": []
  },
  {
   "cell_type": "code",
   "execution_count": 145,
   "metadata": {},
   "outputs": [
    {
     "data": {
      "text/plain": [
       "Text(0.5,1,'relu')"
      ]
     },
     "execution_count": 145,
     "metadata": {},
     "output_type": "execute_result"
    },
    {
     "data": {
      "image/png": "[encoded data removed]",
      "text/plain": [
       "<Figure size 432x288 with 1 Axes>"
      ]
     },
     "metadata": {},
     "output_type": "display_data"
    }
   ],
   "source": [
    "y_relu = relu(x)\n",
    "plt.plot(x,y_relu)\n",
    "plt.title('relu')"
   ]
  },
  {
   "cell_type": "code",
   "execution_count": 17,
   "metadata": {},
   "outputs": [
    {
     "data": {
      "text/plain": [
       "Index(['ID_code', 'target', 'var_0', 'var_1', 'var_2', 'var_3', 'var_4',\n",
       "       'var_5', 'var_6', 'var_7',\n",
       "       ...\n",
       "       'var_190', 'var_191', 'var_192', 'var_193', 'var_194', 'var_195',\n",
       "       'var_196', 'var_197', 'var_198', 'var_199'],\n",
       "      dtype='object', length=202)"
      ]
     },
     "execution_count": 17,
     "metadata": {},
     "output_type": "execute_result"
    }
   ],
   "source": [
    "train_data.columns"
   ]
  },
  {
   "cell_type": "markdown",
   "metadata": {
    "collapsed": true
   },
   "source": [
    "### SGD\n",
    "- 一般是mini-batch梯度下降算法\n",
    "- 缺点是容易收敛到局部最优"
   ]
  },
  {
   "cell_type": "code",
   "execution_count": 18,
   "metadata": {},
   "outputs": [],
   "source": [
    "target = train_data.target.values\n",
    "train_data = train_data.drop(columns = ['ID_code','target'])\n",
    "test_data = test_data.drop(columns = ['ID_code'])\n",
    "scaler = StandardScaler() ## 进行归一化操作"
   ]
  },
  {
   "cell_type": "code",
   "execution_count": 19,
   "metadata": {},
   "outputs": [],
   "source": [
    "train_data = scaler.fit_transform(train_data)\n",
    "test_data = scaler.fit_transform(test_data)"
   ]
  },
  {
   "cell_type": "code",
   "execution_count": 251,
   "metadata": {},
   "outputs": [
    {
     "data": {
      "text/plain": [
       "(200000, 200)"
      ]
     },
     "execution_count": 251,
     "metadata": {},
     "output_type": "execute_result"
    }
   ],
   "source": [
    "test_data.shape"
   ]
  },
  {
   "cell_type": "markdown",
   "metadata": {},
   "source": [
    "![bp](img/bp.png)"
   ]
  },
  {
   "cell_type": "code",
   "execution_count": 210,
   "metadata": {},
   "outputs": [],
   "source": [
    "layers = [200,300,300,1]\n",
    "params = {}\n",
    "batch_size = 1000\n",
    "def init_params():\n",
    "    for i in range(1, len(layers)):\n",
    "        params['w'+str(i) + str(i-1)] = np.random.standard_normal([layers[i],layers[i-1]])\n",
    "        params['b'+str(i)] = np.zeros([layers[i],1])"
   ]
  },
  {
   "cell_type": "code",
   "execution_count": 211,
   "metadata": {},
   "outputs": [],
   "source": [
    "init_params()"
   ]
  },
  {
   "cell_type": "code",
   "execution_count": 212,
   "metadata": {},
   "outputs": [
    {
     "data": {
      "text/plain": [
       "(1, 1)"
      ]
     },
     "execution_count": 212,
     "metadata": {},
     "output_type": "execute_result"
    }
   ],
   "source": [
    "params['w10'].shape\n",
    "params['b1'].shape\n",
    "params['w21'].shape\n",
    "params['b2'].shape\n",
    "params['w32'].shape\n",
    "params['b3'].shape"
   ]
  },
  {
   "cell_type": "code",
   "execution_count": 213,
   "metadata": {},
   "outputs": [],
   "source": [
    "def forward(X):\n",
    "    cache = {}\n",
    "    a = X.T\n",
    "    cache['a' + '0'] = a\n",
    "    for i in range(1,len(layers)):\n",
    "        z = np.dot(params['w' + str(i) + str(i - 1)], a)\n",
    "        z = z + params['b' + str(i)]\n",
    "        if i == (len(layers) - 1):\n",
    "            a = sigmod(z)\n",
    "        else:\n",
    "            a = relu(z)\n",
    "        cache['z' + str(i)] = z\n",
    "        cache['a' + str(i)] = a\n",
    "    return cache"
   ]
  },
  {
   "cell_type": "code",
   "execution_count": 214,
   "metadata": {},
   "outputs": [
    {
     "name": "stderr",
     "output_type": "stream",
     "text": [
      "/Users/icdi/Desktop/py_ws/venv/lib/python3.5/site-packages/ipykernel_launcher.py:2: RuntimeWarning: overflow encountered in exp\n",
      "  \n"
     ]
    }
   ],
   "source": [
    "cache = forward(train_data[:100])\n",
    "learning_rate = 1e-3"
   ]
  },
  {
   "cell_type": "code",
   "execution_count": 215,
   "metadata": {},
   "outputs": [],
   "source": [
    "## 反向传播\n",
    "def back(cache,y):\n",
    "    dz3 = cache['a3'] - y\n",
    "    dw3 = 1 / batch_size * np.dot(dz3,cache['a2'].transpose())\n",
    "    db3 = 1 / batch_size * np.sum(dz3 , axis = 1, keepdims = True)\n",
    "    da2 = np.dot(params['w32'].transpose(), dz3) \n",
    "    \n",
    "    dz2 = da2\n",
    "    dz2[cache['z2'] < 0] = 0\n",
    "\n",
    "    dw2 = 1 / batch_size * np.dot(dz2 ,cache['a1'].transpose())\n",
    "    db2 = 1 / batch_size * np.sum(dz2 , axis = 1, keepdims = True)\n",
    "    \n",
    "    da1 = np.dot(params['w21'].transpose(), dz2) \n",
    "    dz1 = da1\n",
    "    dz1[cache['z1'] < 0] = 0\n",
    "    dw1 = 1 / batch_size * np.dot(dz1 ,cache['a0'].transpose())\n",
    "    db1 = 1 / batch_size * np.sum(dz1 , axis = 1, keepdims = True)\n",
    "    \n",
    "    params['w32'] -= learning_rate * dw3\n",
    "    params['b3'] -=learning_rate * db3\n",
    "    params['w21'] -= learning_rate * dw2\n",
    "    params['b2'] -= learning_rate * db2\n",
    "    params['w10'] -=learning_rate * dw1\n",
    "    params['b1'] -= learning_rate * db1"
   ]
  },
  {
   "cell_type": "code",
   "execution_count": 216,
   "metadata": {},
   "outputs": [],
   "source": [
    "def get_loss(pred_y, y):\n",
    "    pred_y[pred_y < 1e-8] = 1e-8\n",
    "    pred_y[pred_y >= 1] = 0.99999\n",
    "    result = - 1 / batch_size  * np.sum(y * np.log(pred_y) + (1.0 - y) * np.log(1.0 - pred_y))\n",
    "    return result"
   ]
  },
  {
   "cell_type": "code",
   "execution_count": 217,
   "metadata": {},
   "outputs": [
    {
     "name": "stderr",
     "output_type": "stream",
     "text": [
      "/Users/icdi/Desktop/py_ws/venv/lib/python3.5/site-packages/ipykernel_launcher.py:2: RuntimeWarning: overflow encountered in exp\n",
      "  \n"
     ]
    }
   ],
   "source": [
    "N = train_data.shape[0]\n",
    "iterator_num = 1000\n",
    "loss_list = []\n",
    "for i in range(iterator_num):\n",
    "    start = (i * batch_size) % N\n",
    "    end = start + batch_size\n",
    "    cache = forward(train_data[start:end])\n",
    "#     print(cache['a3'].shape,target[start:end].shape)\n",
    "    loss_list.append(get_loss(np.squeeze(cache['a3']),target[start:end]))\n",
    "    back(cache,target[start:end])"
   ]
  },
  {
   "cell_type": "code",
   "execution_count": 220,
   "metadata": {},
   "outputs": [
    {
     "data": {
      "text/plain": [
       "[<matplotlib.lines.Line2D at 0x114c2cbe0>]"
      ]
     },
     "execution_count": 220,
     "metadata": {},
     "output_type": "execute_result"
    },
    {
     "data": {
      "image/png": "[encoded data removed]",
      "text/plain": [
       "<Figure size 432x288 with 1 Axes>"
      ]
     },
     "metadata": {},
     "output_type": "display_data"
    }
   ],
   "source": [
    "plt.plot(list(range(len(loss_list))), loss_list)\n",
    "### 哎呀妈呀，目前是我想要的结果"
   ]
  },
  {
   "cell_type": "code",
   "execution_count": 219,
   "metadata": {},
   "outputs": [
    {
     "data": {
      "text/plain": [
       "1.7447206157764474"
      ]
     },
     "execution_count": 219,
     "metadata": {},
     "output_type": "execute_result"
    }
   ],
   "source": [
    "np.min(loss_list)"
   ]
  },
  {
   "cell_type": "markdown",
   "metadata": {},
   "source": [
    "- 当数据量比较少的时候，可以直接使用所用数据进行梯度下降。\n",
    "- 当数据量比较大的时候，可以使用mini_batch来训练数据。"
   ]
  },
  {
   "cell_type": "code",
   "execution_count": 253,
   "metadata": {},
   "outputs": [],
   "source": [
    "############################### \n",
    "## 使用tensorflow 快速实现\n",
    "import tensorflow  as tf\n",
    "tf.reset_default_graph()\n",
    "with tf.variable_scope(\"layer1\"):\n",
    "    w1 = tf.Variable(tf.random_normal([200,300], stddev = 1, seed = 1))\n",
    "    b1 = tf.Variable(tf.random_normal([300], stddev = 1, seed = 1))\n",
    "\n",
    "with tf.variable_scope(\"layer2\"):\n",
    "    w2 = tf.Variable(tf.random_normal([300,300], stddev = 1, seed = 1))\n",
    "    b2 = tf.Variable(tf.random_normal([300], stddev = 1, seed = 1))\n",
    "\n",
    "with tf.variable_scope(\"layer3\"):\n",
    "    w3 = tf.Variable(tf.random_normal([300,1], stddev = 1, seed = 1))\n",
    "    b3 = tf.Variable(tf.random_normal([1], stddev = 1, seed = 1))\n",
    "\n",
    "x = tf.placeholder(tf.float32, shape = (None,200),name = \"x\")\n",
    "y_ = tf.placeholder(tf.float32, shape = (None, 1), name = \"y\")\n"
   ]
  },
  {
   "cell_type": "code",
   "execution_count": 309,
   "metadata": {},
   "outputs": [],
   "source": [
    "### 定义操作\n",
    "z1 = tf.add(tf.matmul(x,w1),b1)\n",
    "a1 = tf.nn.tanh(z1)\n",
    "z2 = tf.add(tf.matmul(a1,w2),b2)\n",
    "a2 = tf.nn.tanh(z2)\n",
    "z3 = tf.add(tf.matmul(a2,w3),b3)\n",
    "y = tf.nn.sigmoid(z3)"
   ]
  },
  {
   "cell_type": "code",
   "execution_count": 310,
   "metadata": {},
   "outputs": [],
   "source": [
    "### 定义loss\n",
    "loss = - tf.reduce_mean(y_ * tf.log(tf.clip_by_value(y,1e-8,1.0)) + (1 - y_) * tf.log(tf.clip_by_value(1 - y,1e-8,1.0)))\n",
    "# optimination = tf.train.GradientDescentOptimizer(0.001).minimize(loss)\n",
    "optimination = tf.train.AdamOptimizer(0.001).minimize(loss)\n"
   ]
  },
  {
   "cell_type": "code",
   "execution_count": 311,
   "metadata": {},
   "outputs": [],
   "source": [
    "batch_size = 2000\n",
    "iterator = 2000\n",
    "N = train_data.shape[0]\n",
    "loss_list = []\n",
    "with tf.Session() as sess:\n",
    "    init_op = tf.global_variables_initializer()\n",
    "    sess.run(init_op)\n",
    "    for i in range(iterator):\n",
    "#         print('iterator'+ str(i))\n",
    "        start = (i * batch_size) % N\n",
    "        end = min(N, start + batch_size)\n",
    "        batch_data = train_data[start : end]\n",
    "        batch_target = target[start : end].reshape(-1,1)\n",
    "        sess.run(optimination, feed_dict = {x: batch_data , y_ : batch_target})\n",
    "        loss_value = sess.run(loss, feed_dict = {x: batch_data , y_ : batch_target})\n",
    "        loss_list.append(loss_value)\n",
    "    result = sess.run(y, feed_dict = {x: test_data})\n",
    "writer=tf.summary.FileWriter('./graph',sess.graph)"
   ]
  },
  {
   "cell_type": "code",
   "execution_count": 304,
   "metadata": {},
   "outputs": [],
   "source": [
    "sub_df = pd.DataFrame({\"ID_code\": test_ID})\n",
    "sub_df[\"target\"]=result[:,0]\n",
    "sub_df.to_csv(\"submission_nn.csv\",index=False)"
   ]
  },
  {
   "cell_type": "code",
   "execution_count": 305,
   "metadata": {},
   "outputs": [
    {
     "data": {
      "text/plain": [
       "[<matplotlib.lines.Line2D at 0x11f8f94a8>]"
      ]
     },
     "execution_count": 305,
     "metadata": {},
     "output_type": "execute_result"
    },
    {
     "data": {
      "image/png": "[encoded data removed]",
      "text/plain": [
       "<Figure size 432x288 with 1 Axes>"
      ]
     },
     "metadata": {},
     "output_type": "display_data"
    }
   ],
   "source": [
    "x_plt = range(len(loss_list))\n",
    "plt.plot(x_plt,loss_list)"
   ]
  },
  {
   "cell_type": "code",
   "execution_count": 306,
   "metadata": {},
   "outputs": [
    {
     "data": {
      "text/plain": [
       "1.482865"
      ]
     },
     "execution_count": 306,
     "metadata": {},
     "output_type": "execute_result"
    }
   ],
   "source": [
    "np.min(loss_list)"
   ]
  },
  {
   "cell_type": "code",
   "execution_count": 307,
   "metadata": {},
   "outputs": [
    {
     "name": "stdout",
     "output_type": "stream",
     "text": [
      "0\n"
     ]
    }
   ],
   "source": [
    "## 使用where 实现 > 0.5时是1 ，小于时是0\n",
    "y = tf.constant(0.4)\n",
    "one = tf.ones_like(y)\n",
    "zero = tf.zeros_like(y)\n",
    "label = tf.cast(tf.where(tf.greater(y, 0.5), x=one, y=zero),tf.int32)\n",
    "with tf.Session() as sess:\n",
    "    print(sess.run(label))"
   ]
  },
  {
   "cell_type": "code",
   "execution_count": 8,
   "metadata": {},
   "outputs": [
    {
     "data": {
      "text/plain": [
       "[4, 3, 2]"
      ]
     },
     "execution_count": 8,
     "metadata": {},
     "output_type": "execute_result"
    }
   ],
   "source": [
    "list(range(4,1,-1))"
   ]
  }
 ],
 "metadata": {
  "kernelspec": {
   "display_name": "Python 3",
   "language": "python",
   "name": "python3"
  },
  "language_info": {
   "codemirror_mode": {
    "name": "ipython",
    "version": 3
   },
   "file_extension": ".py",
   "mimetype": "text/x-python",
   "name": "python",
   "nbconvert_exporter": "python",
   "pygments_lexer": "ipython3",
   "version": "3.5.2rc1"
  }
 },
 "nbformat": 4,
 "nbformat_minor": 1
}
