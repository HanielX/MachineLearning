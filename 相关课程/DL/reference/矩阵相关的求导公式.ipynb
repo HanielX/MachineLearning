{
 "cells": [
  {
   "cell_type": "code",
   "execution_count": null,
   "metadata": {},
   "outputs": [],
   "source": [
    "## https://zhuanlan.zhihu.com/p/24709748"
   ]
  },
  {
   "cell_type": "markdown",
   "metadata": {
    "collapsed": true
   },
   "source": [
    "- 矩阵加减法 $d(X\\pm Y) = dX \\pm dY$\n",
    "- 矩阵乘法 $d(XY) = (dX)Y + X dY $\n",
    "- 矩阵的转置 $d(X^T) = (dX)^T$\n",
    "- 矩阵的迹 $d\\text{tr}(X) = \\text{tr}(dX)$"
   ]
  },
  {
   "cell_type": "code",
   "execution_count": null,
   "metadata": {},
   "outputs": [],
   "source": []
  }
 ],
 "metadata": {
  "kernelspec": {
   "display_name": "Python 3",
   "language": "python",
   "name": "python3"
  },
  "language_info": {
   "codemirror_mode": {
    "name": "ipython",
    "version": 3
   },
   "file_extension": ".py",
   "mimetype": "text/x-python",
   "name": "python",
   "nbconvert_exporter": "python",
   "pygments_lexer": "ipython3",
   "version": "3.5.2rc1"
  }
 },
 "nbformat": 4,
 "nbformat_minor": 1
}
