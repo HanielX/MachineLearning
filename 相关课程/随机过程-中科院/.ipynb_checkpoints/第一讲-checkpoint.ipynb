{
 "cells": [
  {
   "cell_type": "markdown",
   "metadata": {
    "collapsed": true
   },
   "source": [
    "### 随机过程及其分类\n",
    "   在概率论中，我们研究了随机变量，$n$维随机变量。在极限定理中我们研究了无穷多个随机变量，但只局限在他们之间相互独立的情形。将上述情形加以推广，即研究一簇无穷多个，相互有关的随机变量，这就是随机过程。"
   ]
  },
  {
   "cell_type": "markdown",
   "metadata": {},
   "source": [
    "### 随机过程的概念\n",
    "- 定义:设($\\Omega,\\sum ,P$)是一概率空间($\\Omega$是样本空间，$\\sum$为样本空间的子集)，对每一个参数$t \\in T$,$X(t,\\omega)$是一定义在概率空间($\\Omega,\\sum ,P$)上的随机变量，则称随机变量簇$X_{T}={X(t,\\omega);t\\in T}$为该概率空间上的一随机过程。其中$T \\subset R$是一实数集，称为指标值或者参数集。"
   ]
  },
  {
   "cell_type": "markdown",
   "metadata": {},
   "source": [
    "### 随机过程的两种描述方法\n",
    "- 用映射表示$X_{T}$,为$X(t,\\omega):T \\times \\omega \\rightarrow R$,即$X(.,.)$是定义在$T \\times \\Omega$上的二元单值函数，固定$t \\in T,X(t,.)$是一定义在样本空间$\\Omega$上的函数，即为一随机变量；对于固定的$\\omega \\in \\Omega$,$X(.,\\omega)$是一个关于参数$t \\in T$的函数，通常称为样本函数，或称随机过程的一次实现，所有样本函数的集合确定一随机过程。记号$X(t,\\omega)$有时记为$X_{t}(\\omega)$或简记为$X(t)$。\n",
    "- 参数$T$一般表示时间或空间。常用的参数一般有:$(1)T=N_{0}={0,1,2,...};(2)T={0,\\pm 1,\\pm2,...};(3)T=[a,b]$,其中$a$ 可以取$0$或$- \\infty$,$b$可以取$+ \\infty$。当参数取可列集时，一般称随机过程为随机序列。"
   ]
  },
  {
   "cell_type": "markdown",
   "metadata": {},
   "source": [
    "- 随机过程${X(t),t \\in T}$可能取值的全体所构成的集合称为此随机过程的状态空间，记$S$,$S$中的元素称为状态。状态空间可以由复数，实数或更一般的抽象空间构成。"
   ]
  },
  {
   "cell_type": "markdown",
   "metadata": {},
   "source": [
    "![例1-例2](img/例1-例2.png)"
   ]
  },
  {
   "cell_type": "markdown",
   "metadata": {},
   "source": [
    "- 例一: 样本函数为$cos \\pi t 和 2t$,状态空间为$(-\\infty,+\\infty)$\n",
    "- 例二: 样本函数为$Acos(\\omega t + \\theta)$,状态空间为$[-A,A]$"
   ]
  },
  {
   "cell_type": "markdown",
   "metadata": {},
   "source": [
    "![例3-例4](img/例3-例4.png)"
   ]
  },
  {
   "cell_type": "markdown",
   "metadata": {},
   "source": [
    "![例5](img/例5.png)"
   ]
  },
  {
   "cell_type": "code",
   "execution_count": null,
   "metadata": {},
   "outputs": [],
   "source": []
  }
 ],
 "metadata": {
  "kernelspec": {
   "display_name": "Python 3",
   "language": "python",
   "name": "python3"
  },
  "language_info": {
   "codemirror_mode": {
    "name": "ipython",
    "version": 3
   },
   "file_extension": ".py",
   "mimetype": "text/x-python",
   "name": "python",
   "nbconvert_exporter": "python",
   "pygments_lexer": "ipython3",
   "version": "3.5.2rc1"
  }
 },
 "nbformat": 4,
 "nbformat_minor": 1
}
