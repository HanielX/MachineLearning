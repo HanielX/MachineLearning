{
 "cells": [
  {
   "cell_type": "markdown",
   "metadata": {
    "collapsed": true
   },
   "source": [
    "### 教材\n",
    "- 陆大金 《随机过程及其应用》"
   ]
  },
  {
   "cell_type": "markdown",
   "metadata": {},
   "source": [
    "### 阶矩\n",
    "- 数学上，“矩”是一组点组成的模型的特定的数量测度。 \n",
    "    - 在力学和统计学中都有用到“矩”。\n",
    "    - 如果这些点代表“质量”，那么： \n",
    "    - 零阶矩表示所有点的 质量； \n",
    "    - 一阶矩表示 质心； \n",
    "    - 二阶矩表示 转动惯量。\n",
    "- 如果这些点代表“概率密度”，那么：零阶矩表示这些点的 总概率（也就是1）;\n",
    "    - 一阶矩表示 期望； \n",
    "    - 二阶（中心）矩表示 方差； \n",
    "    - 三阶（中心）矩表示 偏斜度； \n",
    "    - 四阶（中心）矩表示 峰度；"
   ]
  },
  {
   "cell_type": "markdown",
   "metadata": {},
   "source": [
    "### 协方差&相关系数\n",
    "- 描述两个随机变量之间关系的，$cov(X,Y) = E((X - E(X) \\times (Y - E(Y))$\n",
    "- 相关系数 $\\rho = \\frac{cov(X,Y)}{\\sigma_{x} \\sigma_{y}}$"
   ]
  },
  {
   "cell_type": "markdown",
   "metadata": {},
   "source": [
    "### 中心极限定理\n",
    "- 设$X_{1},X_{2},...,X_{n}$为独立同分布的随机变量序列，且具有均值$\\mu$和方差$\\sigma ^2$,则对充分大的$n$,$X_{1}+X_{1}+...+X_{n}$近似服从正态分布，且有均值$n\\mu$和方差$n\\sigma^2$根据中心极限定理可知:\n",
    "$\\frac{X_{1}+X_{2} +...+X_{n} - n\\mu}{\\sigma \\sqrt n}$是近似标准正态分布的随机变量，则对充分大的$n$。\n",
    "$p\\{\\frac{X_{1}+X_{2} +...+X_{n} - n\\mu}{\\sigma \\sqrt n}\\} \\approx P\\{Z < x\\}$其中$Z$是标准正态的随机变量。"
   ]
  },
  {
   "cell_type": "markdown",
   "metadata": {},
   "source": [
    "### 一元特征函数\n",
    "- 设$X$为随机变量,$f(x)$为密度函数。\n",
    "- 特征函数为: $E(e^{juX}) = \\int_{-\\infty}^{+\\infty} e^{jux}f(x)dx = \\phi(u)$,$j$是虚数单位。"
   ]
  },
  {
   "cell_type": "markdown",
   "metadata": {},
   "source": [
    "### 例7\n",
    "- 还是蛮神奇的。先画张表:\n",
    "- $$\\begin{array}{c|cc}\n",
    "1 /\\ \\frac{1}{2} & 0 &1 \\\\\n",
    "\\hline\n",
    "-1 & \\frac{1}{2} & 0\\\\\n",
    "2 & 0 & \\frac{1}{2}\n",
    "\\end{array}$$\n",
    "- 注意概率是交。\n",
    "- 均值函数为$\\frac{1}{2} cos(\\pi t) + t$\n",
    "- 相关函数\n",
    "$$\\begin{array}{c|cc}\n",
    "1 /\\ \\frac{1}{2} & cos(\\pi t) & 2t \\\\\n",
    "\\hline\n",
    "cos(\\pi t) & \\frac{1}{2} & 0\\\\\n",
    "2t & 0 & \\frac{1}{2}\n",
    "\\end{array}$$,所以相关函数为$E(ST) = \\frac{1}{2}cos^2(\\pi t) + 2 t^2$"
   ]
  }
 ],
 "metadata": {
  "kernelspec": {
   "display_name": "Python 3",
   "language": "python",
   "name": "python3"
  },
  "language_info": {
   "codemirror_mode": {
    "name": "ipython",
    "version": 3
   },
   "file_extension": ".py",
   "mimetype": "text/x-python",
   "name": "python",
   "nbconvert_exporter": "python",
   "pygments_lexer": "ipython3",
   "version": "3.5.2rc1"
  }
 },
 "nbformat": 4,
 "nbformat_minor": 1
}
