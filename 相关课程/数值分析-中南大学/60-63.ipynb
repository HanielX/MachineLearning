{
 "cells": [
  {
   "cell_type": "markdown",
   "metadata": {
    "collapsed": true
   },
   "source": [
    "### 对角上优矩阵\n",
    "- 对角线元素不等于零\n",
    "- 对角线元素绝对值大于等于其所在行的其他元素的绝对值之和。\n",
    "- 该矩阵对应的方程组存在唯一性"
   ]
  },
  {
   "cell_type": "markdown",
   "metadata": {},
   "source": [
    "### 追赶法\n",
    "- 是对对角矩阵的求解。\n",
    "![对角矩阵](img/对角矩阵.png)\n",
    "- 分解的公式如下:\n",
    "$$\\begin{split} u_{1} &= b_{1} \\\\ \n",
    "l_{i} &= \\frac{a_{i}}{u_{i-1}}, i = 2,3,...,n \\\\\n",
    "u_{i} &= b_{i} - l_{i}c_{i-1}, i = 2,3,...,n\n",
    "\\end{split}$$"
   ]
  },
  {
   "cell_type": "markdown",
   "metadata": {},
   "source": [
    "- 效率为$5n-4$"
   ]
  },
  {
   "cell_type": "markdown",
   "metadata": {},
   "source": [
    "### 定理4.6\n",
    "- 三角矩阵$A$有表达式，且满足\n",
    "- $$ \\begin{split} &|b_{1}| > |c_{1}| > 0,|b_{n-1}| > |a_{n-1}| > 0 \\\\ \n",
    "&|b_{i}| \\geq |a_{i}| + |c_{i}| ,a_{i}c_{i} \\neq 0, i =2,3,...,n-1\n",
    "\\end{split}$$则$A$非奇异，且有$0<|\\frac{c_{i}}{u_{i}}|<1,i=1,2,...,n \\\\ \n",
    "|b_{i}| - |a_{i}| < |u_{i}| < |b_{i}| + |a_{i}|$"
   ]
  },
  {
   "cell_type": "markdown",
   "metadata": {},
   "source": [
    "### 平方根\n",
    "- 当$A$为正定对称矩阵时，对$A$可直接$LU$分解\n",
    "- 定理4.7 设$A \\in R^{n\\times n}$,$A = A^{T}$且$A$的主子式$D_{i} \\neq 0$,$i=1,...,n$,则存在唯一的下三角阵和三角阵，使得$A=LDL^{T}$\n",
    "- 定理4.8 设$A \\in R^{n\\times n}$, 当$A$为对称正定矩阵, 则存在唯一的对角元素为正的下三角矩阵 使得$A=LDL^{T} = LD^{\\frac{1}{2}} D^{\\frac{1}{2}^{T}}L^{T}$ = $L_{1}L_{1}^{T}$,其中$D^{\\frac{1}{2}} = diag({\\sqrt{d_{1}},...,\\sqrt{d_{n}})}$\n",
    "- ![平方根公式](img/平方根公式.png)"
   ]
  },
  {
   "cell_type": "markdown",
   "metadata": {},
   "source": []
  }
 ],
 "metadata": {
  "kernelspec": {
   "display_name": "Python 3",
   "language": "python",
   "name": "python3"
  },
  "language_info": {
   "codemirror_mode": {
    "name": "ipython",
    "version": 3
   },
   "file_extension": ".py",
   "mimetype": "text/x-python",
   "name": "python",
   "nbconvert_exporter": "python",
   "pygments_lexer": "ipython3",
   "version": "3.5.2rc1"
  }
 },
 "nbformat": 4,
 "nbformat_minor": 1
}
