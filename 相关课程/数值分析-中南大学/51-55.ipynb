{
 "cells": [
  {
   "cell_type": "markdown",
   "metadata": {
    "collapsed": true
   },
   "source": [
    "### 高斯消去法"
   ]
  },
  {
   "cell_type": "code",
   "execution_count": 1,
   "metadata": {},
   "outputs": [],
   "source": [
    "import pandas as pd\n",
    "import numpy as np"
   ]
  },
  {
   "cell_type": "code",
   "execution_count": 43,
   "metadata": {},
   "outputs": [],
   "source": [
    "# arr = np.array([[1,2/3,1/3,2],[9/20,1,11/20,2],[2/3,1/3,1,2]])\n",
    "# arr = np.array([[2,2,2,1],[3,2,4,1/2],[1,3,9,5/2]])\n",
    "# arr = np.array([[0.0003,3.0000,2.0001],[1.0000,1.0000,1.0000]])\n",
    "arr = np.array([[-0.002,2,2,0.4],[1,0.78125,0,1.3816],[3.996,5.5625,4,7.4178]])"
   ]
  },
  {
   "cell_type": "code",
   "execution_count": 44,
   "metadata": {
    "scrolled": false
   },
   "outputs": [
    {
     "data": {
      "text/plain": [
       "array([[-2.0000e-03,  2.0000e+00,  2.0000e+00,  4.0000e-01],\n",
       "       [ 1.0000e+00,  7.8125e-01,  0.0000e+00,  1.3816e+00],\n",
       "       [ 3.9960e+00,  5.5625e+00,  4.0000e+00,  7.4178e+00]])"
      ]
     },
     "execution_count": 44,
     "metadata": {},
     "output_type": "execute_result"
    }
   ],
   "source": [
    "arr"
   ]
  },
  {
   "cell_type": "markdown",
   "metadata": {},
   "source": [
    "### 公式\n",
    "- $A[i,j:] = A[i,j:] - A[i,i:] * \\frac {A[j,i]}{A[i,i]}$ , $j = (i +1,n) $"
   ]
  },
  {
   "cell_type": "code",
   "execution_count": 49,
   "metadata": {},
   "outputs": [],
   "source": [
    "## 只考虑方程组有唯一解的时候\n",
    "n = 3\n",
    "for i in range(n):\n",
    "    for j in range(i+1,n):\n",
    "        arr[j,i:] -= arr[i,i:] * (arr[j,i] / arr[i,i])"
   ]
  },
  {
   "cell_type": "code",
   "execution_count": 50,
   "metadata": {
    "scrolled": true
   },
   "outputs": [
    {
     "data": {
      "text/plain": [
       "array([[-2.00000000e-03,  2.00000000e+00,  2.00000000e+00,\n",
       "         4.00000000e-01],\n",
       "       [ 0.00000000e+00,  1.00078125e+03,  1.00000000e+03,\n",
       "         2.01381600e+02],\n",
       "       [ 0.00000000e+00,  0.00000000e+00,  1.56128025e+00,\n",
       "         1.40581311e+00]])"
      ]
     },
     "execution_count": 50,
     "metadata": {},
     "output_type": "execute_result"
    }
   ],
   "source": [
    "arr"
   ]
  },
  {
   "cell_type": "code",
   "execution_count": 51,
   "metadata": {},
   "outputs": [],
   "source": [
    "#### 进行回代\n",
    "ans = np.zeros(n) ## 将数据先设置为0，可以巧妙运算\n",
    "ans[n - 1] = arr[n-1,n] / arr[n-1,n-1]\n",
    "for i in range(n - 2,-1,-1):\n",
    "    ans[i] = (arr[i][n] - np.sum(arr[i,:-1] * ans)) / arr[i][i]"
   ]
  },
  {
   "cell_type": "code",
   "execution_count": 52,
   "metadata": {
    "scrolled": true
   },
   "outputs": [
    {
     "data": {
      "text/plain": [
       "array([ 1.9273   , -0.698496 ,  0.9004233])"
      ]
     },
     "execution_count": 52,
     "metadata": {},
     "output_type": "execute_result"
    }
   ],
   "source": [
    "ans"
   ]
  },
  {
   "cell_type": "markdown",
   "metadata": {},
   "source": [
    "### 引理5.1\n",
    "- 约化的主元素$A_{ii} \\neq 0(i=1,2,...,n)$的充要条件是矩阵$A$的[顺序主子式](https://baike.baidu.com/item/%E9%A1%BA%E5%BA%8F%E4%B8%BB%E5%AD%90%E5%BC%8F)$D_{i} \\neq 0(i=1,2,...,n)。$\n",
    "- 这里只要$n-1$阶主子式不等于零就可以。如果消元之后最后一个元素为零，而对应的$b$非零，那么方程没有解。"
   ]
  },
  {
   "cell_type": "markdown",
   "metadata": {},
   "source": [
    "### 时间复杂度\n",
    "- $N^3$"
   ]
  },
  {
   "cell_type": "markdown",
   "metadata": {},
   "source": [
    "### 缺陷\n",
    "- (1)需要计算行列式的值\n",
    "- (2)如果消元过程中，对角线元素非常小，那么会增加误差。"
   ]
  },
  {
   "cell_type": "markdown",
   "metadata": {},
   "source": [
    "### Gauss消元解决方法\n",
    "- 列主元消去法，就是取列元素最大的行和当前处理的行进行交换。\n",
    "- 优点：数值稳定，缺点:既消元又回代。"
   ]
  },
  {
   "cell_type": "markdown",
   "metadata": {},
   "source": [
    "### 求解逆矩阵\n",
    "- $[A I] = [I A^{-1}]$,因为$AA^{-1}=I, A w_{j} = e_{j},w_{j}$为逆矩阵的$j$列，那么将$Ae_{j}$化为$I,w$的时候$w_{j} = w$，同理$A^{-1}$也可以求出。"
   ]
  }
 ],
 "metadata": {
  "kernelspec": {
   "display_name": "Python 3",
   "language": "python",
   "name": "python3"
  },
  "language_info": {
   "codemirror_mode": {
    "name": "ipython",
    "version": 3
   },
   "file_extension": ".py",
   "mimetype": "text/x-python",
   "name": "python",
   "nbconvert_exporter": "python",
   "pygments_lexer": "ipython3",
   "version": "3.5.2rc1"
  }
 },
 "nbformat": 4,
 "nbformat_minor": 1
}
