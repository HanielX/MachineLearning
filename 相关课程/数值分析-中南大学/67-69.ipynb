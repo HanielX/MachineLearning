{
 "cells": [
  {
   "cell_type": "markdown",
   "metadata": {
    "collapsed": true
   },
   "source": [
    "### 序列矩阵的收敛性\n",
    "- 定义6 设矩阵序列$A_{k}=(a_{ij}^{k})_{n \\times n}(k=1,2,...,)$,及矩阵$A=(a_{ij})_{n \\times n}$,如果\n",
    "$\\lim_{k \\rightarrow \\infty}{a_{ij}^{(k)}}=a_{ij},(i,j=1,2,...,n)$,则称矩阵序列${A_{k}}$收敛到矩阵$A$,记做$\\lim_{k\\rightarrow \\infty}{A_{k}}=A$\n",
    "如果$\\lim_{k \\rightarrow \\infty}||A_{k}-A|| = 0$,则称矩阵序列${A_{k}}$依范数||.||收敛于$A$\n",
    "- 定理10 设$A \\in R^{n\\times n}$,则$\\lim_{k \\rightarrow \\infty}{A^{k}}=0$的充分必要条件是$\\rho(A)<1$"
   ]
  },
  {
   "cell_type": "markdown",
   "metadata": {},
   "source": [
    "### 定义4.1 \n",
    "- 如果方程组$Ax=b$中，矩阵$A$和$b$右端的稍小变化，引起解向量$x$的很大的变化，则称$A$为关于解方程组和矩阵求逆的病态矩阵，称响应的方程组为病态方程组。否则称为良性矩阵，良性方程组。"
   ]
  },
  {
   "cell_type": "markdown",
   "metadata": {},
   "source": [
    "### 定理(b扰动对解的影响)设:\n",
    "- 设$Ax=b\\neq 0$,$x$为精确解，$detA\\neq 0$\n",
    "- 且设$A(x+\\delta x) = b + \\delta b$,则有:\n",
    "$\\frac{||\\delta x||}{||x||} \\leq ||A^{-1}|| \\times ||A|| \\frac{||\\delta b||}{||b||}$"
   ]
  },
  {
   "attachments": {},
   "cell_type": "markdown",
   "metadata": {},
   "source": [
    "### 条件数\n",
    "![条件数](img/条件数.png)"
   ]
  },
  {
   "cell_type": "markdown",
   "metadata": {},
   "source": [
    "### 条件数的性质\n",
    "![条件数](img/条件数的性质.png)"
   ]
  },
  {
   "cell_type": "markdown",
   "metadata": {},
   "source": [
    "### 病态的判断方法\n",
    "![病态的判断方法](img/病态的判断条件.png)"
   ]
  },
  {
   "cell_type": "markdown",
   "metadata": {},
   "source": [
    "![误差估计式](img/误差估计式.png)"
   ]
  },
  {
   "cell_type": "markdown",
   "metadata": {},
   "source": [
    "![4.10](img/证明4.10.png)"
   ]
  },
  {
   "attachments": {},
   "cell_type": "markdown",
   "metadata": {},
   "source": [
    "- 矩阵A的阶数越高，条件数越大，矩阵元素的增长因子越大和计算机字长越短，则舍入误差对解的影响越严重。因此计算精度取决于矩阵的规模、方程组的性态、所选取的算法和计算机字长!"
   ]
  },
  {
   "cell_type": "code",
   "execution_count": null,
   "metadata": {},
   "outputs": [],
   "source": []
  }
 ],
 "metadata": {
  "kernelspec": {
   "display_name": "Python 3",
   "language": "python",
   "name": "python3"
  },
  "language_info": {
   "codemirror_mode": {
    "name": "ipython",
    "version": 3
   },
   "file_extension": ".py",
   "mimetype": "text/x-python",
   "name": "python",
   "nbconvert_exporter": "python",
   "pygments_lexer": "ipython3",
   "version": "3.5.2rc1"
  }
 },
 "nbformat": 4,
 "nbformat_minor": 1
}
