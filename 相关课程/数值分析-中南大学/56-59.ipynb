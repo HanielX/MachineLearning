{
 "cells": [
  {
   "cell_type": "markdown",
   "metadata": {
    "collapsed": true
   },
   "source": [
    "### LU\n",
    "- 对一个矩阵进行行变换，相当于左乘一个矩阵。列变换，相当于右乘一个矩阵。\n",
    "- $A = LU$,其中$L = L_{1} \\times L_{2} \\times ... \\times L_{n}$,其中$L_{i}$为原子下三角矩阵。比如$L_{0} = \\begin{bmatrix} 1 & 0 & 0 \\\\ -3 & 0 & 0 \n",
    "\\\\ 4 & 0 &0\\end{bmatrix}$\n",
    "- 原子矩阵的下三角矩阵的逆为除对角线元素外，所有元素取相反数。比如$L_{0}^{-1} = \\begin{bmatrix} 1 & 0 & 0 \\\\ 3 & 0 & 0 \n",
    "\\\\ -4 & 0 &0\\end{bmatrix} $\n",
    "- $det(A) = det(U) = u_{11}u_{22} \\times ... \\times u_{nn}$"
   ]
  },
  {
   "cell_type": "markdown",
   "metadata": {},
   "source": [
    "- $A = LU$,则$Ax = b$,$LUx=b$,令$Ux = y$,则$Ly=b$,求出$y$后再求出$x$"
   ]
  },
  {
   "cell_type": "markdown",
   "metadata": {},
   "source": [
    "### 初等置换矩阵\n",
    "- 例如$\\begin{bmatrix} 1 & 0 \\\\ 0 & 1\\end{bmatrix}$的初等置换矩阵为$\\begin{bmatrix} 0 & 1\\\\ 1 & 0\\end{bmatrix}$\n",
    "- 初等置换矩阵的逆等于其本身。"
   ]
  },
  {
   "cell_type": "markdown",
   "metadata": {},
   "source": [
    "### 列主元消去法\n",
    "- 在进行$LU$分解的时候加上行变换。\n",
    "- $L_{1}I_{1,i1}A^{1} = A^{2},\\\\ L_{k}I_{k,ik}A^{k}=A^{k + 1}$ 其中$I_{k,ik}$为初等置换阵。\n",
    "- 于是$L_{n-1}I_{n-1,i(n-1)}...L_{2}I_{2,i2}L_{1}I_{1,i1}A = A^{n}=U$\n",
    "- 以$n=4$为例：$$\\begin{split}U = A^{4}   &=L_{3}I_{3,i3}L_{2}I_{2,i2}L_{1}I_{1,i1}A \\\\ &= L_{3}(I_{3,i3}L_{2}I_{3,i3})(I_{3,i3}I_{2,i2}L_{1}I_{2,i2}I_{3,i3})(I_{3,i3}I_{2,i2}I_{1,i1})A \\\\ &= \\tilde{L_{3}} \\tilde{L_{2}} \\tilde{L_{1}} P A  \\end{split}$$\n",
    "- 记$L^{-1} = \\tilde{L_{3}} \\tilde{L_{2}} \\tilde{L_{1}}$则$PA = LU$。其中$P$为排列矩阵，$L$为单位下三角矩阵，$U$为上三角矩阵，列主元素高斯消去法相当于先进行一系列行交换后再对$PAX=Pb$应用顺序高斯消去法。"
   ]
  },
  {
   "cell_type": "markdown",
   "metadata": {},
   "source": [
    "### 直接三角分解法\n",
    "- 递推求解方程"
   ]
  },
  {
   "cell_type": "code",
   "execution_count": 90,
   "metadata": {},
   "outputs": [],
   "source": [
    "import numpy as np\n",
    "arr = np.array([[1,2,1],[-2,-1,-5],[0,-1,6]])\n",
    "n = 3"
   ]
  },
  {
   "cell_type": "code",
   "execution_count": 91,
   "metadata": {},
   "outputs": [],
   "source": [
    "L = np.diag(np.ones(n))\n",
    "R = np.zeros_like(arr)"
   ]
  },
  {
   "cell_type": "code",
   "execution_count": 92,
   "metadata": {},
   "outputs": [],
   "source": [
    "R[0,:] = arr[0,:]\n",
    "L[1:,0] = arr[1:,0] / arr[0][0]"
   ]
  },
  {
   "cell_type": "code",
   "execution_count": 93,
   "metadata": {},
   "outputs": [],
   "source": [
    "for i in range(1,n):\n",
    "    for j in range(i,n): ### 第i行\n",
    "        R[i][j] = arr[i][j] - np.sum(L[i,:i] * R[:i,j])\n",
    "    for k in range(i + 1,n): ## 求第i列 \n",
    "        L[k][i] = (arr[k][i] - np.sum(L[k,:i] * R[:i,i])) / R[i][i]"
   ]
  },
  {
   "cell_type": "code",
   "execution_count": 94,
   "metadata": {},
   "outputs": [
    {
     "data": {
      "text/plain": [
       "(array([[ 1.        ,  0.        ,  0.        ],\n",
       "        [-2.        ,  1.        ,  0.        ],\n",
       "        [ 0.        , -0.33333333,  1.        ]]), array([[ 1,  2,  1],\n",
       "        [ 0,  3, -3],\n",
       "        [ 0,  0,  5]]))"
      ]
     },
     "execution_count": 94,
     "metadata": {},
     "output_type": "execute_result"
    }
   ],
   "source": [
    "L,R"
   ]
  },
  {
   "cell_type": "markdown",
   "metadata": {},
   "source": [
    "### 直接使用原来矩阵"
   ]
  },
  {
   "cell_type": "code",
   "execution_count": 95,
   "metadata": {},
   "outputs": [
    {
     "data": {
      "text/plain": [
       "array([[ 1.,  2.,  1.],\n",
       "       [-2., -1., -5.],\n",
       "       [ 0., -1.,  6.]])"
      ]
     },
     "execution_count": 95,
     "metadata": {},
     "output_type": "execute_result"
    }
   ],
   "source": [
    "arr = np.array([[1.0,2.0,1.0],[-2.0,-1.0,-5.0],[0.0,-1.0,6.0]]) \n",
    "### 注意这里应该使用浮点数，不然的话，当计算出来是浮点数进行赋值的时候，\n",
    "### 会出现四舍五入的情况\n",
    "arr[1:,0] = arr[1:,0] / arr[0][0]\n",
    "arr"
   ]
  },
  {
   "cell_type": "code",
   "execution_count": 96,
   "metadata": {},
   "outputs": [],
   "source": [
    "for i in range(1,n):\n",
    "    for j in range(i,n): ### 第i行\n",
    "        arr[i][j] = arr[i][j] - np.sum(arr[i,:i] * arr[:i,j])\n",
    "    for k in range(i + 1,n): ## 求第i列 \n",
    "        arr[k][i] = (arr[k][i] - np.sum(arr[k,:i] * arr[:i,i])) / arr[i][i]\n",
    "    "
   ]
  },
  {
   "cell_type": "code",
   "execution_count": 97,
   "metadata": {},
   "outputs": [
    {
     "data": {
      "text/plain": [
       "array([[ 1.        ,  2.        ,  1.        ],\n",
       "       [-2.        ,  3.        , -3.        ],\n",
       "       [ 0.        , -0.33333333,  5.        ]])"
      ]
     },
     "execution_count": 97,
     "metadata": {},
     "output_type": "execute_result"
    }
   ],
   "source": [
    "arr"
   ]
  }
 ],
 "metadata": {
  "kernelspec": {
   "display_name": "Python 3",
   "language": "python",
   "name": "python3"
  },
  "language_info": {
   "codemirror_mode": {
    "name": "ipython",
    "version": 3
   },
   "file_extension": ".py",
   "mimetype": "text/x-python",
   "name": "python",
   "nbconvert_exporter": "python",
   "pygments_lexer": "ipython3",
   "version": "3.5.2rc1"
  }
 },
 "nbformat": 4,
 "nbformat_minor": 1
}
