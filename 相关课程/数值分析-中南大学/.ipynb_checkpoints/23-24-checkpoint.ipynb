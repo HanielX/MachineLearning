{
 "cells": [
  {
   "cell_type": "markdown",
   "metadata": {
    "collapsed": true
   },
   "source": [
    "### 三次样条插值法\n",
    "- 每个区间用一个三次多项式来表示，通常情况下是需要4个条件。虽然我们只知道函数值，并不知道导数值，但是知道在区间端点的两个一阶导数和二阶导数都是相等的，所以会增加一些条件。\n",
    "- 我们知道，我们要求解的参数值是有4n但是只有4n-2个方程，所以要额外地增加两个参数，比如边界的一阶导数值和边界的二阶导数值等方法。这样子就构建了4n个方程，有4n个未知数。该方法求解的计算量比较大。\n",
    "- 针对上诉的问题，我可以去假设函数的二阶导数值已知，那么对于一个区间，我可以用求积分的形式来求得函数的表达式。"
   ]
  },
  {
   "cell_type": "code",
   "execution_count": 52,
   "metadata": {},
   "outputs": [],
   "source": [
    "### 使用三次样条插值法求解 f(x) = 1 / (1 + x^2)\n",
    "import numpy as np\n",
    "import pandas as pd\n",
    "import matplotlib.pyplot as plt\n",
    "from utils import *\n",
    "from numpy.linalg import *"
   ]
  },
  {
   "cell_type": "code",
   "execution_count": 53,
   "metadata": {},
   "outputs": [
    {
     "data": {
      "text/plain": [
       "[<matplotlib.lines.Line2D at 0x114987898>,\n",
       " <matplotlib.lines.Line2D at 0x114556ba8>]"
      ]
     },
     "execution_count": 53,
     "metadata": {},
     "output_type": "execute_result"
    },
    {
     "data": {
      "image/png": "[encoded data removed]",
      "text/plain": [
       "<Figure size 432x288 with 1 Axes>"
      ]
     },
     "metadata": {},
     "output_type": "display_data"
    }
   ],
   "source": [
    "x = np.arange(-5,6,1)\n",
    "y = fun(x)\n",
    "arr = np.vstack((x,y)).T\n",
    "\n",
    "test_x = np.arange(-5,5,0.1)\n",
    "test_xy = newton(arr,test_x)\n",
    "#### \n",
    "plt.xlim(-5,5)\n",
    "plt.ylim(-0.5,2)\n",
    "plt.plot(test_x,fun(test_x),'--',c = 'b')\n",
    "plt.plot(test_xy[:,0],test_xy[:,1],'--','r')"
   ]
  },
  {
   "cell_type": "code",
   "execution_count": 54,
   "metadata": {},
   "outputs": [],
   "source": [
    "size = len(x)\n",
    "### 起点和终点的导数\n",
    "y0 = -2 * x[0] / (( 1 + x[0] **2) ** 2) ## \n",
    "yn = -2 * x[size - 1] / (( 1 + x[size - 1] **2) ** 2)"
   ]
  },
  {
   "cell_type": "markdown",
   "metadata": {},
   "source": [
    "![三次样条插值](img/三次样条插值1.png)\n",
    "- 其中$h_{j}=x_{j+1}-x_{j}$ 这里的$j$是从$(1,n-1)$开始的"
   ]
  },
  {
   "cell_type": "code",
   "execution_count": 55,
   "metadata": {},
   "outputs": [],
   "source": [
    "u_lb_d = []\n",
    "for j in range(1,size - 1):\n",
    "    hj = x[j + 1] - x[j]\n",
    "    hj_1 = x[j] - x[j - 1]\n",
    "    \n",
    "    u = hj_1 / (hj_1 + hj)\n",
    "    lb = hj / (hj_1 + hj)\n",
    "    d = 6 / (hj_1 + hj) * ((y[j + 1] - y[j]) / hj - (y[j] - y[j - 1] / hj_1))\n",
    "    u_lb_d.append((u,lb,d))"
   ]
  },
  {
   "cell_type": "markdown",
   "metadata": {},
   "source": [
    "![三次样条插值2](img/三次样条插值2.png)"
   ]
  },
  {
   "cell_type": "code",
   "execution_count": 56,
   "metadata": {},
   "outputs": [],
   "source": [
    "# 算出满足边界条件的值\n",
    "d_0 = 6 / (x[1] - x[0]) * ( (y[1] - y[0]) / (x[1] - x[0]) - y0)\n",
    "d_n = 6 / (x[size - 1] - x[size - 2]) * (yn - ((y[size - 1] - y[size - 2]) / (x[size - 1] - x[size - 2])))"
   ]
  },
  {
   "cell_type": "markdown",
   "metadata": {},
   "source": [
    "![三次样条插值4.png](img/三次样条插值4.png)"
   ]
  },
  {
   "cell_type": "markdown",
   "metadata": {},
   "source": [
    "![三次样条插值3.png](img/三次样条插值3.png)"
   ]
  },
  {
   "cell_type": "code",
   "execution_count": 57,
   "metadata": {},
   "outputs": [],
   "source": [
    "A = np.zeros((size,size))\n",
    "A[0][0] = 2; A[0][1] = 1\n",
    "A[size - 1][size - 2] = 1\n",
    "A[size - 1][size - 1] = 2\n",
    "d = []\n",
    "d.append(d_0)\n",
    "for i,u_lb_d_i in enumerate(u_lb_d):\n",
    "    A[i + 1][i] = u_lb_d_i[0]\n",
    "    A[i + 1][i + 1] = 2\n",
    "    A[i + 1][i + 2] = u_lb_d_i[1]\n",
    "    d.append(u_lb_d_i[2])\n",
    "d.append(d_n)"
   ]
  },
  {
   "cell_type": "code",
   "execution_count": 58,
   "metadata": {},
   "outputs": [],
   "source": [
    "M = np.dot(inv(A),d)"
   ]
  },
  {
   "cell_type": "code",
   "execution_count": 59,
   "metadata": {},
   "outputs": [
    {
     "data": {
      "text/plain": [
       "array([ 0.00982219,  0.01377018,  0.05998398,  0.09923508,  0.74307569,\n",
       "       -1.87153785,  0.74307569,  0.09923508,  0.05998398,  0.01377018,\n",
       "        0.00982219])"
      ]
     },
     "execution_count": 59,
     "metadata": {},
     "output_type": "execute_result"
    }
   ],
   "source": [
    "M"
   ]
  },
  {
   "cell_type": "markdown",
   "metadata": {},
   "source": [
    "![三次样条插值5.png](img/三次样条插值5.png)"
   ]
  },
  {
   "cell_type": "code",
   "execution_count": 60,
   "metadata": {},
   "outputs": [
    {
     "data": {
      "text/plain": [
       "11"
      ]
     },
     "execution_count": 60,
     "metadata": {},
     "output_type": "execute_result"
    }
   ],
   "source": [
    "len(x)"
   ]
  },
  {
   "cell_type": "code",
   "execution_count": 61,
   "metadata": {},
   "outputs": [],
   "source": [
    "pred_y = []\n",
    "for test_x_i in test_x:\n",
    "    ## 判断在哪个区间\n",
    "    j = -1\n",
    "    for i in range(len(x) - 1):\n",
    "        if test_x_i >= x[i] and test_x_i <= x[i + 1]:\n",
    "            j = i;\n",
    "            break;\n",
    "    #### 代入对应区间的表达式进行求解\n",
    "    hj = x[j + 1] - x[j]\n",
    "    y_ = ((x[j + 1] - test_x_i)**3 * M[j]  + (test_x_i - x[j]) **3 * M[j + 1]) / (6 * hj) + (y[j] - M[j] * hj **2 / 6) * (x[j + 1] - test_x_i) / hj + (y[j + 1] - M[j + 1] * hj **2 / 6) * (test_x_i - x[j]) / hj \n",
    "    pred_y.append(y_)"
   ]
  },
  {
   "cell_type": "code",
   "execution_count": 62,
   "metadata": {},
   "outputs": [
    {
     "data": {
      "text/plain": [
       "[<matplotlib.lines.Line2D at 0x114567a20>,\n",
       " <matplotlib.lines.Line2D at 0x1145fa278>]"
      ]
     },
     "execution_count": 62,
     "metadata": {},
     "output_type": "execute_result"
    },
    {
     "data": {
      "image/png": "[encoded data removed]",
      "text/plain": [
       "<Figure size 432x288 with 1 Axes>"
      ]
     },
     "metadata": {},
     "output_type": "display_data"
    }
   ],
   "source": [
    "plt.xlim(-5,5)\n",
    "plt.ylim(-0.5,2)\n",
    "plt.plot(test_x,fun(test_x),'--',c = 'b')\n",
    "plt.plot(test_xy[:,0],test_xy[:,1],'--','r')\n",
    "plt.plot(test_x,pred_y,'*','r')"
   ]
  },
  {
   "cell_type": "markdown",
   "metadata": {},
   "source": [
    "### 真的完全拟合原来的数据，三次样条插值法是真的强大啊\n",
    "- 该方法是一个全局方法，改动一点原始数据就需要重新计算M矩阵，\n",
    "- 而hermit插值是不需要的，其只需要进行局部修改。"
   ]
  },
  {
   "cell_type": "markdown",
   "metadata": {},
   "source": [
    "## 插值方法比较\n",
    "![插值方法比较](img/插值方法比较.png)"
   ]
  },
  {
   "cell_type": "code",
   "execution_count": null,
   "metadata": {},
   "outputs": [],
   "source": []
  }
 ],
 "metadata": {
  "kernelspec": {
   "display_name": "Python 3",
   "language": "python",
   "name": "python3"
  },
  "language_info": {
   "codemirror_mode": {
    "name": "ipython",
    "version": 3
   },
   "file_extension": ".py",
   "mimetype": "text/x-python",
   "name": "python",
   "nbconvert_exporter": "python",
   "pygments_lexer": "ipython3",
   "version": "3.5.2rc1"
  }
 },
 "nbformat": 4,
 "nbformat_minor": 1
}
