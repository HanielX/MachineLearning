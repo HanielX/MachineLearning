{
 "cells": [
  {
   "cell_type": "markdown",
   "metadata": {
    "collapsed": true
   },
   "source": [
    "### 复化求积公式"
   ]
  },
  {
   "cell_type": "code",
   "execution_count": 7,
   "metadata": {},
   "outputs": [],
   "source": [
    "from utils import *\n",
    "import numpy as np\n",
    "import matplotlib.pyplot as plt"
   ]
  },
  {
   "cell_type": "code",
   "execution_count": 34,
   "metadata": {},
   "outputs": [],
   "source": [
    "def fun(x):\n",
    "    return 1 /x;"
   ]
  },
  {
   "cell_type": "code",
   "execution_count": 35,
   "metadata": {},
   "outputs": [],
   "source": [
    "x = np.arange(1,10,0.1)"
   ]
  },
  {
   "cell_type": "code",
   "execution_count": 36,
   "metadata": {},
   "outputs": [],
   "source": [
    "y = fun(x)"
   ]
  },
  {
   "cell_type": "code",
   "execution_count": 37,
   "metadata": {},
   "outputs": [
    {
     "data": {
      "text/plain": [
       "[<matplotlib.lines.Line2D at 0x1148819e8>]"
      ]
     },
     "execution_count": 37,
     "metadata": {},
     "output_type": "execute_result"
    },
    {
     "data": {
      "image/png": "[encoded data removed]",
      "text/plain": [
       "<Figure size 432x288 with 1 Axes>"
      ]
     },
     "metadata": {},
     "output_type": "display_data"
    }
   ],
   "source": [
    "plt.plot(x,y)"
   ]
  },
  {
   "cell_type": "markdown",
   "metadata": {},
   "source": [
    "### 基本的NewtonCotes\n",
    "![NewtonCotes](img/NewtonCotes.png)"
   ]
  },
  {
   "cell_type": "markdown",
   "metadata": {},
   "source": [
    "- 特点:\n",
    "    - 因为使用高阶Newton-Cotes公式存在不稳定现象，故将区间进行等分，然后求解"
   ]
  },
  {
   "cell_type": "markdown",
   "metadata": {},
   "source": [
    "### 复化梯形积分\n",
    "- $\\int_{a}^{b}f(x)dx \\approx \\frac{h}{2} (f(a) + f(b) + 2\\sum_{i=1}^{n-1}f(x_{i})), h = x_{i+1}-x_{i} $ \n",
    "- ![梯形误差公式](img/梯形误差公式.png)"
   ]
  },
  {
   "cell_type": "code",
   "execution_count": 74,
   "metadata": {},
   "outputs": [],
   "source": [
    "### 随着n依次增大，有效位数相同的额越多\n",
    "def T(n):\n",
    "    a = 1;b = 10\n",
    "    h = (b - a) / n\n",
    "    x = np.arange(a,b,h)\n",
    "    sum = h / 2 * (fun(1) + fun(10) + 2 * np.sum( [ fun(x[i + 1]) for i in range(len(x) - 1)]))\n",
    "    R = h**2 * 9 / 6\n",
    "    return (sum,R)"
   ]
  },
  {
   "cell_type": "code",
   "execution_count": 75,
   "metadata": {},
   "outputs": [
    {
     "data": {
      "text/plain": [
       "2.302585092994046"
      ]
     },
     "execution_count": 75,
     "metadata": {},
     "output_type": "execute_result"
    }
   ],
   "source": [
    "np.log(10) - np.log(1)"
   ]
  },
  {
   "cell_type": "code",
   "execution_count": 76,
   "metadata": {},
   "outputs": [],
   "source": [
    "n_list = [(i + 1) * 100 for i in range(10)]\n",
    "sum = []\n",
    "R = []\n",
    "for n in n_list:\n",
    "    tmp = T(n)\n",
    "    sum.append(tmp[0])\n",
    "    R.append(tmp[1])"
   ]
  },
  {
   "cell_type": "code",
   "execution_count": 77,
   "metadata": {},
   "outputs": [
    {
     "data": {
      "text/plain": [
       "[<matplotlib.lines.Line2D at 0x107bb4198>]"
      ]
     },
     "execution_count": 77,
     "metadata": {},
     "output_type": "execute_result"
    },
    {
     "data": {
      "image/png": "[encoded data removed]",
      "text/plain": [
       "<Figure size 432x288 with 1 Axes>"
      ]
     },
     "metadata": {},
     "output_type": "display_data"
    }
   ],
   "source": [
    "### 可以看出随着n依次增大，那么误差是呈\n",
    "plt.plot(range(len(R)), R)"
   ]
  },
  {
   "attachments": {},
   "cell_type": "markdown",
   "metadata": {},
   "source": [
    "### 复化Simpson求积公式\n",
    "![复化Simpson求积公式](img/复化Simpson求积公式.png)\n",
    "![误差公式](img/Simpson误差公式.png)"
   ]
  },
  {
   "cell_type": "code",
   "execution_count": 82,
   "metadata": {},
   "outputs": [],
   "source": [
    "def S(n):\n",
    "    a = 1;b = 10\n",
    "    h = (b - a) / n\n",
    "    x = np.arange(a,b,h)\n",
    "    sum = h / 6 * (fun(1) + fun(10) + 4 * np.sum([fun(x[i] + h / 2) for i in range(len(x) - 1)]) + 2 * np.sum([fun(x[i + 1]) for i in range(len(x) - 1)]))\n",
    "    R = 9 * h**4 * 120 / 2880\n",
    "    return (sum,R)"
   ]
  },
  {
   "cell_type": "code",
   "execution_count": 94,
   "metadata": {},
   "outputs": [],
   "source": [
    "sum_s = []\n",
    "R_s = []\n",
    "s_list = [(i + 1) * 50 for i in range(10)]\n",
    "for n in s_list:\n",
    "    tmp = S(n)\n",
    "    sum_s.append(tmp[0])\n",
    "    R_s.append(tmp[1])"
   ]
  },
  {
   "cell_type": "code",
   "execution_count": 95,
   "metadata": {},
   "outputs": [
    {
     "data": {
      "text/plain": [
       "[0.01215,\n",
       " 0.0030375,\n",
       " 0.0013499999999999999,\n",
       " 0.000759375,\n",
       " 0.00048599999999999994]"
      ]
     },
     "execution_count": 95,
     "metadata": {},
     "output_type": "execute_result"
    },
    {
     "data": {
      "image/png": "[encoded data removed]",
      "text/plain": [
       "<Figure size 432x288 with 1 Axes>"
      ]
     },
     "metadata": {},
     "output_type": "display_data"
    }
   ],
   "source": [
    "plt.plot(range(len(R_s)),R_s)\n",
    "R[:5]"
   ]
  },
  {
   "cell_type": "code",
   "execution_count": 96,
   "metadata": {},
   "outputs": [
    {
     "data": {
      "text/plain": [
       "[0.00039366,\n",
       " 2.460375e-05,\n",
       " 4.859999999999999e-06,\n",
       " 1.537734375e-06,\n",
       " 6.298559999999999e-07]"
      ]
     },
     "execution_count": 96,
     "metadata": {},
     "output_type": "execute_result"
    }
   ],
   "source": [
    "R_s[:5]"
   ]
  },
  {
   "cell_type": "markdown",
   "metadata": {},
   "source": [
    "### Conclusion \n",
    "- Simpson的收敛速度确实比梯形公式要快\n",
    "- 而且公式"
   ]
  }
 ],
 "metadata": {
  "kernelspec": {
   "display_name": "Python 3",
   "language": "python",
   "name": "python3"
  },
  "language_info": {
   "codemirror_mode": {
    "name": "ipython",
    "version": 3
   },
   "file_extension": ".py",
   "mimetype": "text/x-python",
   "name": "python",
   "nbconvert_exporter": "python",
   "pygments_lexer": "ipython3",
   "version": "3.5.2rc1"
  }
 },
 "nbformat": 4,
 "nbformat_minor": 1
}
