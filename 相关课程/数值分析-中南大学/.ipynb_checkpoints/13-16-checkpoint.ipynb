{
 "cells": [
  {
   "cell_type": "code",
   "execution_count": 2,
   "metadata": {},
   "outputs": [],
   "source": [
    "from utils import *"
   ]
  },
  {
   "cell_type": "markdown",
   "metadata": {
    "collapsed": true
   },
   "source": [
    "### 牛顿插值法\n",
    "![牛顿插值法](img/牛顿插值法.png)\n",
    "![牛顿插值法](img/牛顿插值法2.png)\n",
    "![插值表](img/插值表.png)\n",
    "![比较](img/拉格朗日插值和牛顿插值比较.png)"
   ]
  },
  {
   "cell_type": "markdown",
   "metadata": {},
   "source": [
    "### 均差和导数之间的关系\n",
    "$$f[x_{0},x_{1},...,x_{n}] = \\frac{1}{n!}f(\\xi)^{n'}$$"
   ]
  },
  {
   "cell_type": "code",
   "execution_count": 3,
   "metadata": {},
   "outputs": [],
   "source": [
    "x = np.arange(-5,5,1) # 最后一个参数是生成点的间隔\n",
    "y = fun(x)\n",
    "arr = np.vstack((x,y)).T"
   ]
  },
  {
   "cell_type": "code",
   "execution_count": 8,
   "metadata": {},
   "outputs": [],
   "source": [
    "check_x = np.arange(-5,5,0.1)\n",
    "origin_y = fun(check_x)\n",
    "newton_xy = newton(arr,check_x)"
   ]
  },
  {
   "cell_type": "code",
   "execution_count": 9,
   "metadata": {},
   "outputs": [
    {
     "data": {
      "text/plain": [
       "[<matplotlib.lines.Line2D at 0x11489d8d0>,\n",
       " <matplotlib.lines.Line2D at 0x11489deb8>]"
      ]
     },
     "execution_count": 9,
     "metadata": {},
     "output_type": "execute_result"
    },
    {
     "data": {
      "image/png": "[encoded data removed]",
      "text/plain": [
       "<Figure size 432x288 with 1 Axes>"
      ]
     },
     "metadata": {},
     "output_type": "display_data"
    }
   ],
   "source": [
    "plt.xlim(-5,5)\n",
    "plt.ylim(-0.5,2)\n",
    "plt.plot(check_x,origin_y,'--',c = 'b')\n",
    "plt.plot(newton_xy[:,0],newton_xy[:,1],'--','r')"
   ]
  },
  {
   "cell_type": "markdown",
   "metadata": {},
   "source": [
    "### 不管是牛顿法还是多项式插值，拉格朗日插值都是等价的"
   ]
  },
  {
   "cell_type": "markdown",
   "metadata": {},
   "source": [
    "### x节点是等距\n",
    "![差分](img/差分.png)\n",
    "一阶差分 $\\Delta f_{k}=f_{k+1}-f_{k} $\n",
    "![高阶差分](img/高阶差分.png)\n",
    "![差分表](img/差分表.png)\n",
    "![查分的性质](img/差分的性质.png)"
   ]
  },
  {
   "cell_type": "markdown",
   "metadata": {},
   "source": [
    "- 式子中的$(I+\\Delta) = E$,因为$Ef_{k} =f_{k+1}$,$(I+\\Delta)f_{k}=If_{k}+\\Delta f_{k} = f_{k}+f_{k+1}-f_{k}=f_{k+1}$，所以是等价的"
   ]
  },
  {
   "cell_type": "markdown",
   "metadata": {},
   "source": [
    "![性质等距差距](img/性质等距差距.png)\n",
    "![牛顿插值等距情况](img/牛顿插值等距情况.png)"
   ]
  },
  {
   "cell_type": "markdown",
   "metadata": {},
   "source": [
    "- 这是向后面进行的插值计算，而向前面进行的插值，只需要将加号换成减号就可以。"
   ]
  }
 ],
 "metadata": {
  "kernelspec": {
   "display_name": "Python 3",
   "language": "python",
   "name": "python3"
  },
  "language_info": {
   "codemirror_mode": {
    "name": "ipython",
    "version": 3
   },
   "file_extension": ".py",
   "mimetype": "text/x-python",
   "name": "python",
   "nbconvert_exporter": "python",
   "pygments_lexer": "ipython3",
   "version": "3.5.2rc1"
  }
 },
 "nbformat": 4,
 "nbformat_minor": 1
}
