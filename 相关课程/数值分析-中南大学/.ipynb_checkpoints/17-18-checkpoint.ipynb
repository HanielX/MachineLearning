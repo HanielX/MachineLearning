{
 "cells": [
  {
   "cell_type": "markdown",
   "metadata": {
    "collapsed": true
   },
   "source": [
    " ### Hermite插值多项式\n",
    " - <b>解决的是有导数的情况</b>\n",
    " - 已知$$ (x_{0},y_{0}),(x_{1},y_{1}),(x_{0},y_{0}^{'}),(x_{1},y_{1}^{'}))$$ ,其中$y_{0}^{'} = m_{0}, y_{1}^{'} = m_{1}$构造一个插值多项式\n",
    " - $H(x) = y_{0} \\times \\alpha_{0}(x) + y_{1} \\times \\alpha_{1}(x) +m_{0} \\times \\beta_{0}(x)^{'}  + m_{1} \\times \\beta_{1}(x)^{'}$\n",
    " - $\\alpha_{0}$和$\\alpha_{1}$的构造方法如下 $$\\alpha_{0}(x)=(A+B(x-x_{0}))\\times (\\frac{x-x_{1}}{x_{0}-x_{1}})^{2}$$ 然后将AB的值求出来。\n",
    " - $\\beta_{0}$ 和 $\\beta_{1}$的构造方法如下 $$\\beta_{0}(x)=D(x-x_{0}) \\times (\\frac{x-x_{1}}{x_{0}-x_{1}})^2$$\n",
    " - 最后构造的函数为$$H(x)=y_{0} \\times (1+2 \\frac{x-x_{0}}{x_{1}-x_{0}})\\times (\\frac{x-x_{1}}{x_{0}-x_{1}})^{2} + y_{1} \\times (1+2\\frac{x-x_{1}}{x_{0}-x_{1}})\\times (\\frac{x-x_{0}}{x_{1}-x_{0}})^{2} + m_{0} \\times (x-x_{0}) \\times (\\frac{x-x_{1}}{x_{0}-x_{1}})^2 + m_{1} \\times (x-x_{1}) \\times (\\frac{x-x_{0}}{x_{1}-x_{0}})^2$$\n",
    " - 误差函数\n",
    " $R(x) = \\frac{f(\\xi)^{''''}}{4!} (x-x_{0})^{2} (x-x_{1})^{2}$ 在$x_{0},x_{1}$处的值和导数值没有误差。\n",
    " - 证明\n",
    " - 构造函数 $$\\alpha(t) = f(t) + H(t) - k(x)(x-x_{0})^2(x-x_{1})^2$$ 求得在$x$处的误差为0\n",
    " "
   ]
  },
  {
   "cell_type": "markdown",
   "metadata": {},
   "source": [
    "### Hermite插值基函数\n",
    "$$\\alpha_{i}(x) = (1-2*l_{i}(x_{i})^{'} \\times (x-x_{i}))l(x_{i})^2$$\n",
    "$$\\beta_{i}(x) = (x-x_{i})l(x_{i})^2$$\n",
    "$$l(x_{i}) = \\prod_{j=0,j!=i}^{n}(\\frac{x-x_{j}}{x_{i}-x_{j}})^2$$\n",
    "$$l(x_{i})^{'} = \\sum_{j=0,i!=j}^{n}\\frac{1}{x_{i}-x_{j}}$$"
   ]
  },
  {
   "cell_type": "markdown",
   "metadata": {},
   "source": [
    "### 插值余项\n",
    "![插值余项](img/插值余项1.png)"
   ]
  },
  {
   "cell_type": "markdown",
   "metadata": {},
   "source": [
    "### 结论\n",
    "- 虽然高次多项式可以拟合数据，但是会出现runge(龙格现象)，那么解决方法就是分段低次插值。"
   ]
  },
  {
   "cell_type": "markdown",
   "metadata": {},
   "source": [
    "### 分段线性插值"
   ]
  },
  {
   "cell_type": "markdown",
   "metadata": {},
   "source": [
    "![分段插值定义](img/分段插值.png)"
   ]
  },
  {
   "cell_type": "code",
   "execution_count": null,
   "metadata": {},
   "outputs": [],
   "source": []
  }
 ],
 "metadata": {
  "kernelspec": {
   "display_name": "Python 3",
   "language": "python",
   "name": "python3"
  },
  "language_info": {
   "codemirror_mode": {
    "name": "ipython",
    "version": 3
   },
   "file_extension": ".py",
   "mimetype": "text/x-python",
   "name": "python",
   "nbconvert_exporter": "python",
   "pygments_lexer": "ipython3",
   "version": "3.5.2rc1"
  }
 },
 "nbformat": 4,
 "nbformat_minor": 1
}
