{
 "cells": [
  {
   "cell_type": "markdown",
   "metadata": {},
   "source": [
    "### 数值分析\n",
    "- 是研究用计算机求解各种数学问题的<b>数值方法及其理论</b>的一门学科!\n",
    "- 研究内容：\n",
    "    - 数值逼近：插值与逼近，数值积分与数值微分。\n",
    "    - 数值代数：线性代数方程组的数值解法，非线性方程(组)数值解法，代数特征值问题的数值解法!\n",
    "    - 常微分方程与偏微分方程的数值解法!"
   ]
  },
  {
   "cell_type": "markdown",
   "metadata": {},
   "source": [
    "### 数字计算中的误差\n",
    "![数字计算中的误差](img/数值计算中的误差.png)"
   ]
  },
  {
   "cell_type": "markdown",
   "metadata": {
    "collapsed": true
   },
   "source": [
    "## 误差的来源\n",
    "- 模型误差\n",
    "- 观测误差\n",
    "- 方法误差 Truncation error\n",
    "- 舍入误差 Round-off error\n",
    "- 绝对误差 $ y - \\tilde{y}$ 真实值和预测值的差值，\n",
    "- 相对误差 $\\frac{y - \\tilde{y}}{y}$ 是相对的\n",
    "- 绝对误差界$|x-x_{A}| \\leq \\varepsilon_{A} $，其中$\\varepsilon$称为绝对误差\n",
    "- 相对误差 $\\frac{|\\varepsilon|}{x} = \\varepsilon_{r}$ 为$x_{A}$的相对误差，但通常情况下$x$并不知道，所以用$x_{A}$来代替$x$\n",
    "- 有效数字 $x_{A} = \\pm 10_{k} \\times 0.a_{1}a_{2}...a_{i}...$，$|x-x_{A}| \\leq 0.5 \\times 10^{k-n}$,则称$x_{A}$具有n位有效数字。"
   ]
  },
  {
   "cell_type": "markdown",
   "metadata": {},
   "source": [
    "### 有效数字和相对误差的关系"
   ]
  },
  {
   "cell_type": "markdown",
   "metadata": {},
   "source": [
    "![有效数字和相对误差的关系](img/有效数字和相对误差的关系.png)"
   ]
  },
  {
   "cell_type": "markdown",
   "metadata": {},
   "source": [
    "### 函数求值的误差估计\n",
    "- 一元函数，利用泰勒展开式，可近似得到误差限$\\varepsilon (f(x_{A})) \\approx |f'(x_{A})| \\varepsilon(x_{A})$\n",
    "- 多元函数，利用泰勒展开式，可近似得到误差限$\\varepsilon (f(u_{A})) = \\sum_{k=1}^{n}|\\frac{\\sigma(f)}{\\sigma(x_{k})}| \\times \\varepsilon (x_{kA})$\n",
    "- 函数误差可以理解为值误差在该点导数的加权求和。"
   ]
  },
  {
   "cell_type": "markdown",
   "metadata": {},
   "source": [
    "![四则运算](img/误差的四则运算.png)"
   ]
  },
  {
   "cell_type": "markdown",
   "metadata": {},
   "source": [
    "### 避免有效数字的损失\n",
    "- 防止“大数”吃“小数”\n",
    "- 防止两个相近的数相减"
   ]
  },
  {
   "cell_type": "code",
   "execution_count": 1,
   "metadata": {},
   "outputs": [],
   "source": [
    "import numpy as np\n",
    "import pandas as pd"
   ]
  },
  {
   "cell_type": "code",
   "execution_count": 2,
   "metadata": {},
   "outputs": [
    {
     "name": "stdout",
     "output_type": "stream",
     "text": [
      "119.79891640874803\n"
     ]
    }
   ],
   "source": [
    "sum = 100\n",
    "for i in range(100):\n",
    "    tmp = min(0.4,max(0.1,np.random.random()/ 2 - 0.1))\n",
    "    sum += tmp;\n",
    "print(sum)\n",
    "# 如果只保留一定的有效数字，那么结果将还是100"
   ]
  },
  {
   "cell_type": "markdown",
   "metadata": {},
   "source": [
    "- 误差的传递性，在递推的过程中，如果初始值在刚开始的时候是有误差的，那么就需要沿着误差减小的方向进行，尽量不要沿着误差变大的方向进行,例如:\n",
    "$I_{n}+5I_{n-1}=\\frac{1}{n}$ n从0往后面推的话误差是依次扩大5倍，但是要是倒过来误差就是上一次误差的$\\frac{1}{5}$"
   ]
  }
 ],
 "metadata": {
  "kernelspec": {
   "display_name": "Python 3",
   "language": "python",
   "name": "python3"
  },
  "language_info": {
   "codemirror_mode": {
    "name": "ipython",
    "version": 3
   },
   "file_extension": ".py",
   "mimetype": "text/x-python",
   "name": "python",
   "nbconvert_exporter": "python",
   "pygments_lexer": "ipython3",
   "version": "3.5.2rc1"
  }
 },
 "nbformat": 4,
 "nbformat_minor": 1
}
