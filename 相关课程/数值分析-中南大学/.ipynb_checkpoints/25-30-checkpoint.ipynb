{
 "cells": [
  {
   "cell_type": "markdown",
   "metadata": {
    "collapsed": true
   },
   "source": [
    "### 四种不同的正交多项式\n",
    "- 勒比得(Legendra)多项式\n",
    "- 第一类Chebyshev多项式\n",
    "- 拉盖尔(Laguerre)多项式\n",
    "- Hermite 多项式"
   ]
  },
  {
   "attachments": {},
   "cell_type": "markdown",
   "metadata": {},
   "source": [
    "### 最佳平方逼近\n",
    "![最佳平方逼近3.png](img/最佳平方逼近3.png)"
   ]
  },
  {
   "attachments": {},
   "cell_type": "markdown",
   "metadata": {},
   "source": [
    "![最佳平方逼近1.png](img/最佳平方逼近1.png)\n",
    "- 该矩阵是通过求导求出来的"
   ]
  },
  {
   "cell_type": "markdown",
   "metadata": {},
   "source": [
    "![最佳平方逼近2.png](img/最佳平方逼近2.png)"
   ]
  },
  {
   "cell_type": "markdown",
   "metadata": {},
   "source": [
    "### 希尔伯特矩阵\n",
    "![希尔伯特矩阵](img/希尔伯特矩阵.png)\n",
    "- 就是由${x,x,x^2,...,x^n}$基函数，用最佳逼近方法得到的法方程的系数矩阵。"
   ]
  },
  {
   "cell_type": "code",
   "execution_count": 1,
   "metadata": {},
   "outputs": [],
   "source": [
    "## 基函数为{1,x}用最佳平方逼近的方法来求近似表达式近似sqrt(1 + x^2) 在(0,1)区间上"
   ]
  },
  {
   "cell_type": "markdown",
   "metadata": {},
   "source": [
    "- 矩阵表达式\n",
    "$$\\begin{bmatrix}1 && \\frac{1}{2} \\\\ \\frac{1}{2} && \\frac{1}{3}\\end{bmatrix} a = \\begin{bmatrix}0.147 \\\\0.109\\end{bmatrix}$$"
   ]
  },
  {
   "cell_type": "code",
   "execution_count": 12,
   "metadata": {},
   "outputs": [],
   "source": [
    "import numpy as np\n",
    "from numpy.linalg import *\n",
    "import matplotlib.pyplot as plt"
   ]
  },
  {
   "cell_type": "code",
   "execution_count": 44,
   "metadata": {},
   "outputs": [],
   "source": [
    "X = np.array([[1,1/2],[1/2,0.3]])\n",
    "y = np.array([1.147,0.609])"
   ]
  },
  {
   "cell_type": "code",
   "execution_count": 45,
   "metadata": {},
   "outputs": [
    {
     "data": {
      "text/plain": [
       "array([0.792, 0.71 ])"
      ]
     },
     "execution_count": 45,
     "metadata": {},
     "output_type": "execute_result"
    }
   ],
   "source": [
    "a = np.dot(inv(X),y.transpose())\n",
    "x = np.arange(0,1,0.01)\n",
    "true_y = np.sqrt(1 + x**2)\n",
    "pred = a[0] + x * a[1]\n",
    "a"
   ]
  },
  {
   "cell_type": "code",
   "execution_count": 46,
   "metadata": {},
   "outputs": [
    {
     "data": {
      "text/plain": [
       "[<matplotlib.lines.Line2D at 0x11335e240>]"
      ]
     },
     "execution_count": 46,
     "metadata": {},
     "output_type": "execute_result"
    },
    {
     "data": {
      "image/png": "[encoded data removed]",
      "text/plain": [
       "<Figure size 432x288 with 1 Axes>"
      ]
     },
     "metadata": {},
     "output_type": "display_data"
    }
   ],
   "source": [
    "plt.plot(x,true_y,'-',c='r')\n",
    "plt.plot(x,pred,'--',c='b')"
   ]
  },
  {
   "cell_type": "code",
   "execution_count": 47,
   "metadata": {},
   "outputs": [
    {
     "data": {
      "text/plain": [
       "[<matplotlib.lines.Line2D at 0x113535710>]"
      ]
     },
     "execution_count": 47,
     "metadata": {},
     "output_type": "execute_result"
    },
    {
     "data": {
      "image/png": "[encoded data removed]",
      "text/plain": [
       "<Figure size 432x288 with 1 Axes>"
      ]
     },
     "metadata": {},
     "output_type": "display_data"
    }
   ],
   "source": [
    "X2 = np.array([[1,1/2],[1/2,0.33333333333]])\n",
    "a2 = np.dot(inv(X2),y.transpose())\n",
    "pred2 = a2[0] + x * a2[1]\n",
    "plt.plot(x,true_y,'-',c='r')\n",
    "plt.plot(x,pred2,'--',c='b')"
   ]
  },
  {
   "cell_type": "markdown",
   "metadata": {},
   "source": [
    "### 希尔伯特矩阵是病态矩阵，即如果矩阵元素有很大的误差，那么结果会影响很大。"
   ]
  },
  {
   "cell_type": "markdown",
   "metadata": {},
   "source": [
    "### 常见的正交多项式\n",
    "![常见的正交多项式](img/常见的正交多项式.png)"
   ]
  },
  {
   "cell_type": "code",
   "execution_count": null,
   "metadata": {},
   "outputs": [],
   "source": []
  }
 ],
 "metadata": {
  "kernelspec": {
   "display_name": "Python 3",
   "language": "python",
   "name": "python3"
  },
  "language_info": {
   "codemirror_mode": {
    "name": "ipython",
    "version": 3
   },
   "file_extension": ".py",
   "mimetype": "text/x-python",
   "name": "python",
   "nbconvert_exporter": "python",
   "pygments_lexer": "ipython3",
   "version": "3.5.2rc1"
  }
 },
 "nbformat": 4,
 "nbformat_minor": 1
}
