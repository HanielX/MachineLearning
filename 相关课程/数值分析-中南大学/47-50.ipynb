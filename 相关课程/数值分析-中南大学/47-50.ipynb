{
 "cells": [
  {
   "cell_type": "markdown",
   "metadata": {
    "collapsed": true
   },
   "source": [
    "### Gauss公式\n",
    "- Gauss求积公式的系数$A_{k}(k=0,1,...,n)$全部为正。\n",
    "- 算$I_{n} = \\sum_{k=0}^{n}A_{k}f(x_{k})$时$f(x)$不能精确知道，所以一般只能是近似值，$f*(x) \\sim f(x)$,实际求得的积分值为$I_{n}=\\sum_{k=0}^{n}A_{k}f^*(x_{k})$,所以有以下定理:$|I_{n}^* - I_{n}| \\leq max_{0 \\leq k \\leq n}|f^{*}(x_{k}) - f(x_{k})| \\int_{a}^{b} \\rho(x)dx$"
   ]
  },
  {
   "cell_type": "markdown",
   "metadata": {},
   "source": [
    "### 例题\n",
    "- 1.若用复化梯形公式计算积分$\\int_{0}^{1} e^{x} dx$，问积分区间要多少等分才能保证有6为有效数字？\n",
    "- 解答: 首先梯形公式的误差为 ![梯形误差公式](img/梯形误差公式.png)\n",
    "    - $\\frac{e}{12n^2} \\leq \\frac{1}{2} \\times 10^{-5}$"
   ]
  },
  {
   "cell_type": "markdown",
   "metadata": {},
   "source": [
    "- 2 用Romberg求积法计算$\\int_{0}^{1} \\frac{4}{1 + x^2}dx$的近似值，要求误差$\\leq 10^{-5}$\n",
    "- 解答：\n",
    "    - $T_{1} = \\frac{1}{2}[f(0) + f(1)] = 3$\n",
    "    - $T_{2} = \\frac{1}{2} T_{1} + \\frac{1}{2} f(\\frac{1}{2}) = 3.1$\n",
    "    - $S_{1} = \\frac{4}{3} T_{2} - \\frac{1}{3}T_{1} = 3.13333$\n",
    "    - $T_{4} = \\frac{1}{2} T_{2} + \\frac{1}{4}[f(\\frac{1}{4}) + f(\\frac{3}{4})] = 3.13118$\n",
    "    - $S_{2} = \\frac{4}{3}T_{4} - \\frac{1}{3} T_{2} = 3.14157$\n",
    "    - $C_{1} = \\frac{4^2S^{2} - S^{1}}{4^2 - 1} = 3.14212$\n",
    "    - $T_{8} = \\frac{1}{2} T_{4} + \\frac{1}{8}[f(\\frac{1}{8}) + f(\\frac{3}{8}) + f(\\frac{7}{8})] = 3.13899$\n",
    "    - ...."
   ]
  },
  {
   "cell_type": "markdown",
   "metadata": {},
   "source": [
    "- 3 构造三个节点的Gauss-Legendre求积公式，并给出余项估计式\n",
    "- 解答:\n",
    "   - 由于三次多项式Legendre多项式为:$p_{3}(x) = \\frac{1}{2}(5x^3-3x)$\n",
    "   - 其三个零点分别为: $-\\frac{\\sqrt 15}{5},0,\\frac{\\sqrt 15}{5}$\n",
    "   - $\\int_{-1}^{1}f(x)dx \\approx \\sum_{k=0}^{2}A_{k}f(x_{k})$,令它对$f(x)=1,x,x^2$准确成立，求出$A_{k}$\n",
    "   - 最终求积公式为:\n",
    "   $\\int_{-1}^{1}f(x)dx \\approx \\frac{1}{9}[5 f(-\\frac{\\sqrt 15}{5}) + 8f(0) + 5f(\\frac{\\sqrt 15}{5}]$\n",
    "   - $R(f) = \\frac{f^{2n+2}(n)}{(2n+2)!}[\\frac{2^n (n + 2)^2}{(2n + 2)!}]^2 \\frac{2}{2n+2},n=2$"
   ]
  },
  {
   "cell_type": "markdown",
   "metadata": {},
   "source": [
    "- 4 给出计算积分$\\int_{-1}^{1}f(x)(1+x^2)dx$的两点计算公式，使得对$f(x)$为三次多项式时精确成立。\n",
    "    - 设$\\int_{-1}^{1}f(x)(1+x^2)dx \\approx af(x_{1}) + bf(x_{2})$\n",
    "    取$w(x) = (x - x_{1})(x - x_{2})$为二次多项式，对$w(x)$上式应该精确成立:\n",
    "    $\\int_{-1}^{1}w(x)(1 + x^2)dx = aw(x_{1}) + bw(x_{2})$\n",
    "    - 求积分得$16 + 40x_{1}x_{2} = 0$,并由对称性得$x_{1} = - \\sqrt \\frac{2}{5} ,x_{2} = \\sqrt \\frac{2}{5}$\n",
    "    - 求出$x_{1},x_{2}$后再利用基函数为$1,x$求得系数$a,b$"
   ]
  },
  {
   "cell_type": "markdown",
   "metadata": {},
   "source": [
    "### 数值微分\n"
   ]
  },
  {
   "cell_type": "markdown",
   "metadata": {},
   "source": [
    "![插值型求导公式](img/插值型求导公式.png)"
   ]
  },
  {
   "cell_type": "markdown",
   "metadata": {},
   "source": [
    "![插值余项](img/插值余项.png)"
   ]
  },
  {
   "cell_type": "markdown",
   "metadata": {},
   "source": [
    "![真正的插值余项](img/真正的插值余项.png)"
   ]
  },
  {
   "cell_type": "markdown",
   "metadata": {},
   "source": [
    "### 三次样条函数求导\n",
    "- 三次样条函数，其是利用了函数而二阶导数连续，一阶导数连续解方程组求得的。\n",
    "- ![三次样条函数求导](img/三次样条函数求导.png)"
   ]
  },
  {
   "cell_type": "markdown",
   "metadata": {},
   "source": [
    "### 外推法微分\n",
    "- ![数值微分的外推算法](img/数值微分外推算法.png)"
   ]
  }
 ],
 "metadata": {
  "kernelspec": {
   "display_name": "Python 3",
   "language": "python",
   "name": "python3"
  },
  "language_info": {
   "codemirror_mode": {
    "name": "ipython",
    "version": 3
   },
   "file_extension": ".py",
   "mimetype": "text/x-python",
   "name": "python",
   "nbconvert_exporter": "python",
   "pygments_lexer": "ipython3",
   "version": "3.5.2rc1"
  }
 },
 "nbformat": 4,
 "nbformat_minor": 1
}
