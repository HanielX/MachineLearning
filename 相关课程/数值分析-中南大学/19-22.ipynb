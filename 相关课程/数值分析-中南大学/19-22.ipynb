{
 "cells": [
  {
   "cell_type": "markdown",
   "metadata": {
    "collapsed": true
   },
   "source": [
    "### 分段线性函数误差估计\n",
    "![分段线性函数误差估计](img/分段线性函数误差估计.png)\n",
    "- h是区间长度的最大值\n",
    "- $C^{2}[a,b]$ 表示在区间[a,b]上2阶导数连续的集合"
   ]
  },
  {
   "cell_type": "markdown",
   "metadata": {},
   "source": [
    "- 对于分段线性插值来说，当区间之间的两点间隔最大值比较小时，那么函数和原函数非常接近，但是会存在尖点，函数不连续。"
   ]
  },
  {
   "cell_type": "markdown",
   "metadata": {},
   "source": [
    "### 三次样条插值函数\n",
    "- 其和三次Hermit插值的区别是：Hermit插值是知道导数值的，而三次样条插值函数是不知道导数值，只知道在区间存在二阶导数。"
   ]
  },
  {
   "cell_type": "markdown",
   "metadata": {},
   "source": [
    "### 求解的方法\n",
    "- 三弯矩法，以二阶导数为参数的方法"
   ]
  }
 ],
 "metadata": {
  "kernelspec": {
   "display_name": "Python 3",
   "language": "python",
   "name": "python3"
  },
  "language_info": {
   "codemirror_mode": {
    "name": "ipython",
    "version": 3
   },
   "file_extension": ".py",
   "mimetype": "text/x-python",
   "name": "python",
   "nbconvert_exporter": "python",
   "pygments_lexer": "ipython3",
   "version": "3.5.2rc1"
  }
 },
 "nbformat": 4,
 "nbformat_minor": 1
}
