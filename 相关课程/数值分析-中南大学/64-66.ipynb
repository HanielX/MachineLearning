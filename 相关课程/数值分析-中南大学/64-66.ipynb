{
 "cells": [
  {
   "cell_type": "markdown",
   "metadata": {
    "collapsed": true
   },
   "source": [
    "- 范数之间是等价的，即矩阵的无论什么范数都会趋向于一个常数。"
   ]
  },
  {
   "cell_type": "markdown",
   "metadata": {},
   "source": [
    "### 矩阵范数\n",
    "- 三角不等式$||A+B|| \\leq ||A|| + ||B||$\n",
    "- 相容性$||AB|| \\leq ||A|| ||B||$\n",
    "- $||A||_{F} \\neq max_{x \\neq 0,x \\in R^{n}} \\frac{||Ax||_{v}}{||x||_{2}}$,即不存在任何一个范数v使得等式成立。"
   ]
  },
  {
   "cell_type": "markdown",
   "metadata": {},
   "source": [
    "### 谱半径\n",
    "- 矩阵$A$的谱半径为矩阵$A$的所有特征值的模的最大值，记为$\\rho(A) = max_{1 \\leq i \\ \\leq n} |\\lambda_{i}|$,其中$\\lambda_{i}$为$A$的特征值。\n",
    "- 若$A$对称，则有$||A||_{2} = \\rho(A)$, 若$A$的特征值为$\\lambda_{1}$,则$A^{2} + 3A + I$的特征值为$\\lambda_{1}^2 + 3\\lambda_{1} + 1$\n",
    "- 若$A,B$ 对称，$\\rho(A+B) \\leq \\rho(A) + \\rho(B)$"
   ]
  },
  {
   "cell_type": "markdown",
   "metadata": {},
   "source": [
    "- 定理9 若矩阵$B$对某个算子范数满足$||B|| < 1$,则必有\n",
    "    - $I \\pm B$可逆。(可用矩阵的解来进行证明)\n",
    "    - $||(I \\pm B) ^{-1}|| \\leq \\frac{1}{1 - ||B||}$"
   ]
  },
  {
   "cell_type": "markdown",
   "metadata": {},
   "source": [
    "![定理9](img/定理9.png)"
   ]
  }
 ],
 "metadata": {
  "kernelspec": {
   "display_name": "Python 3",
   "language": "python",
   "name": "python3"
  },
  "language_info": {
   "codemirror_mode": {
    "name": "ipython",
    "version": 3
   },
   "file_extension": ".py",
   "mimetype": "text/x-python",
   "name": "python",
   "nbconvert_exporter": "python",
   "pygments_lexer": "ipython3",
   "version": "3.5.2rc1"
  }
 },
 "nbformat": 4,
 "nbformat_minor": 1
}
