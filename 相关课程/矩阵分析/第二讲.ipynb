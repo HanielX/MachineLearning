{
 "cells": [
  {
   "cell_type": "markdown",
   "metadata": {
    "collapsed": true
   },
   "source": [
    "### 线性映射\n",
    "- 定义:数域相同的线性空间$X$到线性空间$Y$的映射$T$称为线性映射。若$T$满足下列条件\n",
    "    - T(x+y)=T(x)+T(y)\n",
    "    - T(kx)=kT(x)\n",
    "- 一个向量$x$在线性空间$X$中的一组基下表示为$\\eta$，经过$T$映射后，在映射后的空间$Y$的一组基下表示为$\\xi$,那么存在$A$ 使得$\\xi = A\\eta $"
   ]
  },
  {
   "cell_type": "markdown",
   "metadata": {},
   "source": [
    "### 映射后之间的关系\n",
    "![映射后坐标之间的关系1](img/转换后坐标之间的关系1.png)\n",
    "- 开始之后的那个是$YA$"
   ]
  },
  {
   "attachments": {},
   "cell_type": "markdown",
   "metadata": {},
   "source": [
    "### 使用空间中不同的基\n",
    "![](img/不同基经过映射之后的关系.png)"
   ]
  },
  {
   "attachments": {},
   "cell_type": "markdown",
   "metadata": {},
   "source": [
    "### 矩阵$X$通过$Y$映射到$Z$\n",
    "![矩阵映射的传递性](img/矩阵映射的传递性.png)\n",
    "- 跟所经过的$Y$没有关系"
   ]
  },
  {
   "cell_type": "markdown",
   "metadata": {},
   "source": [
    "![子空间的关系](img/子空间的关系.png)"
   ]
  },
  {
   "cell_type": "markdown",
   "metadata": {},
   "source": [
    "### 零空间的核\n",
    "![零空间的核](img/零空间的核.png)"
   ]
  },
  {
   "cell_type": "markdown",
   "metadata": {},
   "source": [
    "![零空间的核2](img/零空间的核2.png)\n",
    "- 就是$W$中的元素进行变换之后变成了$Y$中的零空间。"
   ]
  },
  {
   "cell_type": "markdown",
   "metadata": {},
   "source": [
    "## 亏度\n",
    "![亏度](img/亏度.png)"
   ]
  }
 ],
 "metadata": {
  "kernelspec": {
   "display_name": "Python 3",
   "language": "python",
   "name": "python3"
  },
  "language_info": {
   "codemirror_mode": {
    "name": "ipython",
    "version": 3
   },
   "file_extension": ".py",
   "mimetype": "text/x-python",
   "name": "python",
   "nbconvert_exporter": "python",
   "pygments_lexer": "ipython3",
   "version": "3.5.2rc1"
  }
 },
 "nbformat": 4,
 "nbformat_minor": 1
}
