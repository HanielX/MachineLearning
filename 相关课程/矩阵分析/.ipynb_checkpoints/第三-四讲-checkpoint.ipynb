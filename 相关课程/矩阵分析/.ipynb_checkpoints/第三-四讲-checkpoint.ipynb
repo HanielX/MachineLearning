{
 "cells": [
  {
   "cell_type": "markdown",
   "metadata": {
    "collapsed": true
   },
   "source": [
    "![映射的数乘](img/映射的数乘.png)"
   ]
  },
  {
   "cell_type": "markdown",
   "metadata": {},
   "source": [
    "![定理1](img/定理1.png)"
   ]
  },
  {
   "cell_type": "markdown",
   "metadata": {},
   "source": [
    "![证明1](img/证明1.png)"
   ]
  },
  {
   "cell_type": "markdown",
   "metadata": {},
   "source": [
    "- 已经在平面上的点，再往平面上进行投影的话，不变。"
   ]
  },
  {
   "cell_type": "markdown",
   "metadata": {},
   "source": [
    "![定理2](img/定理2.png)"
   ]
  },
  {
   "cell_type": "markdown",
   "metadata": {},
   "source": [
    "![显然1](img/显然1.png)"
   ]
  },
  {
   "cell_type": "markdown",
   "metadata": {},
   "source": [
    "- 这点有点类似于矩阵中的列空间和零空间。"
   ]
  },
  {
   "cell_type": "markdown",
   "metadata": {},
   "source": [
    "![证明2](img/证明2.png)\n",
    "- 证明在第四讲 25分钟左右!"
   ]
  },
  {
   "cell_type": "markdown",
   "metadata": {},
   "source": [
    "![线性泛函](img/线性泛函.png)"
   ]
  },
  {
   "cell_type": "markdown",
   "metadata": {},
   "source": [
    "![对偶基](img/对偶基.png)\n",
    "![线性函数內积](img/线性函数內积.png)"
   ]
  },
  {
   "cell_type": "markdown",
   "metadata": {},
   "source": [
    "### 举例说明对偶基\n",
    "- 欧式空间$R^{n}$矩阵$A$，则$A^{-1}$的行向量构成$R^{n}$线性空间的一组对偶基。\n",
    "- 在插值函数中也有这样的例子,基函数$l_{k}(x) = \\prod_{i=0,i \\neq k}^{n} \\frac{x-x_{i}}{x_{k}-x_{i}}$这些基函数就是函数空间中的一个基。因为其满足\n",
    "$$\\begin{split} T_{i}(x_{j}) &= 0 i \\neq j \\\\ T_{i}(x_{i}) &= 1,i =1,2,...,n \\end{split}$$"
   ]
  },
  {
   "cell_type": "markdown",
   "metadata": {},
   "source": [
    "![线性变换和线性映射的区别](img/线性变换和线性映射区别.png)"
   ]
  },
  {
   "cell_type": "markdown",
   "metadata": {},
   "source": [
    "- 第二条就是说: 如果是线性映射，则$T_{x} = YA$,如果是线性变换，则$T_{x} = XA$"
   ]
  },
  {
   "cell_type": "markdown",
   "metadata": {},
   "source": [
    "![线性变换的特殊之处](img/线性变换的特殊之处.png)"
   ]
  },
  {
   "cell_type": "markdown",
   "metadata": {},
   "source": [
    "#### 相似的特点\n",
    "- 自反性 $A$和$A$相似\n",
    "- 对称性 $A$和$B$相似,则$B$和$A$相似\n",
    "- 传递性 $A$和$B$相似,$B$和$C$相似，则$A$和$C$相似。\n",
    "- 具有相同的行列式"
   ]
  },
  {
   "cell_type": "markdown",
   "metadata": {},
   "source": [
    "![相似矩阵](img/相似矩阵.png)"
   ]
  },
  {
   "cell_type": "markdown",
   "metadata": {},
   "source": [
    "- trace(T) = trace(A) = trace(A')"
   ]
  },
  {
   "cell_type": "markdown",
   "metadata": {},
   "source": [
    "![特殊的线性变换](img/特殊的线性变换.png)"
   ]
  },
  {
   "cell_type": "markdown",
   "metadata": {},
   "source": [
    "p44 4,5,7,8,9,11"
   ]
  }
 ],
 "metadata": {
  "kernelspec": {
   "display_name": "Python 3",
   "language": "python",
   "name": "python3"
  },
  "language_info": {
   "codemirror_mode": {
    "name": "ipython",
    "version": 3
   },
   "file_extension": ".py",
   "mimetype": "text/x-python",
   "name": "python",
   "nbconvert_exporter": "python",
   "pygments_lexer": "ipython3",
   "version": "3.5.2rc1"
  }
 },
 "nbformat": 4,
 "nbformat_minor": 1
}
