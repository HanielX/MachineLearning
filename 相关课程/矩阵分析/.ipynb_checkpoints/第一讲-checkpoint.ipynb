{
 "cells": [
  {
   "cell_type": "markdown",
   "metadata": {
    "collapsed": true
   },
   "source": [
    "- 在一个线性空间中任两个线性无关组，若他们所含的向量个数是有限的，则所含向量个数相同\n",
    "- tip: $trace(AB) = trace(BA)$"
   ]
  },
  {
   "cell_type": "markdown",
   "metadata": {},
   "source": [
    "### 线性空间中的基\n",
    "#### 若线性空间V的向量$x_{1},x_{2},...,x_{r}$,满足\n",
    "- $x_{1},x_{2},...,x_{r}$线性无关\n",
    "- $V$中的任意向量是$x_{1},x_{2},...,x_{r}$的线性组合。\n",
    "那么就称$x_{1},x_{2},...,x_{r}$为V的<b>一个<b>基"
   ]
  },
  {
   "cell_type": "markdown",
   "metadata": {},
   "source": [
    "#### 过渡矩阵\n",
    "- 过渡矩阵是基与基之间的一个可逆线性变换，在一个空间$V$下可能存在不同的基。假设有2个基分别为$A,B$。由基$A$到基$B$可以表示为$B=AP$，过渡矩阵$P=A^{-1}B$。它表示的是基与基之间的关系。\n",
    "- 过渡矩阵是非奇异的\n",
    "- 任何一个非奇异矩阵都可以看成是线性空间的两个基之间的过渡矩阵。"
   ]
  },
  {
   "cell_type": "markdown",
   "metadata": {},
   "source": [
    "### 线性空间中基的关系\n",
    "![线性空间中基的关系](img/线性空间中基的关系.png)"
   ]
  },
  {
   "cell_type": "markdown",
   "metadata": {},
   "source": [
    "### 子空间\n",
    "- 仅由零元素构成的子空间为零子空间，其不等于空集。\n",
    "- 两个子空间$V1,V2$的交，和仍为子空间\n",
    "- 子空间V1,V2,V3满足结合律\n",
    "    - $(V1\\cap V2)\\cap V3 = V1 \\cap (V2 \\cap V3)$\n",
    "    - $(V1 + V2) + V3 = V1 + (V2 + V3)$\n",
    "- 子空间的维数定义\n",
    "    - $dim(V1) + dim(V2) = dim(V1 + V2) + dim(V1 \\cap V2)$\n",
    "    "
   ]
  },
  {
   "cell_type": "markdown",
   "metadata": {},
   "source": [
    "### 直和\n",
    "- 若$V1 \\cap V2 = 0$，则$V1+V2$为$V1,V2$的直和。记为$V1 \\oplus V2$\n",
    "- 性质：\n",
    "    - 对于$V1 \\oplus V2$的元素$z$,$V1$和$V2$分别存在唯一$x$,$y$，使得$z = x + y$ ,即$z$的分解唯一。\n",
    "   "
   ]
  },
  {
   "cell_type": "markdown",
   "metadata": {},
   "source": [
    "![习题1](img/习题1.png)"
   ]
  }
 ],
 "metadata": {
  "kernelspec": {
   "display_name": "Python 3",
   "language": "python",
   "name": "python3"
  },
  "language_info": {
   "codemirror_mode": {
    "name": "ipython",
    "version": 3
   },
   "file_extension": ".py",
   "mimetype": "text/x-python",
   "name": "python",
   "nbconvert_exporter": "python",
   "pygments_lexer": "ipython3",
   "version": "3.5.2rc1"
  }
 },
 "nbformat": 4,
 "nbformat_minor": 1
}
