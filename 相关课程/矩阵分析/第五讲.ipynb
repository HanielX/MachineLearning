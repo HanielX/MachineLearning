{
 "cells": [
  {
   "cell_type": "markdown",
   "metadata": {
    "collapsed": true
   },
   "source": [
    "![线性变换的特征值和特征向量](img/线性变换的特征值和特征向量.png)"
   ]
  },
  {
   "cell_type": "markdown",
   "metadata": {},
   "source": [
    "- 变换矩阵$Trace(A) = \\sum_{i=0}^{n} a_{ii} = $所有特征值的和 \n",
    "- Tr(AB) = Tr(BA)\n",
    "- ![性质3](img/性质1.png)"
   ]
  },
  {
   "cell_type": "markdown",
   "metadata": {},
   "source": [
    "### 特殊矩阵\n",
    "- 严格下三角矩阵$L$,和对角矩阵$D$\n",
    "- 下三角矩阵$D+L$,单位下三角矩阵$I+L$(即对角线元素为1的矩阵)\n",
    "- 上三角矩阵$D+L^{T}$,单位上三角矩阵$I+L^{T}$,严格上三角矩阵$L^{T}$"
   ]
  },
  {
   "cell_type": "markdown",
   "metadata": {},
   "source": [
    "### $A^{H}$\n",
    "- 其中$A$是一个复矩阵，$A^{H}$表示$A$的共轭转置(对每个元素取共轭，然后对整个矩阵转置)\n",
    "- 复数取共轭的方法是实数部分相同，而虚部互为相反数，比如$2+2i$和$2-2i$互为共轭"
   ]
  },
  {
   "cell_type": "markdown",
   "metadata": {},
   "source": [
    "### 块对角矩阵，块三角矩阵\n",
    "- 初等矩阵(定义):$E(u,v;\\sigma) = I - \\sigma u v^{H}$\n",
    "- 性质1: $E(u,v;\\sigma)E(u,v;\\tau) = E(u,v;\\sigma + \\tau - \\sigma \\tau v^{H}u)$\n",
    "- 性质2: $det(E(u,v;s)) = 1-s \\times v^{H}u$\n",
    "- 性质3: $L^{n}=0$,$L$为严格下三角矩阵\n",
    "- 性质4: 若对角矩阵$D$的元素各不相同，对于变换矩阵$A$有$DA=AD$,则$A$为对角矩阵"
   ]
  },
  {
   "cell_type": "markdown",
   "metadata": {},
   "source": [
    "### 相似矩阵\n",
    "- 矩阵$B \\in C^{n \\times n}$称为矩阵$A \\in C^{n \\times n}$的相似矩阵，若存在一非奇异矩阵$S \\in C^{n \\times n}$使得$B=S^{-1}AS$。此时，线性变换$A \\mapsto S^{-1}AS$称为矩阵$A$的相似变换。关系“B相似于A”常简写作$B \\sim A$。见《矩阵分析与应用》p117"
   ]
  },
  {
   "cell_type": "markdown",
   "metadata": {},
   "source": [
    "### 定理1.17\n",
    "- 任意$n$阶矩阵$A$与三角矩阵相似，[证明见](https://blog.csdn.net/weixin_39516246/article/details/82932806)\n",
    "视频见43分钟"
   ]
  },
  {
   "cell_type": "markdown",
   "metadata": {},
   "source": [
    "### 定理1.18(Hamilton-Cayley)\n",
    "- $n$阶矩阵$A$是其特征多项式的根，即设$\\varphi(\\lambda) = det(\\lambda I - A) = \\lambda^{n} + a_{1} \\lambda^{n-1} +...+a_{n-1}\\lambda + a_{n}$,则$\\varphi(A) = A^{n}+a_{1}A^{n-1}+...+a_{n-1}A + a_{n}I = 0$\n",
    "- 推论：任何一个$n$阶可逆矩阵$A$的逆可以表示为$A$的次数不超过$n-1$的多项式，即$A^{-1}=g(A)$,其中$g(x)$的为次数不超过$n-1$的多项式。"
   ]
  },
  {
   "cell_type": "markdown",
   "metadata": {},
   "source": [
    "### 最小多项式\n",
    "- 在所有首项系数为1的多项式中使得$A$成为它的根的最小次数多项式$m(\\lambda)$称为$A$的最小多项式。\n",
    "- 定理1.19 矩阵$A$的最小多项式$m(\\lambda)$可整除以$A$为根的任意首项系数为1的多项式$\\psi(\\lambda)$,且$m(\\lambda)$是唯一的。\n",
    "- 定理1.20 矩阵$A$的最小多项式$m(\\lambda)$和特征多项式$\\varphi(\\lambda)$的零点相同。\n",
    "- 定理1.21 设$n$阶矩阵$A$特征多项式$\\varphi(\\lambda)$,特征矩阵$\\lambda I - A$的全体$n-1$阶子式的最大公因式为$d(\\lambda)$,则$A$的最小多项式为$m(\\lambda) = \\frac{\\varphi(\\lambda)}{d(\\lambda)} $"
   ]
  },
  {
   "cell_type": "markdown",
   "metadata": {},
   "source": [
    "### 定义20\n",
    "- 对于给定变换矩阵$A$,向量$u$关于$A$的指标$r$定义为使得$u,Au,A^{2}u,...,A^{r-1}u$线性无关的最大整数。"
   ]
  },
  {
   "cell_type": "markdown",
   "metadata": {},
   "source": [
    "### 定理1.22\n",
    "- 如果$\\lambda_{1}, \\lambda_{2},..,\\lambda_{s}$是矩阵$A$的互不相同的特征值，$x_{1},x_{2},...,x_{s}$是分别属于他们的特征向量，那么$x_{1},x_{2},...,x{s}$线性无关。"
   ]
  }
 ],
 "metadata": {
  "kernelspec": {
   "display_name": "Python 3",
   "language": "python",
   "name": "python3"
  },
  "language_info": {
   "codemirror_mode": {
    "name": "ipython",
    "version": 3
   },
   "file_extension": ".py",
   "mimetype": "text/x-python",
   "name": "python",
   "nbconvert_exporter": "python",
   "pygments_lexer": "ipython3",
   "version": "3.5.2rc1"
  }
 },
 "nbformat": 4,
 "nbformat_minor": 1
}
